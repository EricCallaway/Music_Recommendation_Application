{
 "cells": [
  {
   "cell_type": "code",
   "execution_count": 91,
   "metadata": {},
   "outputs": [],
   "source": [
    "import pandas as pd\n",
    "import numpy as np\n",
    "import random\n",
    "import matplotlib.pyplot as plt\n",
    "\n",
    "from typing import List, Tuple\n",
    "from numpy import shape\n",
    "from keras.models import Sequential\n",
    "from keras.layers import LSTM, Dense\n",
    "from tensorflow import keras\n",
    "from tensorflow.keras import layers\n",
    "from tensorflow.keras.losses import MeanSquaredError\n",
    "from tensorflow.keras.metrics import RootMeanSquaredError\n",
    "from tensorflow.keras.optimizers import Adam\n",
    "from sklearn.model_selection import train_test_split\n",
    "from sklearn.metrics import mean_squared_error\n"
   ]
  },
  {
   "cell_type": "code",
   "execution_count": 38,
   "metadata": {},
   "outputs": [
    {
     "data": {
      "text/html": [
       "<div>\n",
       "<style scoped>\n",
       "    .dataframe tbody tr th:only-of-type {\n",
       "        vertical-align: middle;\n",
       "    }\n",
       "\n",
       "    .dataframe tbody tr th {\n",
       "        vertical-align: top;\n",
       "    }\n",
       "\n",
       "    .dataframe thead th {\n",
       "        text-align: right;\n",
       "    }\n",
       "</style>\n",
       "<table border=\"1\" class=\"dataframe\">\n",
       "  <thead>\n",
       "    <tr style=\"text-align: right;\">\n",
       "      <th></th>\n",
       "      <th>Unnamed: 0</th>\n",
       "      <th>track_id</th>\n",
       "      <th>track_name</th>\n",
       "      <th>track_artist</th>\n",
       "      <th>lyrics</th>\n",
       "      <th>track_album_id</th>\n",
       "      <th>track_album_name</th>\n",
       "      <th>playlist_name</th>\n",
       "      <th>playlist_id</th>\n",
       "      <th>playlist_genre</th>\n",
       "      <th>...</th>\n",
       "      <th>loudness</th>\n",
       "      <th>mode</th>\n",
       "      <th>speechiness</th>\n",
       "      <th>acousticness</th>\n",
       "      <th>instrumentalness</th>\n",
       "      <th>liveness</th>\n",
       "      <th>valence</th>\n",
       "      <th>tempo</th>\n",
       "      <th>duration_ms</th>\n",
       "      <th>language</th>\n",
       "    </tr>\n",
       "  </thead>\n",
       "  <tbody>\n",
       "    <tr>\n",
       "      <th>0</th>\n",
       "      <td>1</td>\n",
       "      <td>004s3t0ONYlzxII9PLgU6z</td>\n",
       "      <td>I Feel Alive</td>\n",
       "      <td>Steady Rollin</td>\n",
       "      <td>trees singing wind sky blue angels smiled saw ...</td>\n",
       "      <td>3z04Lb9Dsilqw68SHt6jLB</td>\n",
       "      <td>Love &amp; Loss</td>\n",
       "      <td>hard rock workout</td>\n",
       "      <td>3YouF0u7waJnolytf9JCXf</td>\n",
       "      <td>rock</td>\n",
       "      <td>...</td>\n",
       "      <td>-4.739</td>\n",
       "      <td>1</td>\n",
       "      <td>0.0442</td>\n",
       "      <td>0.01170</td>\n",
       "      <td>0.00994</td>\n",
       "      <td>0.3470</td>\n",
       "      <td>0.404</td>\n",
       "      <td>135.225</td>\n",
       "      <td>373512</td>\n",
       "      <td>en</td>\n",
       "    </tr>\n",
       "    <tr>\n",
       "      <th>1</th>\n",
       "      <td>2</td>\n",
       "      <td>00chLpzhgVjxs1zKC9UScL</td>\n",
       "      <td>Poison</td>\n",
       "      <td>Bell Biv DeVoe</td>\n",
       "      <td>na yeah spyderman freeze full effect uh huh re...</td>\n",
       "      <td>6oZ6brjB8x3GoeSYdwJdPc</td>\n",
       "      <td>Gold</td>\n",
       "      <td>back day r b new jack swing swingbeat rnb etc</td>\n",
       "      <td>3a9y4eeCJRmG9p4YKfqYIx</td>\n",
       "      <td>r&amp;b</td>\n",
       "      <td>...</td>\n",
       "      <td>-7.504</td>\n",
       "      <td>0</td>\n",
       "      <td>0.2160</td>\n",
       "      <td>0.00432</td>\n",
       "      <td>0.00723</td>\n",
       "      <td>0.4890</td>\n",
       "      <td>0.650</td>\n",
       "      <td>111.904</td>\n",
       "      <td>262467</td>\n",
       "      <td>en</td>\n",
       "    </tr>\n",
       "    <tr>\n",
       "      <th>2</th>\n",
       "      <td>3</td>\n",
       "      <td>00cqd6ZsSkLZqGMlQCR0Zo</td>\n",
       "      <td>Baby It's Cold Outside (feat. Christina Aguilera)</td>\n",
       "      <td>CeeLo Green</td>\n",
       "      <td>really can t stay baby cold outside i ve got g...</td>\n",
       "      <td>3ssspRe42CXkhPxdc12xcp</td>\n",
       "      <td>CeeLo's Magic Moment</td>\n",
       "      <td>christmas soul</td>\n",
       "      <td>6FZYc2BvF7tColxO8PBShV</td>\n",
       "      <td>r&amp;b</td>\n",
       "      <td>...</td>\n",
       "      <td>-5.819</td>\n",
       "      <td>0</td>\n",
       "      <td>0.0341</td>\n",
       "      <td>0.68900</td>\n",
       "      <td>0.00000</td>\n",
       "      <td>0.0664</td>\n",
       "      <td>0.405</td>\n",
       "      <td>118.593</td>\n",
       "      <td>243067</td>\n",
       "      <td>en</td>\n",
       "    </tr>\n",
       "    <tr>\n",
       "      <th>3</th>\n",
       "      <td>4</td>\n",
       "      <td>00emjlCv9azBN0fzuuyLqy</td>\n",
       "      <td>Dumb Litty</td>\n",
       "      <td>KARD</td>\n",
       "      <td>get business keep turning witness criminal fee...</td>\n",
       "      <td>7h5X3xhh3peIK9Y0qI5hbK</td>\n",
       "      <td>KARD 2nd Digital Single ‘Dumb Litty’</td>\n",
       "      <td>k party dance mix</td>\n",
       "      <td>37i9dQZF1DX4RDXswvP6Mj</td>\n",
       "      <td>pop</td>\n",
       "      <td>...</td>\n",
       "      <td>-1.993</td>\n",
       "      <td>1</td>\n",
       "      <td>0.0409</td>\n",
       "      <td>0.03700</td>\n",
       "      <td>0.00000</td>\n",
       "      <td>0.1380</td>\n",
       "      <td>0.240</td>\n",
       "      <td>130.018</td>\n",
       "      <td>193160</td>\n",
       "      <td>en</td>\n",
       "    </tr>\n",
       "    <tr>\n",
       "      <th>4</th>\n",
       "      <td>5</td>\n",
       "      <td>00f9VGHfQhAHMCQ2bSjg3D</td>\n",
       "      <td>Soldier</td>\n",
       "      <td>James TW</td>\n",
       "      <td>hold breath look down keep trying darling okay...</td>\n",
       "      <td>3GNzXsFbzdwM0WKCZtgeNP</td>\n",
       "      <td>Chapters</td>\n",
       "      <td>urban contemporary</td>\n",
       "      <td>4WiB26kw0INKwbzfb5M6Tv</td>\n",
       "      <td>r&amp;b</td>\n",
       "      <td>...</td>\n",
       "      <td>-6.157</td>\n",
       "      <td>1</td>\n",
       "      <td>0.0550</td>\n",
       "      <td>0.28000</td>\n",
       "      <td>0.00000</td>\n",
       "      <td>0.0975</td>\n",
       "      <td>0.305</td>\n",
       "      <td>147.764</td>\n",
       "      <td>224720</td>\n",
       "      <td>en</td>\n",
       "    </tr>\n",
       "  </tbody>\n",
       "</table>\n",
       "<p>5 rows × 24 columns</p>\n",
       "</div>"
      ],
      "text/plain": [
       "   Unnamed: 0                track_id  \\\n",
       "0           1  004s3t0ONYlzxII9PLgU6z   \n",
       "1           2  00chLpzhgVjxs1zKC9UScL   \n",
       "2           3  00cqd6ZsSkLZqGMlQCR0Zo   \n",
       "3           4  00emjlCv9azBN0fzuuyLqy   \n",
       "4           5  00f9VGHfQhAHMCQ2bSjg3D   \n",
       "\n",
       "                                          track_name    track_artist  \\\n",
       "0                                       I Feel Alive   Steady Rollin   \n",
       "1                                             Poison  Bell Biv DeVoe   \n",
       "2  Baby It's Cold Outside (feat. Christina Aguilera)     CeeLo Green   \n",
       "3                                         Dumb Litty            KARD   \n",
       "4                                            Soldier        James TW   \n",
       "\n",
       "                                              lyrics          track_album_id  \\\n",
       "0  trees singing wind sky blue angels smiled saw ...  3z04Lb9Dsilqw68SHt6jLB   \n",
       "1  na yeah spyderman freeze full effect uh huh re...  6oZ6brjB8x3GoeSYdwJdPc   \n",
       "2  really can t stay baby cold outside i ve got g...  3ssspRe42CXkhPxdc12xcp   \n",
       "3  get business keep turning witness criminal fee...  7h5X3xhh3peIK9Y0qI5hbK   \n",
       "4  hold breath look down keep trying darling okay...  3GNzXsFbzdwM0WKCZtgeNP   \n",
       "\n",
       "                       track_album_name  \\\n",
       "0                           Love & Loss   \n",
       "1                                  Gold   \n",
       "2                  CeeLo's Magic Moment   \n",
       "3  KARD 2nd Digital Single ‘Dumb Litty’   \n",
       "4                              Chapters   \n",
       "\n",
       "                                   playlist_name             playlist_id  \\\n",
       "0                              hard rock workout  3YouF0u7waJnolytf9JCXf   \n",
       "1  back day r b new jack swing swingbeat rnb etc  3a9y4eeCJRmG9p4YKfqYIx   \n",
       "2                                 christmas soul  6FZYc2BvF7tColxO8PBShV   \n",
       "3                              k party dance mix  37i9dQZF1DX4RDXswvP6Mj   \n",
       "4                             urban contemporary  4WiB26kw0INKwbzfb5M6Tv   \n",
       "\n",
       "  playlist_genre  ... loudness  mode  speechiness  acousticness  \\\n",
       "0           rock  ...   -4.739     1       0.0442       0.01170   \n",
       "1            r&b  ...   -7.504     0       0.2160       0.00432   \n",
       "2            r&b  ...   -5.819     0       0.0341       0.68900   \n",
       "3            pop  ...   -1.993     1       0.0409       0.03700   \n",
       "4            r&b  ...   -6.157     1       0.0550       0.28000   \n",
       "\n",
       "   instrumentalness  liveness  valence    tempo  duration_ms  language  \n",
       "0           0.00994    0.3470    0.404  135.225       373512        en  \n",
       "1           0.00723    0.4890    0.650  111.904       262467        en  \n",
       "2           0.00000    0.0664    0.405  118.593       243067        en  \n",
       "3           0.00000    0.1380    0.240  130.018       193160        en  \n",
       "4           0.00000    0.0975    0.305  147.764       224720        en  \n",
       "\n",
       "[5 rows x 24 columns]"
      ]
     },
     "execution_count": 38,
     "metadata": {},
     "output_type": "execute_result"
    }
   ],
   "source": [
    "df = pd.read_csv('../datasets/cleaned_RNN_dataset.zip')\n",
    "df.head()"
   ]
  },
  {
   "cell_type": "code",
   "execution_count": 39,
   "metadata": {},
   "outputs": [
    {
     "data": {
      "text/plain": [
       "(15405, 24)"
      ]
     },
     "execution_count": 39,
     "metadata": {},
     "output_type": "execute_result"
    }
   ],
   "source": [
    "df.shape"
   ]
  },
  {
   "attachments": {},
   "cell_type": "markdown",
   "metadata": {},
   "source": [
    "audio_cols is a list of the audio metrics I want to work with."
   ]
  },
  {
   "cell_type": "code",
   "execution_count": 40,
   "metadata": {},
   "outputs": [],
   "source": [
    "audio_cols = ['danceability', 'energy', 'key', 'loudness', 'mode', 'speechiness', 'acousticness', 'instrumentalness', 'liveness', 'valence', 'tempo', 'duration_ms']"
   ]
  },
  {
   "attachments": {},
   "cell_type": "markdown",
   "metadata": {},
   "source": [
    "In the below code: \n",
    "1. I'm grouping the data frame based on the playlist ID's giving me each playlist as its own group.\n",
    "2. Looping through each playlist and formatting them to 36 songs. So each playlist has a consistent 36 songs in them.\n",
    "    - Playlists that have more than 36 songs are randomly reduced to 36.\n",
    "    - Playlist that have less than 36 songs are padded with the average of the original playlist values until they are 36 songs."
   ]
  },
  {
   "cell_type": "code",
   "execution_count": 41,
   "metadata": {},
   "outputs": [],
   "source": [
    "# Group songs by playlist_id\n",
    "grouped = df.groupby('playlist_id')\n",
    "\n",
    "# Create an empty list to store the reshaped data\n",
    "data = []\n",
    "\n",
    "# 36 Was chosen because it was the average number of songs in each playlist.\n",
    "max_songs_per_playlist = 36\n",
    "n_features = 12\n",
    "\n",
    "# Loop over each playlist and reshape the songs into rows\n",
    "for playlist_id, group in grouped:\n",
    "    # Get the songs for the current playlist and sort them by song_id\n",
    "    songs = group.sort_values(by='track_id')\n",
    "    \n",
    "    # Calculate the number of songs in the playlist\n",
    "    n_songs = songs.shape[0]\n",
    "\n",
    "    # Calculate the number of rows we need for the playlist (assuming we want 50 songs per playlist)\n",
    "    n_rows = np.ceil(n_songs / max_songs_per_playlist).astype(int)\n",
    "    songs = pd.concat([songs]*n_rows).reset_index(drop=True)\n",
    "    # Add the playlist_id to each row\n",
    "    songs['playlist_id'] = playlist_id\n",
    "       \n",
    "    # Dropping all columns except for the audio metrics\n",
    "    songs = songs.loc[:, audio_cols]\n",
    "    \n",
    "    # Determine the number of songs in current playlist\n",
    "    num_songs_in_playlist = songs.shape[:2][0]\n",
    "    \n",
    "    if num_songs_in_playlist < max_songs_per_playlist:\n",
    "        songs = songs.reindex(range(36), fill_value=0)\n",
    "    elif num_songs_in_playlist > max_songs_per_playlist:\n",
    "        songs = songs.drop(songs.sample(songs.shape[0] - 36).index)\n",
    "    \n",
    "    col_means = songs.mean()\n",
    "    songs = songs.replace(0, col_means)\n",
    "        \n",
    "    # Add the playlist_id to each row\n",
    "    songs['playlist_id'] = playlist_id\n",
    "    data.append(songs)"
   ]
  },
  {
   "cell_type": "code",
   "execution_count": 42,
   "metadata": {},
   "outputs": [],
   "source": [
    "def create_dependent_independent_vars(audio_metrics: np.ndarray, target_song_index: int):\n",
    "    \"\"\"\n",
    "    Given a playlist, creates the dependent and independent variables (target data)\n",
    "\n",
    "    Args:\n",
    "    - audio_metrics: A 2D numpy array of shape (N, M), where N is the number of songs\n",
    "        in the playlist and M is the number of audio metrics.\n",
    "    - target_song_index: The index of the song to predict\n",
    "    - target_song_audio_metrics: A 1D numpy array of shape (M, ) containing the audio metrics for the target song.\n",
    "\n",
    "    Returns:\n",
    "    - X: A 2D array containing the dependent variables, i.e the metrics of the audio data the model will use to determine the target variable.\n",
    "    -Y: A 1D array containing the target auido metrics that the model is trying to predict.\n",
    "    \n",
    "    \"\"\"\n",
    "    # Remove the target song from the audio metrics array. The axis is set to zero to ensure that a row is removed and not a column.\n",
    "    X = np.delete(audio_metrics, target_song_index, axis=0)\n",
    "\n",
    "    # Remove the target song from the list of audio metrics\n",
    "    Y = audio_metrics[target_song_index]\n",
    "\n",
    "    return X, Y"
   ]
  },
  {
   "attachments": {},
   "cell_type": "markdown",
   "metadata": {},
   "source": [
    "The below code:\n",
    "1. Loops through each playlist\n",
    "2. Chooses a random song as the target variable\n",
    "3. Delegates the rest of the songs as data the model will train on\n",
    "4. Appends each dependent and independent variable match to a list"
   ]
  },
  {
   "cell_type": "code",
   "execution_count": 43,
   "metadata": {},
   "outputs": [],
   "source": [
    "NUM_SONGS = 36\n",
    "\n",
    "x_train_raw = []\n",
    "y_train_raw = []\n",
    "\n",
    "for i in range(len(data)):\n",
    "    target_song_index = random.randint(0, NUM_SONGS-1)\n",
    "    df = data[i]\n",
    "    X, y = create_dependent_independent_vars(audio_metrics=df[audio_cols].values, target_song_index=target_song_index)\n",
    "    x_train_raw.append(X)\n",
    "    y_train_raw.append(y)"
   ]
  },
  {
   "cell_type": "code",
   "execution_count": 44,
   "metadata": {},
   "outputs": [
    {
     "name": "stdout",
     "output_type": "stream",
     "text": [
      "(423, 35, 12)\n",
      "(423, 12)\n"
     ]
    }
   ],
   "source": [
    "x_train_raw = np.array(x_train_raw)\n",
    "y_train_raw = np.array(y_train_raw)\n",
    "\n",
    "print(x_train_raw.shape)\n",
    "print(y_train_raw.shape)"
   ]
  },
  {
   "attachments": {},
   "cell_type": "markdown",
   "metadata": {},
   "source": [
    "Training Set (65%)\n",
    "Validation Set (20%)\n",
    "Testing Set (15%)"
   ]
  },
  {
   "cell_type": "code",
   "execution_count": 57,
   "metadata": {},
   "outputs": [],
   "source": [
    "(X_train, X_test, y_train, y_test) = train_test_split(x_train_raw, y_train_raw, test_size=0.15, shuffle=False)\n",
    "X_train, X_val, y_train, y_val = train_test_split(X_train, y_train, test_size=0.25)"
   ]
  },
  {
   "cell_type": "code",
   "execution_count": 58,
   "metadata": {},
   "outputs": [
    {
     "name": "stdout",
     "output_type": "stream",
     "text": [
      "Model: \"First-RNN-Model\"\n",
      "_________________________________________________________________\n",
      " Layer (type)                Output Shape              Param #   \n",
      "=================================================================\n",
      " Hidden-Recurrent-Layer (Sim  (None, 64)               4928      \n",
      " pleRNN)                                                         \n",
      "                                                                 \n",
      " Output-Layer (Dense)        (None, 12)                780       \n",
      "                                                                 \n",
      "=================================================================\n",
      "Total params: 5,708\n",
      "Trainable params: 5,708\n",
      "Non-trainable params: 0\n",
      "_________________________________________________________________\n",
      "None\n"
     ]
    }
   ],
   "source": [
    "model = keras.models.Sequential(name=\"First-RNN-Model\")\n",
    "model.add(keras.Input(shape=(35,12), name=\"Input Layer\"))\n",
    "model.add(layers.SimpleRNN(64, activation='tanh', name=\"Hidden-Recurrent-Layer\"))\n",
    "model.add(layers.Dense(12, name=\"Output-Layer\"))\n",
    "\n",
    "print(model.summary())"
   ]
  },
  {
   "cell_type": "code",
   "execution_count": 83,
   "metadata": {},
   "outputs": [],
   "source": [
    "model.compile(\n",
    "    optimizer=Adam(learning_rate=0.0001),\n",
    "    loss='mean_squared_logarithmic_error',\n",
    "    metrics=['accuracy'],\n",
    "    loss_weights=None,\n",
    "    weighted_metrics=None,\n",
    "    run_eagerly=None,\n",
    "    steps_per_execution=None\n",
    ")"
   ]
  },
  {
   "cell_type": "code",
   "execution_count": 84,
   "metadata": {},
   "outputs": [
    {
     "name": "stdout",
     "output_type": "stream",
     "text": [
      "Epoch 1/10\n",
      "269/269 [==============================] - 2s 4ms/step - loss: 2.9587 - accuracy: 1.0000 - val_loss: 2.0713 - val_accuracy: 1.0000\n",
      "Epoch 2/10\n",
      "269/269 [==============================] - 1s 4ms/step - loss: 1.8614 - accuracy: 1.0000 - val_loss: 1.9890 - val_accuracy: 1.0000\n",
      "Epoch 3/10\n",
      "269/269 [==============================] - 1s 4ms/step - loss: 1.8133 - accuracy: 1.0000 - val_loss: 1.9889 - val_accuracy: 1.0000\n",
      "Epoch 4/10\n",
      "269/269 [==============================] - 1s 3ms/step - loss: 1.8133 - accuracy: 1.0000 - val_loss: 1.9889 - val_accuracy: 1.0000\n",
      "Epoch 5/10\n",
      "269/269 [==============================] - 1s 3ms/step - loss: 1.8133 - accuracy: 1.0000 - val_loss: 1.9889 - val_accuracy: 1.0000\n",
      "Epoch 6/10\n",
      "269/269 [==============================] - 1s 3ms/step - loss: 1.8133 - accuracy: 1.0000 - val_loss: 1.9889 - val_accuracy: 1.0000\n",
      "Epoch 7/10\n",
      "269/269 [==============================] - 1s 4ms/step - loss: 1.8133 - accuracy: 1.0000 - val_loss: 1.9889 - val_accuracy: 1.0000\n",
      "Epoch 8/10\n",
      "269/269 [==============================] - 1s 4ms/step - loss: 1.8133 - accuracy: 1.0000 - val_loss: 1.9889 - val_accuracy: 1.0000\n",
      "Epoch 9/10\n",
      "269/269 [==============================] - 1s 4ms/step - loss: 1.8133 - accuracy: 1.0000 - val_loss: 1.9889 - val_accuracy: 1.0000\n",
      "Epoch 10/10\n",
      "269/269 [==============================] - 1s 3ms/step - loss: 1.8132 - accuracy: 1.0000 - val_loss: 1.9888 - val_accuracy: 1.0000\n"
     ]
    },
    {
     "data": {
      "text/plain": [
       "<keras.callbacks.History at 0x7fb4dc139e20>"
      ]
     },
     "execution_count": 84,
     "metadata": {},
     "output_type": "execute_result"
    }
   ],
   "source": [
    "model.fit(X_train, \n",
    "          y_train, \n",
    "          validation_data=(X_val, y_val),\n",
    "          epochs=10, \n",
    "          batch_size=1\n",
    "          )"
   ]
  },
  {
   "cell_type": "code",
   "execution_count": 90,
   "metadata": {},
   "outputs": [
    {
     "data": {
      "text/html": [
       "<div>\n",
       "<style scoped>\n",
       "    .dataframe tbody tr th:only-of-type {\n",
       "        vertical-align: middle;\n",
       "    }\n",
       "\n",
       "    .dataframe tbody tr th {\n",
       "        vertical-align: top;\n",
       "    }\n",
       "\n",
       "    .dataframe thead th {\n",
       "        text-align: right;\n",
       "    }\n",
       "</style>\n",
       "<table border=\"1\" class=\"dataframe\">\n",
       "  <thead>\n",
       "    <tr style=\"text-align: right;\">\n",
       "      <th></th>\n",
       "      <th>Train Predictions</th>\n",
       "      <th>Actuals</th>\n",
       "    </tr>\n",
       "  </thead>\n",
       "  <tbody>\n",
       "    <tr>\n",
       "      <th>0</th>\n",
       "      <td>-8778.963867</td>\n",
       "      <td>0.46600</td>\n",
       "    </tr>\n",
       "    <tr>\n",
       "      <th>1</th>\n",
       "      <td>-16746.076172</td>\n",
       "      <td>0.73900</td>\n",
       "    </tr>\n",
       "    <tr>\n",
       "      <th>2</th>\n",
       "      <td>-12111.460938</td>\n",
       "      <td>4.00000</td>\n",
       "    </tr>\n",
       "    <tr>\n",
       "      <th>3</th>\n",
       "      <td>-24079.933594</td>\n",
       "      <td>-6.78200</td>\n",
       "    </tr>\n",
       "    <tr>\n",
       "      <th>4</th>\n",
       "      <td>-29985.441406</td>\n",
       "      <td>1.00000</td>\n",
       "    </tr>\n",
       "    <tr>\n",
       "      <th>...</th>\n",
       "      <td>...</td>\n",
       "      <td>...</td>\n",
       "    </tr>\n",
       "    <tr>\n",
       "      <th>3223</th>\n",
       "      <td>-14155.075195</td>\n",
       "      <td>0.00052</td>\n",
       "    </tr>\n",
       "    <tr>\n",
       "      <th>3224</th>\n",
       "      <td>-16542.736328</td>\n",
       "      <td>0.33600</td>\n",
       "    </tr>\n",
       "    <tr>\n",
       "      <th>3225</th>\n",
       "      <td>-14224.674805</td>\n",
       "      <td>0.27400</td>\n",
       "    </tr>\n",
       "    <tr>\n",
       "      <th>3226</th>\n",
       "      <td>-14604.388672</td>\n",
       "      <td>122.02800</td>\n",
       "    </tr>\n",
       "    <tr>\n",
       "      <th>3227</th>\n",
       "      <td>221340.484375</td>\n",
       "      <td>155410.00000</td>\n",
       "    </tr>\n",
       "  </tbody>\n",
       "</table>\n",
       "<p>3228 rows × 2 columns</p>\n",
       "</div>"
      ],
      "text/plain": [
       "      Train Predictions       Actuals\n",
       "0          -8778.963867       0.46600\n",
       "1         -16746.076172       0.73900\n",
       "2         -12111.460938       4.00000\n",
       "3         -24079.933594      -6.78200\n",
       "4         -29985.441406       1.00000\n",
       "...                 ...           ...\n",
       "3223      -14155.075195       0.00052\n",
       "3224      -16542.736328       0.33600\n",
       "3225      -14224.674805       0.27400\n",
       "3226      -14604.388672     122.02800\n",
       "3227      221340.484375  155410.00000\n",
       "\n",
       "[3228 rows x 2 columns]"
      ]
     },
     "execution_count": 90,
     "metadata": {},
     "output_type": "execute_result"
    }
   ],
   "source": [
    "train_predictions = model.predict(X_train).flatten()\n",
    "train_results = pd.DataFrame(data={'Train Predictions':train_predictions.ravel(), 'Actuals':y_train.ravel()})\n",
    "train_results"
   ]
  },
  {
   "cell_type": "code",
   "execution_count": 96,
   "metadata": {},
   "outputs": [
    {
     "data": {
      "text/plain": [
       "<matplotlib.legend.Legend at 0x7fb4e18f9580>"
      ]
     },
     "execution_count": 96,
     "metadata": {},
     "output_type": "execute_result"
    },
    {
     "data": {
      "image/png": "[encoded data removed]",
      "text/plain": [
       "<Figure size 432x288 with 1 Axes>"
      ]
     },
     "metadata": {
      "needs_background": "light"
     },
     "output_type": "display_data"
    }
   ],
   "source": [
    "plt.plot(train_results['Train Predictions'][50:100])\n",
    "plt.plot(train_results['Actuals'][50:100])\n",
    "plt.title('Training: Predictions Vs. Actual')\n",
    "plt.legend([\"Actual\", \"Predictions\"])\n"
   ]
  },
  {
   "cell_type": "code",
   "execution_count": 97,
   "metadata": {},
   "outputs": [
    {
     "data": {
      "text/html": [
       "<div>\n",
       "<style scoped>\n",
       "    .dataframe tbody tr th:only-of-type {\n",
       "        vertical-align: middle;\n",
       "    }\n",
       "\n",
       "    .dataframe tbody tr th {\n",
       "        vertical-align: top;\n",
       "    }\n",
       "\n",
       "    .dataframe thead th {\n",
       "        text-align: right;\n",
       "    }\n",
       "</style>\n",
       "<table border=\"1\" class=\"dataframe\">\n",
       "  <thead>\n",
       "    <tr style=\"text-align: right;\">\n",
       "      <th></th>\n",
       "      <th>Validation Predictions</th>\n",
       "      <th>Actuals</th>\n",
       "    </tr>\n",
       "  </thead>\n",
       "  <tbody>\n",
       "    <tr>\n",
       "      <th>0</th>\n",
       "      <td>-476.509186</td>\n",
       "      <td>0.044083</td>\n",
       "    </tr>\n",
       "    <tr>\n",
       "      <th>1</th>\n",
       "      <td>-999.020508</td>\n",
       "      <td>0.041083</td>\n",
       "    </tr>\n",
       "    <tr>\n",
       "      <th>2</th>\n",
       "      <td>-846.548767</td>\n",
       "      <td>0.277778</td>\n",
       "    </tr>\n",
       "    <tr>\n",
       "      <th>3</th>\n",
       "      <td>-1543.401489</td>\n",
       "      <td>-0.260222</td>\n",
       "    </tr>\n",
       "    <tr>\n",
       "      <th>4</th>\n",
       "      <td>-1922.664673</td>\n",
       "      <td>0.027778</td>\n",
       "    </tr>\n",
       "    <tr>\n",
       "      <th>...</th>\n",
       "      <td>...</td>\n",
       "      <td>...</td>\n",
       "    </tr>\n",
       "    <tr>\n",
       "      <th>1075</th>\n",
       "      <td>-23941.328125</td>\n",
       "      <td>0.002833</td>\n",
       "    </tr>\n",
       "    <tr>\n",
       "      <th>1076</th>\n",
       "      <td>-23634.248047</td>\n",
       "      <td>0.588000</td>\n",
       "    </tr>\n",
       "    <tr>\n",
       "      <th>1077</th>\n",
       "      <td>-8106.932617</td>\n",
       "      <td>0.533000</td>\n",
       "    </tr>\n",
       "    <tr>\n",
       "      <th>1078</th>\n",
       "      <td>-11703.373047</td>\n",
       "      <td>170.004000</td>\n",
       "    </tr>\n",
       "    <tr>\n",
       "      <th>1079</th>\n",
       "      <td>224453.109375</td>\n",
       "      <td>212235.000000</td>\n",
       "    </tr>\n",
       "  </tbody>\n",
       "</table>\n",
       "<p>1080 rows × 2 columns</p>\n",
       "</div>"
      ],
      "text/plain": [
       "      Validation Predictions        Actuals\n",
       "0                -476.509186       0.044083\n",
       "1                -999.020508       0.041083\n",
       "2                -846.548767       0.277778\n",
       "3               -1543.401489      -0.260222\n",
       "4               -1922.664673       0.027778\n",
       "...                      ...            ...\n",
       "1075           -23941.328125       0.002833\n",
       "1076           -23634.248047       0.588000\n",
       "1077            -8106.932617       0.533000\n",
       "1078           -11703.373047     170.004000\n",
       "1079           224453.109375  212235.000000\n",
       "\n",
       "[1080 rows x 2 columns]"
      ]
     },
     "execution_count": 97,
     "metadata": {},
     "output_type": "execute_result"
    }
   ],
   "source": [
    "val_predictions = model.predict(X_val).flatten()\n",
    "val_results = pd.DataFrame(data={'Validation Predictions':val_predictions.ravel(), 'Actuals':y_val.ravel()})\n",
    "val_results"
   ]
  },
  {
   "cell_type": "code",
   "execution_count": 99,
   "metadata": {},
   "outputs": [
    {
     "data": {
      "text/plain": [
       "<matplotlib.legend.Legend at 0x7fb4e31d6970>"
      ]
     },
     "execution_count": 99,
     "metadata": {},
     "output_type": "execute_result"
    },
    {
     "data": {
      "image/png": "[encoded data removed]",
      "text/plain": [
       "<Figure size 432x288 with 1 Axes>"
      ]
     },
     "metadata": {
      "needs_background": "light"
     },
     "output_type": "display_data"
    }
   ],
   "source": [
    "plt.plot(val_results['Validation Predictions'][50:100])\n",
    "plt.plot(val_results['Actuals'][50:100])\n",
    "plt.title('Validation: Predictions Vs. Actual')\n",
    "plt.legend([\"Actual\", \"Predictions\"])"
   ]
  },
  {
   "cell_type": "code",
   "execution_count": 100,
   "metadata": {},
   "outputs": [
    {
     "data": {
      "text/html": [
       "<div>\n",
       "<style scoped>\n",
       "    .dataframe tbody tr th:only-of-type {\n",
       "        vertical-align: middle;\n",
       "    }\n",
       "\n",
       "    .dataframe tbody tr th {\n",
       "        vertical-align: top;\n",
       "    }\n",
       "\n",
       "    .dataframe thead th {\n",
       "        text-align: right;\n",
       "    }\n",
       "</style>\n",
       "<table border=\"1\" class=\"dataframe\">\n",
       "  <thead>\n",
       "    <tr style=\"text-align: right;\">\n",
       "      <th></th>\n",
       "      <th>Testing Predictions</th>\n",
       "      <th>Actuals</th>\n",
       "    </tr>\n",
       "  </thead>\n",
       "  <tbody>\n",
       "    <tr>\n",
       "      <th>0</th>\n",
       "      <td>-5740.039062</td>\n",
       "      <td>0.742000</td>\n",
       "    </tr>\n",
       "    <tr>\n",
       "      <th>1</th>\n",
       "      <td>-24166.464844</td>\n",
       "      <td>0.930000</td>\n",
       "    </tr>\n",
       "    <tr>\n",
       "      <th>2</th>\n",
       "      <td>-18656.318359</td>\n",
       "      <td>9.000000</td>\n",
       "    </tr>\n",
       "    <tr>\n",
       "      <th>3</th>\n",
       "      <td>-32934.191406</td>\n",
       "      <td>-3.669000</td>\n",
       "    </tr>\n",
       "    <tr>\n",
       "      <th>4</th>\n",
       "      <td>-41299.558594</td>\n",
       "      <td>1.000000</td>\n",
       "    </tr>\n",
       "    <tr>\n",
       "      <th>...</th>\n",
       "      <td>...</td>\n",
       "      <td>...</td>\n",
       "    </tr>\n",
       "    <tr>\n",
       "      <th>763</th>\n",
       "      <td>-406.198212</td>\n",
       "      <td>0.000000</td>\n",
       "    </tr>\n",
       "    <tr>\n",
       "      <th>764</th>\n",
       "      <td>-350.156403</td>\n",
       "      <td>0.009861</td>\n",
       "    </tr>\n",
       "    <tr>\n",
       "      <th>765</th>\n",
       "      <td>-245.727539</td>\n",
       "      <td>0.017389</td>\n",
       "    </tr>\n",
       "    <tr>\n",
       "      <th>766</th>\n",
       "      <td>-270.269806</td>\n",
       "      <td>3.608639</td>\n",
       "    </tr>\n",
       "    <tr>\n",
       "      <th>767</th>\n",
       "      <td>4343.848145</td>\n",
       "      <td>3769.222222</td>\n",
       "    </tr>\n",
       "  </tbody>\n",
       "</table>\n",
       "<p>768 rows × 2 columns</p>\n",
       "</div>"
      ],
      "text/plain": [
       "     Testing Predictions      Actuals\n",
       "0           -5740.039062     0.742000\n",
       "1          -24166.464844     0.930000\n",
       "2          -18656.318359     9.000000\n",
       "3          -32934.191406    -3.669000\n",
       "4          -41299.558594     1.000000\n",
       "..                   ...          ...\n",
       "763          -406.198212     0.000000\n",
       "764          -350.156403     0.009861\n",
       "765          -245.727539     0.017389\n",
       "766          -270.269806     3.608639\n",
       "767          4343.848145  3769.222222\n",
       "\n",
       "[768 rows x 2 columns]"
      ]
     },
     "execution_count": 100,
     "metadata": {},
     "output_type": "execute_result"
    }
   ],
   "source": [
    "test_predictions = model.predict(X_test).flatten()\n",
    "test_results = pd.DataFrame(data={'Testing Predictions':test_predictions.ravel(), 'Actuals':y_test.ravel()})\n",
    "test_results"
   ]
  },
  {
   "cell_type": "code",
   "execution_count": 101,
   "metadata": {},
   "outputs": [
    {
     "data": {
      "text/plain": [
       "<matplotlib.legend.Legend at 0x7fb4e32408e0>"
      ]
     },
     "execution_count": 101,
     "metadata": {},
     "output_type": "execute_result"
    },
    {
     "data": {
      "image/png": "[encoded data removed]",
      "text/plain": [
       "<Figure size 432x288 with 1 Axes>"
      ]
     },
     "metadata": {
      "needs_background": "light"
     },
     "output_type": "display_data"
    }
   ],
   "source": [
    "plt.plot(test_results['Testing Predictions'][50:100])\n",
    "plt.plot(test_results['Actuals'][50:100])\n",
    "plt.title('Testing: Predictions Vs. Actual')\n",
    "plt.legend([\"Actual\", \"Predictions\"])"
   ]
  },
  {
   "cell_type": "code",
   "execution_count": 49,
   "metadata": {},
   "outputs": [
    {
     "name": "stdout",
     "output_type": "stream",
     "text": [
      "<class 'pandas.core.frame.DataFrame'>\n",
      "RangeIndex: 36 entries, 0 to 35\n",
      "Data columns (total 13 columns):\n",
      " #   Column            Non-Null Count  Dtype  \n",
      "---  ------            --------------  -----  \n",
      " 0   danceability      36 non-null     float64\n",
      " 1   energy            36 non-null     float64\n",
      " 2   key               36 non-null     float64\n",
      " 3   loudness          36 non-null     float64\n",
      " 4   mode              36 non-null     int64  \n",
      " 5   speechiness       36 non-null     float64\n",
      " 6   acousticness      36 non-null     float64\n",
      " 7   instrumentalness  36 non-null     float64\n",
      " 8   liveness          36 non-null     float64\n",
      " 9   valence           36 non-null     float64\n",
      " 10  tempo             36 non-null     float64\n",
      " 11  duration_ms       36 non-null     float64\n",
      " 12  playlist_id       36 non-null     object \n",
      "dtypes: float64(11), int64(1), object(1)\n",
      "memory usage: 3.8+ KB\n"
     ]
    }
   ],
   "source": [
    "df.info()"
   ]
  }
 ],
 "metadata": {
  "kernelspec": {
   "display_name": "Python 3",
   "language": "python",
   "name": "python3"
  },
  "language_info": {
   "codemirror_mode": {
    "name": "ipython",
    "version": 3
   },
   "file_extension": ".py",
   "mimetype": "text/x-python",
   "name": "python",
   "nbconvert_exporter": "python",
   "pygments_lexer": "ipython3",
   "version": "3.9.6"
  },
  "orig_nbformat": 4,
  "vscode": {
   "interpreter": {
    "hash": "aee8b7b246df8f9039afb4144a1f6fd8d2ca17a180786b69acc140d282b71a49"
   }
  }
 },
 "nbformat": 4,
 "nbformat_minor": 2
}
