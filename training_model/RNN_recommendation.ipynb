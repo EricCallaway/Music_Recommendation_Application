{
 "cells": [
  {
   "cell_type": "code",
   "execution_count": 1,
   "metadata": {},
   "outputs": [
    {
     "name": "stderr",
     "output_type": "stream",
     "text": [
      "2023-04-24 20:24:35.992215: I tensorflow/core/platform/cpu_feature_guard.cc:182] This TensorFlow binary is optimized to use available CPU instructions in performance-critical operations.\n",
      "To enable the following instructions: AVX2 FMA, in other operations, rebuild TensorFlow with the appropriate compiler flags.\n"
     ]
    }
   ],
   "source": [
    "import pandas as pd\n",
    "import numpy as np\n",
    "import random\n",
    "import matplotlib.pyplot as plt\n",
    "import joblib\n",
    "\n",
    "from typing import List, Tuple\n",
    "from numpy import shape\n",
    "from keras.models import Sequential\n",
    "from keras.layers import LSTM, Dense\n",
    "from tensorflow import keras\n",
    "from tensorflow.keras import layers\n",
    "from tensorflow.keras.losses import MeanSquaredError\n",
    "from tensorflow.keras.metrics import RootMeanSquaredError\n",
    "from tensorflow.keras.optimizers import Adam\n",
    "\n",
    "from sklearn.model_selection import train_test_split\n",
    "from sklearn.metrics import mean_squared_error"
   ]
  },
  {
   "cell_type": "code",
   "execution_count": 2,
   "metadata": {},
   "outputs": [
    {
     "data": {
      "text/html": [
       "<div>\n",
       "<style scoped>\n",
       "    .dataframe tbody tr th:only-of-type {\n",
       "        vertical-align: middle;\n",
       "    }\n",
       "\n",
       "    .dataframe tbody tr th {\n",
       "        vertical-align: top;\n",
       "    }\n",
       "\n",
       "    .dataframe thead th {\n",
       "        text-align: right;\n",
       "    }\n",
       "</style>\n",
       "<table border=\"1\" class=\"dataframe\">\n",
       "  <thead>\n",
       "    <tr style=\"text-align: right;\">\n",
       "      <th></th>\n",
       "      <th>Unnamed: 0</th>\n",
       "      <th>track_id</th>\n",
       "      <th>track_name</th>\n",
       "      <th>track_artist</th>\n",
       "      <th>lyrics</th>\n",
       "      <th>track_album_id</th>\n",
       "      <th>track_album_name</th>\n",
       "      <th>playlist_name</th>\n",
       "      <th>playlist_id</th>\n",
       "      <th>playlist_genre</th>\n",
       "      <th>...</th>\n",
       "      <th>loudness</th>\n",
       "      <th>mode</th>\n",
       "      <th>speechiness</th>\n",
       "      <th>acousticness</th>\n",
       "      <th>instrumentalness</th>\n",
       "      <th>liveness</th>\n",
       "      <th>valence</th>\n",
       "      <th>tempo</th>\n",
       "      <th>duration_ms</th>\n",
       "      <th>language</th>\n",
       "    </tr>\n",
       "  </thead>\n",
       "  <tbody>\n",
       "    <tr>\n",
       "      <th>0</th>\n",
       "      <td>1</td>\n",
       "      <td>004s3t0ONYlzxII9PLgU6z</td>\n",
       "      <td>I Feel Alive</td>\n",
       "      <td>Steady Rollin</td>\n",
       "      <td>trees singing wind sky blue angels smiled saw ...</td>\n",
       "      <td>3z04Lb9Dsilqw68SHt6jLB</td>\n",
       "      <td>Love &amp; Loss</td>\n",
       "      <td>hard rock workout</td>\n",
       "      <td>3YouF0u7waJnolytf9JCXf</td>\n",
       "      <td>rock</td>\n",
       "      <td>...</td>\n",
       "      <td>-4.739</td>\n",
       "      <td>1</td>\n",
       "      <td>0.0442</td>\n",
       "      <td>0.01170</td>\n",
       "      <td>0.00994</td>\n",
       "      <td>0.3470</td>\n",
       "      <td>0.404</td>\n",
       "      <td>135.225</td>\n",
       "      <td>373512</td>\n",
       "      <td>en</td>\n",
       "    </tr>\n",
       "    <tr>\n",
       "      <th>1</th>\n",
       "      <td>2</td>\n",
       "      <td>00chLpzhgVjxs1zKC9UScL</td>\n",
       "      <td>Poison</td>\n",
       "      <td>Bell Biv DeVoe</td>\n",
       "      <td>na yeah spyderman freeze full effect uh huh re...</td>\n",
       "      <td>6oZ6brjB8x3GoeSYdwJdPc</td>\n",
       "      <td>Gold</td>\n",
       "      <td>back day r b new jack swing swingbeat rnb etc</td>\n",
       "      <td>3a9y4eeCJRmG9p4YKfqYIx</td>\n",
       "      <td>r&amp;b</td>\n",
       "      <td>...</td>\n",
       "      <td>-7.504</td>\n",
       "      <td>0</td>\n",
       "      <td>0.2160</td>\n",
       "      <td>0.00432</td>\n",
       "      <td>0.00723</td>\n",
       "      <td>0.4890</td>\n",
       "      <td>0.650</td>\n",
       "      <td>111.904</td>\n",
       "      <td>262467</td>\n",
       "      <td>en</td>\n",
       "    </tr>\n",
       "    <tr>\n",
       "      <th>2</th>\n",
       "      <td>3</td>\n",
       "      <td>00cqd6ZsSkLZqGMlQCR0Zo</td>\n",
       "      <td>Baby It's Cold Outside (feat. Christina Aguilera)</td>\n",
       "      <td>CeeLo Green</td>\n",
       "      <td>really can t stay baby cold outside i ve got g...</td>\n",
       "      <td>3ssspRe42CXkhPxdc12xcp</td>\n",
       "      <td>CeeLo's Magic Moment</td>\n",
       "      <td>christmas soul</td>\n",
       "      <td>6FZYc2BvF7tColxO8PBShV</td>\n",
       "      <td>r&amp;b</td>\n",
       "      <td>...</td>\n",
       "      <td>-5.819</td>\n",
       "      <td>0</td>\n",
       "      <td>0.0341</td>\n",
       "      <td>0.68900</td>\n",
       "      <td>0.00000</td>\n",
       "      <td>0.0664</td>\n",
       "      <td>0.405</td>\n",
       "      <td>118.593</td>\n",
       "      <td>243067</td>\n",
       "      <td>en</td>\n",
       "    </tr>\n",
       "    <tr>\n",
       "      <th>3</th>\n",
       "      <td>4</td>\n",
       "      <td>00emjlCv9azBN0fzuuyLqy</td>\n",
       "      <td>Dumb Litty</td>\n",
       "      <td>KARD</td>\n",
       "      <td>get business keep turning witness criminal fee...</td>\n",
       "      <td>7h5X3xhh3peIK9Y0qI5hbK</td>\n",
       "      <td>KARD 2nd Digital Single ‘Dumb Litty’</td>\n",
       "      <td>k party dance mix</td>\n",
       "      <td>37i9dQZF1DX4RDXswvP6Mj</td>\n",
       "      <td>pop</td>\n",
       "      <td>...</td>\n",
       "      <td>-1.993</td>\n",
       "      <td>1</td>\n",
       "      <td>0.0409</td>\n",
       "      <td>0.03700</td>\n",
       "      <td>0.00000</td>\n",
       "      <td>0.1380</td>\n",
       "      <td>0.240</td>\n",
       "      <td>130.018</td>\n",
       "      <td>193160</td>\n",
       "      <td>en</td>\n",
       "    </tr>\n",
       "    <tr>\n",
       "      <th>4</th>\n",
       "      <td>5</td>\n",
       "      <td>00f9VGHfQhAHMCQ2bSjg3D</td>\n",
       "      <td>Soldier</td>\n",
       "      <td>James TW</td>\n",
       "      <td>hold breath look down keep trying darling okay...</td>\n",
       "      <td>3GNzXsFbzdwM0WKCZtgeNP</td>\n",
       "      <td>Chapters</td>\n",
       "      <td>urban contemporary</td>\n",
       "      <td>4WiB26kw0INKwbzfb5M6Tv</td>\n",
       "      <td>r&amp;b</td>\n",
       "      <td>...</td>\n",
       "      <td>-6.157</td>\n",
       "      <td>1</td>\n",
       "      <td>0.0550</td>\n",
       "      <td>0.28000</td>\n",
       "      <td>0.00000</td>\n",
       "      <td>0.0975</td>\n",
       "      <td>0.305</td>\n",
       "      <td>147.764</td>\n",
       "      <td>224720</td>\n",
       "      <td>en</td>\n",
       "    </tr>\n",
       "  </tbody>\n",
       "</table>\n",
       "<p>5 rows × 24 columns</p>\n",
       "</div>"
      ],
      "text/plain": [
       "   Unnamed: 0                track_id  \\\n",
       "0           1  004s3t0ONYlzxII9PLgU6z   \n",
       "1           2  00chLpzhgVjxs1zKC9UScL   \n",
       "2           3  00cqd6ZsSkLZqGMlQCR0Zo   \n",
       "3           4  00emjlCv9azBN0fzuuyLqy   \n",
       "4           5  00f9VGHfQhAHMCQ2bSjg3D   \n",
       "\n",
       "                                          track_name    track_artist  \\\n",
       "0                                       I Feel Alive   Steady Rollin   \n",
       "1                                             Poison  Bell Biv DeVoe   \n",
       "2  Baby It's Cold Outside (feat. Christina Aguilera)     CeeLo Green   \n",
       "3                                         Dumb Litty            KARD   \n",
       "4                                            Soldier        James TW   \n",
       "\n",
       "                                              lyrics          track_album_id  \\\n",
       "0  trees singing wind sky blue angels smiled saw ...  3z04Lb9Dsilqw68SHt6jLB   \n",
       "1  na yeah spyderman freeze full effect uh huh re...  6oZ6brjB8x3GoeSYdwJdPc   \n",
       "2  really can t stay baby cold outside i ve got g...  3ssspRe42CXkhPxdc12xcp   \n",
       "3  get business keep turning witness criminal fee...  7h5X3xhh3peIK9Y0qI5hbK   \n",
       "4  hold breath look down keep trying darling okay...  3GNzXsFbzdwM0WKCZtgeNP   \n",
       "\n",
       "                       track_album_name  \\\n",
       "0                           Love & Loss   \n",
       "1                                  Gold   \n",
       "2                  CeeLo's Magic Moment   \n",
       "3  KARD 2nd Digital Single ‘Dumb Litty’   \n",
       "4                              Chapters   \n",
       "\n",
       "                                   playlist_name             playlist_id  \\\n",
       "0                              hard rock workout  3YouF0u7waJnolytf9JCXf   \n",
       "1  back day r b new jack swing swingbeat rnb etc  3a9y4eeCJRmG9p4YKfqYIx   \n",
       "2                                 christmas soul  6FZYc2BvF7tColxO8PBShV   \n",
       "3                              k party dance mix  37i9dQZF1DX4RDXswvP6Mj   \n",
       "4                             urban contemporary  4WiB26kw0INKwbzfb5M6Tv   \n",
       "\n",
       "  playlist_genre  ... loudness  mode  speechiness  acousticness  \\\n",
       "0           rock  ...   -4.739     1       0.0442       0.01170   \n",
       "1            r&b  ...   -7.504     0       0.2160       0.00432   \n",
       "2            r&b  ...   -5.819     0       0.0341       0.68900   \n",
       "3            pop  ...   -1.993     1       0.0409       0.03700   \n",
       "4            r&b  ...   -6.157     1       0.0550       0.28000   \n",
       "\n",
       "   instrumentalness  liveness  valence    tempo  duration_ms  language  \n",
       "0           0.00994    0.3470    0.404  135.225       373512        en  \n",
       "1           0.00723    0.4890    0.650  111.904       262467        en  \n",
       "2           0.00000    0.0664    0.405  118.593       243067        en  \n",
       "3           0.00000    0.1380    0.240  130.018       193160        en  \n",
       "4           0.00000    0.0975    0.305  147.764       224720        en  \n",
       "\n",
       "[5 rows x 24 columns]"
      ]
     },
     "execution_count": 2,
     "metadata": {},
     "output_type": "execute_result"
    }
   ],
   "source": [
    "df = pd.read_csv('../datasets/cleaned_RNN_dataset.zip')\n",
    "df.head()"
   ]
  },
  {
   "cell_type": "code",
   "execution_count": 3,
   "metadata": {},
   "outputs": [
    {
     "data": {
      "text/plain": [
       "(15405, 24)"
      ]
     },
     "execution_count": 3,
     "metadata": {},
     "output_type": "execute_result"
    }
   ],
   "source": [
    "df.shape"
   ]
  },
  {
   "attachments": {},
   "cell_type": "markdown",
   "metadata": {},
   "source": [
    "audio_cols is a list of the audio metrics I want to work with."
   ]
  },
  {
   "cell_type": "code",
   "execution_count": 4,
   "metadata": {},
   "outputs": [],
   "source": [
    "audio_cols = ['danceability', 'energy', 'key', 'loudness', 'mode', 'speechiness', 'acousticness', 'instrumentalness', 'liveness', 'valence', 'tempo', 'duration_ms']"
   ]
  },
  {
   "attachments": {},
   "cell_type": "markdown",
   "metadata": {},
   "source": [
    "In the below code: \n",
    "1. I'm grouping the data frame based on the playlist ID's giving me each playlist as its own group.\n",
    "2. Looping through each playlist and formatting them to 36 songs. So each playlist has a consistent 36 songs in them.\n",
    "    - Playlists that have more than 36 songs are randomly reduced to 36.\n",
    "    - Playlist that have less than 36 songs are padded with the average of the original playlist values until they are 36 songs."
   ]
  },
  {
   "cell_type": "code",
   "execution_count": 5,
   "metadata": {},
   "outputs": [],
   "source": [
    "# Group songs by playlist_id\n",
    "grouped = df.groupby('playlist_id')\n",
    "\n",
    "# Create an empty list to store the reshaped data\n",
    "data = []\n",
    "\n",
    "# 36 Was chosen because it was the average number of songs in each playlist.\n",
    "max_songs_per_playlist = 36\n",
    "n_features = 12\n",
    "\n",
    "# Loop over each playlist and reshape the songs into rows\n",
    "for playlist_id, group in grouped:\n",
    "    # Get the songs for the current playlist and sort them by song_id\n",
    "    songs = group.sort_values(by='track_id')\n",
    "    \n",
    "    # Calculate the number of songs in the playlist\n",
    "    n_songs = songs.shape[0]\n",
    "\n",
    "    # Calculate the number of rows we need for the playlist (assuming we want 50 songs per playlist)\n",
    "    n_rows = np.ceil(n_songs / max_songs_per_playlist).astype(int)\n",
    "    songs = pd.concat([songs]*n_rows).reset_index(drop=True)\n",
    "    # Add the playlist_id to each row\n",
    "    songs['playlist_id'] = playlist_id\n",
    "       \n",
    "    # Dropping all columns except for the audio metrics\n",
    "    songs = songs.loc[:, audio_cols]\n",
    "    \n",
    "    # Determine the number of songs in current playlist\n",
    "    num_songs_in_playlist = songs.shape[:2][0]\n",
    "    \n",
    "    if num_songs_in_playlist < max_songs_per_playlist:\n",
    "        songs = songs.reindex(range(max_songs_per_playlist), fill_value=0)\n",
    "    elif num_songs_in_playlist > max_songs_per_playlist:\n",
    "        songs = songs.drop(songs.sample(songs.shape[0] - max_songs_per_playlist).index)\n",
    "    \n",
    "    col_means = songs.mean()\n",
    "    songs = songs.replace(0, col_means)\n",
    "        \n",
    "    # Add the playlist_id to each row\n",
    "    songs['playlist_id'] = playlist_id\n",
    "    data.append(songs)"
   ]
  },
  {
   "cell_type": "code",
   "execution_count": 6,
   "metadata": {},
   "outputs": [],
   "source": [
    "def create_dependent_independent_vars(audio_metrics: np.ndarray, target_song_index: int):\n",
    "    \"\"\"\n",
    "    Given a playlist, creates the dependent and independent variables (target data)\n",
    "\n",
    "    Args:\n",
    "    - audio_metrics: A 2D numpy array of shape (N, M), where N is the number of songs\n",
    "        in the playlist and M is the number of audio metrics.\n",
    "    - target_song_index: The index of the song to predict\n",
    "    - target_song_audio_metrics: A 1D numpy array of shape (M, ) containing the audio metrics for the target song.\n",
    "\n",
    "    Returns:\n",
    "    - X: A 2D array containing the dependent variables, i.e the metrics of the audio data the model will use to determine the target variable.\n",
    "    -Y: A 1D array containing the target auido metrics that the model is trying to predict.\n",
    "    \n",
    "    \"\"\"\n",
    "    # Remove the target song from the audio metrics array. The axis is set to zero to ensure that a row is removed and not a column.\n",
    "    X = np.delete(audio_metrics, target_song_index, axis=0)\n",
    "\n",
    "    # Remove the target song from the list of audio metrics\n",
    "    Y = audio_metrics[target_song_index]\n",
    "\n",
    "    return X, Y"
   ]
  },
  {
   "attachments": {},
   "cell_type": "markdown",
   "metadata": {},
   "source": [
    "The below code:\n",
    "1. Loops through each playlist\n",
    "2. Chooses a random song as the target variable\n",
    "3. Delegates the rest of the songs as data the model will train on\n",
    "4. Appends each dependent and independent variable match to a list"
   ]
  },
  {
   "cell_type": "code",
   "execution_count": 7,
   "metadata": {},
   "outputs": [],
   "source": [
    "NUM_SONGS = 36\n",
    "\n",
    "x_train_raw = []\n",
    "y_train_raw = []\n",
    "\n",
    "for i in range(len(data)):\n",
    "    target_song_index = random.randint(0, NUM_SONGS-1)\n",
    "    df = data[i]\n",
    "    X, y = create_dependent_independent_vars(audio_metrics=df[audio_cols].values, target_song_index=target_song_index)\n",
    "    x_train_raw.append(X)\n",
    "    y_train_raw.append(y)"
   ]
  },
  {
   "cell_type": "code",
   "execution_count": 8,
   "metadata": {},
   "outputs": [
    {
     "name": "stdout",
     "output_type": "stream",
     "text": [
      "(423, 35, 12)\n",
      "(423, 12)\n"
     ]
    }
   ],
   "source": [
    "x_train_raw = np.array(x_train_raw)\n",
    "y_train_raw = np.array(y_train_raw)\n",
    "\n",
    "print(x_train_raw.shape)\n",
    "print(y_train_raw.shape)"
   ]
  },
  {
   "attachments": {},
   "cell_type": "markdown",
   "metadata": {},
   "source": [
    "Training Set (65%)\n",
    "Validation Set (20%)\n",
    "Testing Set (15%)"
   ]
  },
  {
   "cell_type": "code",
   "execution_count": 9,
   "metadata": {},
   "outputs": [],
   "source": [
    "(X_train, X_test, y_train, y_test) = train_test_split(x_train_raw, y_train_raw, test_size=0.15, shuffle=False)\n",
    "X_train, X_val, y_train, y_val = train_test_split(X_train, y_train, test_size=0.25)"
   ]
  },
  {
   "cell_type": "code",
   "execution_count": 10,
   "metadata": {},
   "outputs": [
    {
     "ename": "ValueError",
     "evalue": "Input 0 of layer \"simple_rnn_1\" is incompatible with the layer: expected ndim=3, found ndim=2. Full shape received: (None, 16)",
     "output_type": "error",
     "traceback": [
      "\u001b[0;31m---------------------------------------------------------------------------\u001b[0m",
      "\u001b[0;31mValueError\u001b[0m                                Traceback (most recent call last)",
      "\u001b[1;32m/Users/ericcallaway/Google Drive/School Work/Spring 2023/Final_Year_Project/Music_Recommnedation_Application/training_model/RNN_recommendation.ipynb Cell 14\u001b[0m in \u001b[0;36m<cell line: 4>\u001b[0;34m()\u001b[0m\n\u001b[1;32m      <a href='vscode-notebook-cell:/Users/ericcallaway/Google%20Drive/School%20Work/Spring%202023/Final_Year_Project/Music_Recommnedation_Application/training_model/RNN_recommendation.ipynb#X16sZmlsZQ%3D%3D?line=1'>2</a>\u001b[0m model\u001b[39m.\u001b[39madd(keras\u001b[39m.\u001b[39mInput(shape\u001b[39m=\u001b[39m(NUM_SONGS\u001b[39m-\u001b[39m\u001b[39m1\u001b[39m,\u001b[39m12\u001b[39m)))\n\u001b[1;32m      <a href='vscode-notebook-cell:/Users/ericcallaway/Google%20Drive/School%20Work/Spring%202023/Final_Year_Project/Music_Recommnedation_Application/training_model/RNN_recommendation.ipynb#X16sZmlsZQ%3D%3D?line=2'>3</a>\u001b[0m model\u001b[39m.\u001b[39madd(layers\u001b[39m.\u001b[39mSimpleRNN(\u001b[39m16\u001b[39m, activation\u001b[39m=\u001b[39m\u001b[39m'\u001b[39m\u001b[39mtanh\u001b[39m\u001b[39m'\u001b[39m))\n\u001b[0;32m----> <a href='vscode-notebook-cell:/Users/ericcallaway/Google%20Drive/School%20Work/Spring%202023/Final_Year_Project/Music_Recommnedation_Application/training_model/RNN_recommendation.ipynb#X16sZmlsZQ%3D%3D?line=3'>4</a>\u001b[0m model\u001b[39m.\u001b[39;49madd(layers\u001b[39m.\u001b[39;49mSimpleRNN(\u001b[39m16\u001b[39;49m, activation\u001b[39m=\u001b[39;49m\u001b[39m'\u001b[39;49m\u001b[39mtanh\u001b[39;49m\u001b[39m'\u001b[39;49m))\n\u001b[1;32m      <a href='vscode-notebook-cell:/Users/ericcallaway/Google%20Drive/School%20Work/Spring%202023/Final_Year_Project/Music_Recommnedation_Application/training_model/RNN_recommendation.ipynb#X16sZmlsZQ%3D%3D?line=4'>5</a>\u001b[0m model\u001b[39m.\u001b[39madd(layers\u001b[39m.\u001b[39mDense(\u001b[39m12\u001b[39m))\n\u001b[1;32m      <a href='vscode-notebook-cell:/Users/ericcallaway/Google%20Drive/School%20Work/Spring%202023/Final_Year_Project/Music_Recommnedation_Application/training_model/RNN_recommendation.ipynb#X16sZmlsZQ%3D%3D?line=6'>7</a>\u001b[0m \u001b[39mprint\u001b[39m(model\u001b[39m.\u001b[39msummary())\n",
      "File \u001b[0;32m/Library/Frameworks/Python.framework/Versions/3.9/lib/python3.9/site-packages/tensorflow/python/trackable/base.py:205\u001b[0m, in \u001b[0;36mno_automatic_dependency_tracking.<locals>._method_wrapper\u001b[0;34m(self, *args, **kwargs)\u001b[0m\n\u001b[1;32m    203\u001b[0m \u001b[39mself\u001b[39m\u001b[39m.\u001b[39m_self_setattr_tracking \u001b[39m=\u001b[39m \u001b[39mFalse\u001b[39;00m  \u001b[39m# pylint: disable=protected-access\u001b[39;00m\n\u001b[1;32m    204\u001b[0m \u001b[39mtry\u001b[39;00m:\n\u001b[0;32m--> 205\u001b[0m   result \u001b[39m=\u001b[39m method(\u001b[39mself\u001b[39;49m, \u001b[39m*\u001b[39;49margs, \u001b[39m*\u001b[39;49m\u001b[39m*\u001b[39;49mkwargs)\n\u001b[1;32m    206\u001b[0m \u001b[39mfinally\u001b[39;00m:\n\u001b[1;32m    207\u001b[0m   \u001b[39mself\u001b[39m\u001b[39m.\u001b[39m_self_setattr_tracking \u001b[39m=\u001b[39m previous_value  \u001b[39m# pylint: disable=protected-access\u001b[39;00m\n",
      "File \u001b[0;32m/Library/Frameworks/Python.framework/Versions/3.9/lib/python3.9/site-packages/keras/utils/traceback_utils.py:70\u001b[0m, in \u001b[0;36mfilter_traceback.<locals>.error_handler\u001b[0;34m(*args, **kwargs)\u001b[0m\n\u001b[1;32m     67\u001b[0m     filtered_tb \u001b[39m=\u001b[39m _process_traceback_frames(e\u001b[39m.\u001b[39m__traceback__)\n\u001b[1;32m     68\u001b[0m     \u001b[39m# To get the full stack trace, call:\u001b[39;00m\n\u001b[1;32m     69\u001b[0m     \u001b[39m# `tf.debugging.disable_traceback_filtering()`\u001b[39;00m\n\u001b[0;32m---> 70\u001b[0m     \u001b[39mraise\u001b[39;00m e\u001b[39m.\u001b[39mwith_traceback(filtered_tb) \u001b[39mfrom\u001b[39;00m \u001b[39mNone\u001b[39m\n\u001b[1;32m     71\u001b[0m \u001b[39mfinally\u001b[39;00m:\n\u001b[1;32m     72\u001b[0m     \u001b[39mdel\u001b[39;00m filtered_tb\n",
      "File \u001b[0;32m/Library/Frameworks/Python.framework/Versions/3.9/lib/python3.9/site-packages/keras/engine/input_spec.py:235\u001b[0m, in \u001b[0;36massert_input_compatibility\u001b[0;34m(input_spec, inputs, layer_name)\u001b[0m\n\u001b[1;32m    233\u001b[0m     ndim \u001b[39m=\u001b[39m shape\u001b[39m.\u001b[39mrank\n\u001b[1;32m    234\u001b[0m     \u001b[39mif\u001b[39;00m ndim \u001b[39m!=\u001b[39m spec\u001b[39m.\u001b[39mndim:\n\u001b[0;32m--> 235\u001b[0m         \u001b[39mraise\u001b[39;00m \u001b[39mValueError\u001b[39;00m(\n\u001b[1;32m    236\u001b[0m             \u001b[39mf\u001b[39m\u001b[39m'\u001b[39m\u001b[39mInput \u001b[39m\u001b[39m{\u001b[39;00minput_index\u001b[39m}\u001b[39;00m\u001b[39m of layer \u001b[39m\u001b[39m\"\u001b[39m\u001b[39m{\u001b[39;00mlayer_name\u001b[39m}\u001b[39;00m\u001b[39m\"\u001b[39m\u001b[39m \u001b[39m\u001b[39m'\u001b[39m\n\u001b[1;32m    237\u001b[0m             \u001b[39m\"\u001b[39m\u001b[39mis incompatible with the layer: \u001b[39m\u001b[39m\"\u001b[39m\n\u001b[1;32m    238\u001b[0m             \u001b[39mf\u001b[39m\u001b[39m\"\u001b[39m\u001b[39mexpected ndim=\u001b[39m\u001b[39m{\u001b[39;00mspec\u001b[39m.\u001b[39mndim\u001b[39m}\u001b[39;00m\u001b[39m, found ndim=\u001b[39m\u001b[39m{\u001b[39;00mndim\u001b[39m}\u001b[39;00m\u001b[39m. \u001b[39m\u001b[39m\"\u001b[39m\n\u001b[1;32m    239\u001b[0m             \u001b[39mf\u001b[39m\u001b[39m\"\u001b[39m\u001b[39mFull shape received: \u001b[39m\u001b[39m{\u001b[39;00m\u001b[39mtuple\u001b[39m(shape)\u001b[39m}\u001b[39;00m\u001b[39m\"\u001b[39m\n\u001b[1;32m    240\u001b[0m         )\n\u001b[1;32m    241\u001b[0m \u001b[39mif\u001b[39;00m spec\u001b[39m.\u001b[39mmax_ndim \u001b[39mis\u001b[39;00m \u001b[39mnot\u001b[39;00m \u001b[39mNone\u001b[39;00m:\n\u001b[1;32m    242\u001b[0m     ndim \u001b[39m=\u001b[39m x\u001b[39m.\u001b[39mshape\u001b[39m.\u001b[39mrank\n",
      "\u001b[0;31mValueError\u001b[0m: Input 0 of layer \"simple_rnn_1\" is incompatible with the layer: expected ndim=3, found ndim=2. Full shape received: (None, 16)"
     ]
    }
   ],
   "source": [
    "model = keras.models.Sequential()\n",
    "model.add(keras.Input(shape=(NUM_SONGS-1,12)))\n",
    "model.add(layers.SimpleRNN(16, activation='tanh'))\n",
    "model.add(layers.SimpleRNN(16, activation='tanh'))\n",
    "model.add(layers.Dense(12))\n",
    "\n",
    "print(model.summary())"
   ]
  },
  {
   "cell_type": "code",
   "execution_count": null,
   "metadata": {},
   "outputs": [],
   "source": [
    "model.compile(\n",
    "    optimizer=Adam(learning_rate=0.001),\n",
    "    loss='mean_squared_logarithmic_error',\n",
    "    metrics=['accuracy'],\n",
    "    loss_weights=None,\n",
    "    weighted_metrics=None,\n",
    "    run_eagerly=None,\n",
    "    steps_per_execution=None\n",
    ")"
   ]
  },
  {
   "cell_type": "code",
   "execution_count": null,
   "metadata": {},
   "outputs": [
    {
     "name": "stdout",
     "output_type": "stream",
     "text": [
      "Epoch 1/50\n",
      "269/269 [==============================] - 2s 4ms/step - loss: 6.4816 - accuracy: 1.0000 - val_loss: 6.2125 - val_accuracy: 1.0000\n",
      "Epoch 2/50\n",
      "269/269 [==============================] - 1s 4ms/step - loss: 6.2371 - accuracy: 1.0000 - val_loss: 6.0012 - val_accuracy: 1.0000\n",
      "Epoch 3/50\n",
      "269/269 [==============================] - 1s 4ms/step - loss: 6.0443 - accuracy: 1.0000 - val_loss: 5.8308 - val_accuracy: 1.0000\n",
      "Epoch 4/50\n",
      "269/269 [==============================] - 1s 4ms/step - loss: 5.8845 - accuracy: 1.0000 - val_loss: 5.6868 - val_accuracy: 1.0000\n",
      "Epoch 5/50\n",
      "269/269 [==============================] - 1s 4ms/step - loss: 5.7480 - accuracy: 1.0000 - val_loss: 5.5614 - val_accuracy: 1.0000\n",
      "Epoch 6/50\n",
      "269/269 [==============================] - 1s 3ms/step - loss: 5.6283 - accuracy: 1.0000 - val_loss: 5.4515 - val_accuracy: 1.0000\n",
      "Epoch 7/50\n",
      "269/269 [==============================] - 1s 3ms/step - loss: 5.5213 - accuracy: 1.0000 - val_loss: 5.3527 - val_accuracy: 1.0000\n",
      "Epoch 8/50\n",
      "269/269 [==============================] - 1s 3ms/step - loss: 5.4248 - accuracy: 1.0000 - val_loss: 5.2611 - val_accuracy: 1.0000\n",
      "Epoch 9/50\n",
      "269/269 [==============================] - 1s 3ms/step - loss: 5.3363 - accuracy: 1.0000 - val_loss: 5.1779 - val_accuracy: 1.0000\n",
      "Epoch 10/50\n",
      "269/269 [==============================] - 1s 4ms/step - loss: 5.2544 - accuracy: 1.0000 - val_loss: 5.1005 - val_accuracy: 1.0000\n",
      "Epoch 11/50\n",
      "269/269 [==============================] - 1s 4ms/step - loss: 5.1783 - accuracy: 1.0000 - val_loss: 5.0286 - val_accuracy: 1.0000\n",
      "Epoch 12/50\n",
      "269/269 [==============================] - 1s 4ms/step - loss: 5.1071 - accuracy: 1.0000 - val_loss: 4.9602 - val_accuracy: 1.0000\n",
      "Epoch 13/50\n",
      "269/269 [==============================] - 1s 4ms/step - loss: 5.0397 - accuracy: 1.0000 - val_loss: 4.8961 - val_accuracy: 1.0000\n",
      "Epoch 14/50\n",
      "269/269 [==============================] - 1s 4ms/step - loss: 4.9760 - accuracy: 1.0000 - val_loss: 4.8361 - val_accuracy: 1.0000\n",
      "Epoch 15/50\n",
      "269/269 [==============================] - 1s 4ms/step - loss: 4.9158 - accuracy: 1.0000 - val_loss: 4.7778 - val_accuracy: 1.0000\n",
      "Epoch 16/50\n",
      "269/269 [==============================] - 1s 3ms/step - loss: 4.8583 - accuracy: 1.0000 - val_loss: 4.7224 - val_accuracy: 1.0000\n",
      "Epoch 17/50\n",
      "269/269 [==============================] - 1s 4ms/step - loss: 4.8033 - accuracy: 1.0000 - val_loss: 4.6700 - val_accuracy: 1.0000\n",
      "Epoch 18/50\n",
      "269/269 [==============================] - 1s 4ms/step - loss: 4.7510 - accuracy: 1.0000 - val_loss: 4.6198 - val_accuracy: 1.0000\n",
      "Epoch 19/50\n",
      "269/269 [==============================] - 1s 4ms/step - loss: 4.7005 - accuracy: 1.0000 - val_loss: 4.5712 - val_accuracy: 1.0000\n",
      "Epoch 20/50\n",
      "269/269 [==============================] - 1s 3ms/step - loss: 4.6520 - accuracy: 1.0000 - val_loss: 4.5249 - val_accuracy: 1.0000\n",
      "Epoch 21/50\n",
      "269/269 [==============================] - 1s 4ms/step - loss: 4.6052 - accuracy: 1.0000 - val_loss: 4.4795 - val_accuracy: 1.0000\n",
      "Epoch 22/50\n",
      "269/269 [==============================] - 1s 4ms/step - loss: 4.5603 - accuracy: 1.0000 - val_loss: 4.4364 - val_accuracy: 1.0000\n",
      "Epoch 23/50\n",
      "269/269 [==============================] - 1s 4ms/step - loss: 4.5169 - accuracy: 1.0000 - val_loss: 4.3946 - val_accuracy: 1.0000\n",
      "Epoch 24/50\n",
      "269/269 [==============================] - 1s 3ms/step - loss: 4.4751 - accuracy: 1.0000 - val_loss: 4.3545 - val_accuracy: 1.0000\n",
      "Epoch 25/50\n",
      "269/269 [==============================] - 1s 3ms/step - loss: 4.4344 - accuracy: 1.0000 - val_loss: 4.3150 - val_accuracy: 1.0000\n",
      "Epoch 26/50\n",
      "269/269 [==============================] - 1s 3ms/step - loss: 4.3951 - accuracy: 1.0000 - val_loss: 4.2768 - val_accuracy: 1.0000\n",
      "Epoch 27/50\n",
      "269/269 [==============================] - 1s 4ms/step - loss: 4.3571 - accuracy: 1.0000 - val_loss: 4.2402 - val_accuracy: 1.0000\n",
      "Epoch 28/50\n",
      "269/269 [==============================] - 1s 3ms/step - loss: 4.3203 - accuracy: 1.0000 - val_loss: 4.2045 - val_accuracy: 1.0000\n",
      "Epoch 29/50\n",
      "269/269 [==============================] - 1s 3ms/step - loss: 4.2844 - accuracy: 1.0000 - val_loss: 4.1699 - val_accuracy: 1.0000\n",
      "Epoch 30/50\n",
      "269/269 [==============================] - 1s 3ms/step - loss: 4.2497 - accuracy: 1.0000 - val_loss: 4.1363 - val_accuracy: 1.0000\n",
      "Epoch 31/50\n",
      "269/269 [==============================] - 1s 4ms/step - loss: 4.2158 - accuracy: 1.0000 - val_loss: 4.1037 - val_accuracy: 1.0000\n",
      "Epoch 32/50\n",
      "269/269 [==============================] - 1s 4ms/step - loss: 4.1832 - accuracy: 1.0000 - val_loss: 4.0719 - val_accuracy: 1.0000\n",
      "Epoch 33/50\n",
      "269/269 [==============================] - 1s 4ms/step - loss: 4.1513 - accuracy: 1.0000 - val_loss: 4.0413 - val_accuracy: 1.0000\n",
      "Epoch 34/50\n",
      "269/269 [==============================] - 1s 4ms/step - loss: 4.1202 - accuracy: 1.0000 - val_loss: 4.0110 - val_accuracy: 1.0000\n",
      "Epoch 35/50\n",
      "269/269 [==============================] - 1s 4ms/step - loss: 4.0901 - accuracy: 1.0000 - val_loss: 3.9816 - val_accuracy: 1.0000\n",
      "Epoch 36/50\n",
      "269/269 [==============================] - 1s 4ms/step - loss: 4.0606 - accuracy: 1.0000 - val_loss: 3.9531 - val_accuracy: 1.0000\n",
      "Epoch 37/50\n",
      "269/269 [==============================] - 1s 4ms/step - loss: 4.0319 - accuracy: 1.0000 - val_loss: 3.9255 - val_accuracy: 1.0000\n",
      "Epoch 38/50\n",
      "269/269 [==============================] - 1s 4ms/step - loss: 4.0039 - accuracy: 1.0000 - val_loss: 3.8982 - val_accuracy: 1.0000\n",
      "Epoch 39/50\n",
      "269/269 [==============================] - 1s 4ms/step - loss: 3.9768 - accuracy: 1.0000 - val_loss: 3.8723 - val_accuracy: 1.0000\n",
      "Epoch 40/50\n",
      "269/269 [==============================] - 1s 3ms/step - loss: 3.9501 - accuracy: 1.0000 - val_loss: 3.8468 - val_accuracy: 1.0000\n",
      "Epoch 41/50\n",
      "269/269 [==============================] - 1s 4ms/step - loss: 3.9242 - accuracy: 1.0000 - val_loss: 3.8211 - val_accuracy: 1.0000\n",
      "Epoch 42/50\n",
      "269/269 [==============================] - 1s 4ms/step - loss: 3.8988 - accuracy: 1.0000 - val_loss: 3.7964 - val_accuracy: 1.0000\n",
      "Epoch 43/50\n",
      "269/269 [==============================] - 1s 4ms/step - loss: 3.8742 - accuracy: 1.0000 - val_loss: 3.7724 - val_accuracy: 1.0000\n",
      "Epoch 44/50\n",
      "269/269 [==============================] - 1s 4ms/step - loss: 3.8502 - accuracy: 1.0000 - val_loss: 3.7489 - val_accuracy: 1.0000\n",
      "Epoch 45/50\n",
      "269/269 [==============================] - 1s 4ms/step - loss: 3.8263 - accuracy: 1.0000 - val_loss: 3.7257 - val_accuracy: 1.0000\n",
      "Epoch 46/50\n",
      "269/269 [==============================] - 1s 3ms/step - loss: 3.8033 - accuracy: 1.0000 - val_loss: 3.7035 - val_accuracy: 1.0000\n",
      "Epoch 47/50\n",
      "269/269 [==============================] - 1s 3ms/step - loss: 3.7807 - accuracy: 1.0000 - val_loss: 3.6825 - val_accuracy: 1.0000\n",
      "Epoch 48/50\n",
      "269/269 [==============================] - 1s 3ms/step - loss: 3.7586 - accuracy: 1.0000 - val_loss: 3.6603 - val_accuracy: 1.0000\n",
      "Epoch 49/50\n",
      "269/269 [==============================] - 1s 3ms/step - loss: 3.7370 - accuracy: 1.0000 - val_loss: 3.6388 - val_accuracy: 1.0000\n",
      "Epoch 50/50\n",
      "269/269 [==============================] - 1s 4ms/step - loss: 3.7157 - accuracy: 1.0000 - val_loss: 3.6184 - val_accuracy: 1.0000\n"
     ]
    },
    {
     "data": {
      "text/plain": [
       "<keras.callbacks.History at 0x7fce1b287d00>"
      ]
     },
     "execution_count": 105,
     "metadata": {},
     "output_type": "execute_result"
    }
   ],
   "source": [
    "model.fit(X_train, \n",
    "          y_train, \n",
    "          validation_data=(X_val, y_val),\n",
    "          epochs=50, \n",
    "          batch_size=1\n",
    "          )"
   ]
  },
  {
   "cell_type": "code",
   "execution_count": 11,
   "metadata": {},
   "outputs": [
    {
     "ename": "ValueError",
     "evalue": "in user code:\n\n    File \"/Library/Frameworks/Python.framework/Versions/3.9/lib/python3.9/site-packages/keras/engine/training.py\", line 2169, in predict_function  *\n        return step_function(self, iterator)\n    File \"/Library/Frameworks/Python.framework/Versions/3.9/lib/python3.9/site-packages/keras/engine/training.py\", line 2155, in step_function  **\n        outputs = model.distribute_strategy.run(run_step, args=(data,))\n    File \"/Library/Frameworks/Python.framework/Versions/3.9/lib/python3.9/site-packages/keras/engine/training.py\", line 2143, in run_step  **\n        outputs = model.predict_step(data)\n    File \"/Library/Frameworks/Python.framework/Versions/3.9/lib/python3.9/site-packages/keras/engine/training.py\", line 2111, in predict_step\n        return self(x, training=False)\n    File \"/Library/Frameworks/Python.framework/Versions/3.9/lib/python3.9/site-packages/keras/utils/traceback_utils.py\", line 70, in error_handler\n        raise e.with_traceback(filtered_tb) from None\n    File \"/Library/Frameworks/Python.framework/Versions/3.9/lib/python3.9/site-packages/keras/engine/input_spec.py\", line 235, in assert_input_compatibility\n        raise ValueError(\n\n    ValueError: Exception encountered when calling layer 'sequential' (type Sequential).\n    \n    Input 0 of layer \"simple_rnn\" is incompatible with the layer: expected ndim=3, found ndim=1. Full shape received: (None,)\n    \n    Call arguments received by layer 'sequential' (type Sequential):\n      • inputs=tf.Tensor(shape=(None,), dtype=float32)\n      • training=False\n      • mask=None\n",
     "output_type": "error",
     "traceback": [
      "\u001b[0;31m---------------------------------------------------------------------------\u001b[0m",
      "\u001b[0;31mValueError\u001b[0m                                Traceback (most recent call last)",
      "\u001b[1;32m/Users/ericcallaway/Google Drive/School Work/Spring 2023/Final_Year_Project/Music_Recommnedation_Application/training_model/RNN_recommendation.ipynb Cell 17\u001b[0m in \u001b[0;36m<cell line: 1>\u001b[0;34m()\u001b[0m\n\u001b[0;32m----> <a href='vscode-notebook-cell:/Users/ericcallaway/Google%20Drive/School%20Work/Spring%202023/Final_Year_Project/Music_Recommnedation_Application/training_model/RNN_recommendation.ipynb#X22sZmlsZQ%3D%3D?line=0'>1</a>\u001b[0m test \u001b[39m=\u001b[39m model\u001b[39m.\u001b[39;49mpredict(X_train[\u001b[39m4\u001b[39;49m]\u001b[39m.\u001b[39;49mflatten())\n\u001b[1;32m      <a href='vscode-notebook-cell:/Users/ericcallaway/Google%20Drive/School%20Work/Spring%202023/Final_Year_Project/Music_Recommnedation_Application/training_model/RNN_recommendation.ipynb#X22sZmlsZQ%3D%3D?line=1'>2</a>\u001b[0m \u001b[39mprint\u001b[39m(test)\n",
      "File \u001b[0;32m/Library/Frameworks/Python.framework/Versions/3.9/lib/python3.9/site-packages/keras/utils/traceback_utils.py:70\u001b[0m, in \u001b[0;36mfilter_traceback.<locals>.error_handler\u001b[0;34m(*args, **kwargs)\u001b[0m\n\u001b[1;32m     67\u001b[0m     filtered_tb \u001b[39m=\u001b[39m _process_traceback_frames(e\u001b[39m.\u001b[39m__traceback__)\n\u001b[1;32m     68\u001b[0m     \u001b[39m# To get the full stack trace, call:\u001b[39;00m\n\u001b[1;32m     69\u001b[0m     \u001b[39m# `tf.debugging.disable_traceback_filtering()`\u001b[39;00m\n\u001b[0;32m---> 70\u001b[0m     \u001b[39mraise\u001b[39;00m e\u001b[39m.\u001b[39mwith_traceback(filtered_tb) \u001b[39mfrom\u001b[39;00m \u001b[39mNone\u001b[39m\n\u001b[1;32m     71\u001b[0m \u001b[39mfinally\u001b[39;00m:\n\u001b[1;32m     72\u001b[0m     \u001b[39mdel\u001b[39;00m filtered_tb\n",
      "File \u001b[0;32m/var/folders/b8/tkxd7yxj1672bq9d4m_3xmhh0000gn/T/__autograph_generated_file6qahuch2.py:15\u001b[0m, in \u001b[0;36mouter_factory.<locals>.inner_factory.<locals>.tf__predict_function\u001b[0;34m(iterator)\u001b[0m\n\u001b[1;32m     13\u001b[0m \u001b[39mtry\u001b[39;00m:\n\u001b[1;32m     14\u001b[0m     do_return \u001b[39m=\u001b[39m \u001b[39mTrue\u001b[39;00m\n\u001b[0;32m---> 15\u001b[0m     retval_ \u001b[39m=\u001b[39m ag__\u001b[39m.\u001b[39mconverted_call(ag__\u001b[39m.\u001b[39mld(step_function), (ag__\u001b[39m.\u001b[39mld(\u001b[39mself\u001b[39m), ag__\u001b[39m.\u001b[39mld(iterator)), \u001b[39mNone\u001b[39;00m, fscope)\n\u001b[1;32m     16\u001b[0m \u001b[39mexcept\u001b[39;00m:\n\u001b[1;32m     17\u001b[0m     do_return \u001b[39m=\u001b[39m \u001b[39mFalse\u001b[39;00m\n",
      "\u001b[0;31mValueError\u001b[0m: in user code:\n\n    File \"/Library/Frameworks/Python.framework/Versions/3.9/lib/python3.9/site-packages/keras/engine/training.py\", line 2169, in predict_function  *\n        return step_function(self, iterator)\n    File \"/Library/Frameworks/Python.framework/Versions/3.9/lib/python3.9/site-packages/keras/engine/training.py\", line 2155, in step_function  **\n        outputs = model.distribute_strategy.run(run_step, args=(data,))\n    File \"/Library/Frameworks/Python.framework/Versions/3.9/lib/python3.9/site-packages/keras/engine/training.py\", line 2143, in run_step  **\n        outputs = model.predict_step(data)\n    File \"/Library/Frameworks/Python.framework/Versions/3.9/lib/python3.9/site-packages/keras/engine/training.py\", line 2111, in predict_step\n        return self(x, training=False)\n    File \"/Library/Frameworks/Python.framework/Versions/3.9/lib/python3.9/site-packages/keras/utils/traceback_utils.py\", line 70, in error_handler\n        raise e.with_traceback(filtered_tb) from None\n    File \"/Library/Frameworks/Python.framework/Versions/3.9/lib/python3.9/site-packages/keras/engine/input_spec.py\", line 235, in assert_input_compatibility\n        raise ValueError(\n\n    ValueError: Exception encountered when calling layer 'sequential' (type Sequential).\n    \n    Input 0 of layer \"simple_rnn\" is incompatible with the layer: expected ndim=3, found ndim=1. Full shape received: (None,)\n    \n    Call arguments received by layer 'sequential' (type Sequential):\n      • inputs=tf.Tensor(shape=(None,), dtype=float32)\n      • training=False\n      • mask=None\n"
     ]
    }
   ],
   "source": [
    "test = model.predict(X_train[4].flatten())\n",
    "print(test)"
   ]
  },
  {
   "cell_type": "code",
   "execution_count": 12,
   "metadata": {},
   "outputs": [
    {
     "name": "stdout",
     "output_type": "stream",
     "text": [
      "9/9 [==============================] - 0s 2ms/step\n"
     ]
    },
    {
     "ename": "ValueError",
     "evalue": "All arrays must be of the same length",
     "output_type": "error",
     "traceback": [
      "\u001b[0;31m---------------------------------------------------------------------------\u001b[0m",
      "\u001b[0;31mValueError\u001b[0m                                Traceback (most recent call last)",
      "\u001b[1;32m/Users/ericcallaway/Google Drive/School Work/Spring 2023/Final_Year_Project/Music_Recommnedation_Application/training_model/RNN_recommendation.ipynb Cell 18\u001b[0m in \u001b[0;36m<cell line: 2>\u001b[0;34m()\u001b[0m\n\u001b[1;32m      <a href='vscode-notebook-cell:/Users/ericcallaway/Google%20Drive/School%20Work/Spring%202023/Final_Year_Project/Music_Recommnedation_Application/training_model/RNN_recommendation.ipynb#X23sZmlsZQ%3D%3D?line=0'>1</a>\u001b[0m train_predictions \u001b[39m=\u001b[39m model\u001b[39m.\u001b[39mpredict(X_train)\u001b[39m.\u001b[39mflatten()\n\u001b[0;32m----> <a href='vscode-notebook-cell:/Users/ericcallaway/Google%20Drive/School%20Work/Spring%202023/Final_Year_Project/Music_Recommnedation_Application/training_model/RNN_recommendation.ipynb#X23sZmlsZQ%3D%3D?line=1'>2</a>\u001b[0m train_results \u001b[39m=\u001b[39m pd\u001b[39m.\u001b[39;49mDataFrame(data\u001b[39m=\u001b[39;49m{\u001b[39m'\u001b[39;49m\u001b[39mTrain Predictions\u001b[39;49m\u001b[39m'\u001b[39;49m:train_predictions\u001b[39m.\u001b[39;49mravel(), \u001b[39m'\u001b[39;49m\u001b[39mActuals\u001b[39;49m\u001b[39m'\u001b[39;49m:y_train\u001b[39m.\u001b[39;49mravel()})\n\u001b[1;32m      <a href='vscode-notebook-cell:/Users/ericcallaway/Google%20Drive/School%20Work/Spring%202023/Final_Year_Project/Music_Recommnedation_Application/training_model/RNN_recommendation.ipynb#X23sZmlsZQ%3D%3D?line=2'>3</a>\u001b[0m train_results\n",
      "File \u001b[0;32m~/Library/Python/3.9/lib/python/site-packages/pandas/core/frame.py:664\u001b[0m, in \u001b[0;36mDataFrame.__init__\u001b[0;34m(self, data, index, columns, dtype, copy)\u001b[0m\n\u001b[1;32m    658\u001b[0m     mgr \u001b[39m=\u001b[39m \u001b[39mself\u001b[39m\u001b[39m.\u001b[39m_init_mgr(\n\u001b[1;32m    659\u001b[0m         data, axes\u001b[39m=\u001b[39m{\u001b[39m\"\u001b[39m\u001b[39mindex\u001b[39m\u001b[39m\"\u001b[39m: index, \u001b[39m\"\u001b[39m\u001b[39mcolumns\u001b[39m\u001b[39m\"\u001b[39m: columns}, dtype\u001b[39m=\u001b[39mdtype, copy\u001b[39m=\u001b[39mcopy\n\u001b[1;32m    660\u001b[0m     )\n\u001b[1;32m    662\u001b[0m \u001b[39melif\u001b[39;00m \u001b[39misinstance\u001b[39m(data, \u001b[39mdict\u001b[39m):\n\u001b[1;32m    663\u001b[0m     \u001b[39m# GH#38939 de facto copy defaults to False only in non-dict cases\u001b[39;00m\n\u001b[0;32m--> 664\u001b[0m     mgr \u001b[39m=\u001b[39m dict_to_mgr(data, index, columns, dtype\u001b[39m=\u001b[39;49mdtype, copy\u001b[39m=\u001b[39;49mcopy, typ\u001b[39m=\u001b[39;49mmanager)\n\u001b[1;32m    665\u001b[0m \u001b[39melif\u001b[39;00m \u001b[39misinstance\u001b[39m(data, ma\u001b[39m.\u001b[39mMaskedArray):\n\u001b[1;32m    666\u001b[0m     \u001b[39mimport\u001b[39;00m \u001b[39mnumpy\u001b[39;00m\u001b[39m.\u001b[39;00m\u001b[39mma\u001b[39;00m\u001b[39m.\u001b[39;00m\u001b[39mmrecords\u001b[39;00m \u001b[39mas\u001b[39;00m \u001b[39mmrecords\u001b[39;00m\n",
      "File \u001b[0;32m~/Library/Python/3.9/lib/python/site-packages/pandas/core/internals/construction.py:493\u001b[0m, in \u001b[0;36mdict_to_mgr\u001b[0;34m(data, index, columns, dtype, typ, copy)\u001b[0m\n\u001b[1;32m    489\u001b[0m     \u001b[39melse\u001b[39;00m:\n\u001b[1;32m    490\u001b[0m         \u001b[39m# dtype check to exclude e.g. range objects, scalars\u001b[39;00m\n\u001b[1;32m    491\u001b[0m         arrays \u001b[39m=\u001b[39m [x\u001b[39m.\u001b[39mcopy() \u001b[39mif\u001b[39;00m \u001b[39mhasattr\u001b[39m(x, \u001b[39m\"\u001b[39m\u001b[39mdtype\u001b[39m\u001b[39m\"\u001b[39m) \u001b[39melse\u001b[39;00m x \u001b[39mfor\u001b[39;00m x \u001b[39min\u001b[39;00m arrays]\n\u001b[0;32m--> 493\u001b[0m \u001b[39mreturn\u001b[39;00m arrays_to_mgr(arrays, columns, index, dtype\u001b[39m=\u001b[39;49mdtype, typ\u001b[39m=\u001b[39;49mtyp, consolidate\u001b[39m=\u001b[39;49mcopy)\n",
      "File \u001b[0;32m~/Library/Python/3.9/lib/python/site-packages/pandas/core/internals/construction.py:118\u001b[0m, in \u001b[0;36marrays_to_mgr\u001b[0;34m(arrays, columns, index, dtype, verify_integrity, typ, consolidate)\u001b[0m\n\u001b[1;32m    115\u001b[0m \u001b[39mif\u001b[39;00m verify_integrity:\n\u001b[1;32m    116\u001b[0m     \u001b[39m# figure out the index, if necessary\u001b[39;00m\n\u001b[1;32m    117\u001b[0m     \u001b[39mif\u001b[39;00m index \u001b[39mis\u001b[39;00m \u001b[39mNone\u001b[39;00m:\n\u001b[0;32m--> 118\u001b[0m         index \u001b[39m=\u001b[39m _extract_index(arrays)\n\u001b[1;32m    119\u001b[0m     \u001b[39melse\u001b[39;00m:\n\u001b[1;32m    120\u001b[0m         index \u001b[39m=\u001b[39m ensure_index(index)\n",
      "File \u001b[0;32m~/Library/Python/3.9/lib/python/site-packages/pandas/core/internals/construction.py:666\u001b[0m, in \u001b[0;36m_extract_index\u001b[0;34m(data)\u001b[0m\n\u001b[1;32m    664\u001b[0m lengths \u001b[39m=\u001b[39m \u001b[39mlist\u001b[39m(\u001b[39mset\u001b[39m(raw_lengths))\n\u001b[1;32m    665\u001b[0m \u001b[39mif\u001b[39;00m \u001b[39mlen\u001b[39m(lengths) \u001b[39m>\u001b[39m \u001b[39m1\u001b[39m:\n\u001b[0;32m--> 666\u001b[0m     \u001b[39mraise\u001b[39;00m \u001b[39mValueError\u001b[39;00m(\u001b[39m\"\u001b[39m\u001b[39mAll arrays must be of the same length\u001b[39m\u001b[39m\"\u001b[39m)\n\u001b[1;32m    668\u001b[0m \u001b[39mif\u001b[39;00m have_dicts:\n\u001b[1;32m    669\u001b[0m     \u001b[39mraise\u001b[39;00m \u001b[39mValueError\u001b[39;00m(\n\u001b[1;32m    670\u001b[0m         \u001b[39m\"\u001b[39m\u001b[39mMixing dicts with non-Series may lead to ambiguous ordering.\u001b[39m\u001b[39m\"\u001b[39m\n\u001b[1;32m    671\u001b[0m     )\n",
      "\u001b[0;31mValueError\u001b[0m: All arrays must be of the same length"
     ]
    }
   ],
   "source": [
    "train_predictions = model.predict(X_train).flatten()\n",
    "train_results = pd.DataFrame(data={'Train Predictions':train_predictions.ravel(), 'Actuals':y_train.ravel()})\n",
    "train_results"
   ]
  },
  {
   "cell_type": "code",
   "execution_count": null,
   "metadata": {},
   "outputs": [
    {
     "data": {
      "text/plain": [
       "<matplotlib.legend.Legend at 0x7fce1a32a520>"
      ]
     },
     "execution_count": 111,
     "metadata": {},
     "output_type": "execute_result"
    },
    {
     "data": {
      "image/png": "[encoded data removed]",
      "text/plain": [
       "<Figure size 432x288 with 1 Axes>"
      ]
     },
     "metadata": {
      "needs_background": "light"
     },
     "output_type": "display_data"
    }
   ],
   "source": [
    "plt.plot(train_results['Train Predictions'][50:100])\n",
    "plt.plot(train_results['Actuals'][50:100])\n",
    "plt.title('Training: Predictions Vs. Actual')\n",
    "plt.legend([\"Predictions\", \"Actual\"])\n"
   ]
  },
  {
   "cell_type": "code",
   "execution_count": null,
   "metadata": {},
   "outputs": [
    {
     "data": {
      "text/html": [
       "<div>\n",
       "<style scoped>\n",
       "    .dataframe tbody tr th:only-of-type {\n",
       "        vertical-align: middle;\n",
       "    }\n",
       "\n",
       "    .dataframe tbody tr th {\n",
       "        vertical-align: top;\n",
       "    }\n",
       "\n",
       "    .dataframe thead th {\n",
       "        text-align: right;\n",
       "    }\n",
       "</style>\n",
       "<table border=\"1\" class=\"dataframe\">\n",
       "  <thead>\n",
       "    <tr style=\"text-align: right;\">\n",
       "      <th></th>\n",
       "      <th>Validation Predictions</th>\n",
       "      <th>Actuals</th>\n",
       "    </tr>\n",
       "  </thead>\n",
       "  <tbody>\n",
       "    <tr>\n",
       "      <th>0</th>\n",
       "      <td>0.408993</td>\n",
       "      <td>0.334417</td>\n",
       "    </tr>\n",
       "    <tr>\n",
       "      <th>1</th>\n",
       "      <td>-0.009149</td>\n",
       "      <td>0.517722</td>\n",
       "    </tr>\n",
       "    <tr>\n",
       "      <th>2</th>\n",
       "      <td>3.362163</td>\n",
       "      <td>3.416667</td>\n",
       "    </tr>\n",
       "    <tr>\n",
       "      <th>3</th>\n",
       "      <td>-1.368511</td>\n",
       "      <td>-2.760167</td>\n",
       "    </tr>\n",
       "    <tr>\n",
       "      <th>4</th>\n",
       "      <td>-0.343280</td>\n",
       "      <td>0.250000</td>\n",
       "    </tr>\n",
       "    <tr>\n",
       "      <th>...</th>\n",
       "      <td>...</td>\n",
       "      <td>...</td>\n",
       "    </tr>\n",
       "    <tr>\n",
       "      <th>1075</th>\n",
       "      <td>-0.028875</td>\n",
       "      <td>0.020833</td>\n",
       "    </tr>\n",
       "    <tr>\n",
       "      <th>1076</th>\n",
       "      <td>0.144056</td>\n",
       "      <td>0.005153</td>\n",
       "    </tr>\n",
       "    <tr>\n",
       "      <th>1077</th>\n",
       "      <td>-1.036033</td>\n",
       "      <td>0.044639</td>\n",
       "    </tr>\n",
       "    <tr>\n",
       "      <th>1078</th>\n",
       "      <td>20.095821</td>\n",
       "      <td>9.612472</td>\n",
       "    </tr>\n",
       "    <tr>\n",
       "      <th>1079</th>\n",
       "      <td>21.025402</td>\n",
       "      <td>10726.694444</td>\n",
       "    </tr>\n",
       "  </tbody>\n",
       "</table>\n",
       "<p>1080 rows × 2 columns</p>\n",
       "</div>"
      ],
      "text/plain": [
       "      Validation Predictions       Actuals\n",
       "0                   0.408993      0.334417\n",
       "1                  -0.009149      0.517722\n",
       "2                   3.362163      3.416667\n",
       "3                  -1.368511     -2.760167\n",
       "4                  -0.343280      0.250000\n",
       "...                      ...           ...\n",
       "1075               -0.028875      0.020833\n",
       "1076                0.144056      0.005153\n",
       "1077               -1.036033      0.044639\n",
       "1078               20.095821      9.612472\n",
       "1079               21.025402  10726.694444\n",
       "\n",
       "[1080 rows x 2 columns]"
      ]
     },
     "execution_count": 97,
     "metadata": {},
     "output_type": "execute_result"
    }
   ],
   "source": [
    "val_predictions = model.predict(X_val).flatten()\n",
    "val_results = pd.DataFrame(data={'Validation Predictions':val_predictions.ravel(), 'Actuals':y_val.ravel()})\n",
    "val_results"
   ]
  },
  {
   "cell_type": "code",
   "execution_count": null,
   "metadata": {},
   "outputs": [
    {
     "data": {
      "text/plain": [
       "<matplotlib.legend.Legend at 0x7fce27d34b50>"
      ]
     },
     "execution_count": 98,
     "metadata": {},
     "output_type": "execute_result"
    },
    {
     "data": {
      "image/png": "[encoded data removed]",
      "text/plain": [
       "<Figure size 432x288 with 1 Axes>"
      ]
     },
     "metadata": {
      "needs_background": "light"
     },
     "output_type": "display_data"
    }
   ],
   "source": [
    "plt.plot(val_results['Validation Predictions'][50:100])\n",
    "plt.plot(val_results['Actuals'][50:100])\n",
    "plt.title('Validation: Predictions Vs. Actual')\n",
    "plt.legend([\"Predictions\", \"Actual\"])"
   ]
  },
  {
   "cell_type": "code",
   "execution_count": null,
   "metadata": {},
   "outputs": [
    {
     "data": {
      "text/html": [
       "<div>\n",
       "<style scoped>\n",
       "    .dataframe tbody tr th:only-of-type {\n",
       "        vertical-align: middle;\n",
       "    }\n",
       "\n",
       "    .dataframe tbody tr th {\n",
       "        vertical-align: top;\n",
       "    }\n",
       "\n",
       "    .dataframe thead th {\n",
       "        text-align: right;\n",
       "    }\n",
       "</style>\n",
       "<table border=\"1\" class=\"dataframe\">\n",
       "  <thead>\n",
       "    <tr style=\"text-align: right;\">\n",
       "      <th></th>\n",
       "      <th>Testing Predictions</th>\n",
       "      <th>Actuals</th>\n",
       "    </tr>\n",
       "  </thead>\n",
       "  <tbody>\n",
       "    <tr>\n",
       "      <th>0</th>\n",
       "      <td>0.408993</td>\n",
       "      <td>0.675000</td>\n",
       "    </tr>\n",
       "    <tr>\n",
       "      <th>1</th>\n",
       "      <td>-0.009149</td>\n",
       "      <td>0.945000</td>\n",
       "    </tr>\n",
       "    <tr>\n",
       "      <th>2</th>\n",
       "      <td>3.362163</td>\n",
       "      <td>7.000000</td>\n",
       "    </tr>\n",
       "    <tr>\n",
       "      <th>3</th>\n",
       "      <td>-1.368511</td>\n",
       "      <td>-2.672000</td>\n",
       "    </tr>\n",
       "    <tr>\n",
       "      <th>4</th>\n",
       "      <td>-0.343280</td>\n",
       "      <td>1.000000</td>\n",
       "    </tr>\n",
       "    <tr>\n",
       "      <th>...</th>\n",
       "      <td>...</td>\n",
       "      <td>...</td>\n",
       "    </tr>\n",
       "    <tr>\n",
       "      <th>763</th>\n",
       "      <td>-0.028875</td>\n",
       "      <td>0.000000</td>\n",
       "    </tr>\n",
       "    <tr>\n",
       "      <th>764</th>\n",
       "      <td>0.144056</td>\n",
       "      <td>0.009861</td>\n",
       "    </tr>\n",
       "    <tr>\n",
       "      <th>765</th>\n",
       "      <td>-1.036033</td>\n",
       "      <td>0.017389</td>\n",
       "    </tr>\n",
       "    <tr>\n",
       "      <th>766</th>\n",
       "      <td>20.095821</td>\n",
       "      <td>3.608639</td>\n",
       "    </tr>\n",
       "    <tr>\n",
       "      <th>767</th>\n",
       "      <td>21.025402</td>\n",
       "      <td>3769.222222</td>\n",
       "    </tr>\n",
       "  </tbody>\n",
       "</table>\n",
       "<p>768 rows × 2 columns</p>\n",
       "</div>"
      ],
      "text/plain": [
       "     Testing Predictions      Actuals\n",
       "0               0.408993     0.675000\n",
       "1              -0.009149     0.945000\n",
       "2               3.362163     7.000000\n",
       "3              -1.368511    -2.672000\n",
       "4              -0.343280     1.000000\n",
       "..                   ...          ...\n",
       "763            -0.028875     0.000000\n",
       "764             0.144056     0.009861\n",
       "765            -1.036033     0.017389\n",
       "766            20.095821     3.608639\n",
       "767            21.025402  3769.222222\n",
       "\n",
       "[768 rows x 2 columns]"
      ]
     },
     "execution_count": 99,
     "metadata": {},
     "output_type": "execute_result"
    }
   ],
   "source": [
    "test_predictions = model.predict(X_test).flatten()\n",
    "test_results = pd.DataFrame(data={'Testing Predictions':test_predictions.ravel(), 'Actuals':y_test.ravel()})\n",
    "test_results"
   ]
  },
  {
   "cell_type": "code",
   "execution_count": null,
   "metadata": {},
   "outputs": [
    {
     "data": {
      "text/plain": [
       "<matplotlib.legend.Legend at 0x7fce299cd5e0>"
      ]
     },
     "execution_count": 100,
     "metadata": {},
     "output_type": "execute_result"
    },
    {
     "data": {
      "image/png": "[encoded data removed]",
      "text/plain": [
       "<Figure size 432x288 with 1 Axes>"
      ]
     },
     "metadata": {
      "needs_background": "light"
     },
     "output_type": "display_data"
    }
   ],
   "source": [
    "plt.plot(test_results['Testing Predictions'][50:100])\n",
    "plt.plot(test_results['Actuals'][50:100])\n",
    "plt.title('Testing: Predictions Vs. Actual')\n",
    "plt.legend([\"Predictions\", \"Actual\"])"
   ]
  },
  {
   "cell_type": "code",
   "execution_count": 13,
   "metadata": {},
   "outputs": [
    {
     "data": {
      "text/plain": [
       "['simpleRNN.pkl']"
      ]
     },
     "execution_count": 13,
     "metadata": {},
     "output_type": "execute_result"
    }
   ],
   "source": [
    "joblib.dump(model, 'simpleRNN.pkl')"
   ]
  },
  {
   "cell_type": "code",
   "execution_count": null,
   "metadata": {},
   "outputs": [],
   "source": [
    "m = joblib.load('simpleRNN.pkl')"
   ]
  },
  {
   "cell_type": "code",
   "execution_count": null,
   "metadata": {},
   "outputs": [
    {
     "name": "stdout",
     "output_type": "stream",
     "text": [
      "<class 'pandas.core.frame.DataFrame'>\n",
      "RangeIndex: 36 entries, 0 to 35\n",
      "Data columns (total 13 columns):\n",
      " #   Column            Non-Null Count  Dtype  \n",
      "---  ------            --------------  -----  \n",
      " 0   danceability      36 non-null     float64\n",
      " 1   energy            36 non-null     float64\n",
      " 2   key               36 non-null     float64\n",
      " 3   loudness          36 non-null     float64\n",
      " 4   mode              36 non-null     int64  \n",
      " 5   speechiness       36 non-null     float64\n",
      " 6   acousticness      36 non-null     float64\n",
      " 7   instrumentalness  36 non-null     float64\n",
      " 8   liveness          36 non-null     float64\n",
      " 9   valence           36 non-null     float64\n",
      " 10  tempo             36 non-null     float64\n",
      " 11  duration_ms       36 non-null     float64\n",
      " 12  playlist_id       36 non-null     object \n",
      "dtypes: float64(11), int64(1), object(1)\n",
      "memory usage: 3.8+ KB\n"
     ]
    }
   ],
   "source": [
    "df.info()"
   ]
  }
 ],
 "metadata": {
  "kernelspec": {
   "display_name": "Python 3",
   "language": "python",
   "name": "python3"
  },
  "language_info": {
   "codemirror_mode": {
    "name": "ipython",
    "version": 3
   },
   "file_extension": ".py",
   "mimetype": "text/x-python",
   "name": "python",
   "nbconvert_exporter": "python",
   "pygments_lexer": "ipython3",
   "version": "3.9.6"
  },
  "orig_nbformat": 4,
  "vscode": {
   "interpreter": {
    "hash": "aee8b7b246df8f9039afb4144a1f6fd8d2ca17a180786b69acc140d282b71a49"
   }
  }
 },
 "nbformat": 4,
 "nbformat_minor": 2
}
