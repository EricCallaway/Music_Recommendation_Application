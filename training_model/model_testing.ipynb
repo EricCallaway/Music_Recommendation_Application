{
 "cells": [
  {
   "cell_type": "code",
   "execution_count": 121,
   "metadata": {},
   "outputs": [],
   "source": [
    "import pandas as pd\n",
    "import numpy as np\n",
    "import random\n",
    "import matplotlib.pyplot as plt\n",
    "import joblib\n",
    "\n",
    "from typing import List, Tuple\n",
    "from numpy import shape\n",
    "\n",
    "from keras.models import Sequential\n",
    "from keras.layers import LSTM, Dense\n",
    "\n",
    "from tensorflow import keras\n",
    "from tensorflow.keras import layers\n",
    "from tensorflow.keras.losses import MeanSquaredError\n",
    "from tensorflow.keras.metrics import RootMeanSquaredError\n",
    "from tensorflow.keras.optimizers import Adam\n",
    "\n",
    "from scipy.spatial.distance import cosine\n",
    "\n",
    "\n",
    "from sklearn.model_selection import train_test_split\n",
    "from sklearn.metrics import mean_squared_error\n",
    "from sklearn.metrics.pairwise import cosine_similarity"
   ]
  },
  {
   "cell_type": "code",
   "execution_count": 122,
   "metadata": {},
   "outputs": [],
   "source": [
    "df = pd.read_csv('../datasets/cleaned_RNN_dataset.zip')\n"
   ]
  },
  {
   "cell_type": "code",
   "execution_count": 123,
   "metadata": {},
   "outputs": [],
   "source": [
    "random_playlist = df.sample(n=10)\n"
   ]
  },
  {
   "cell_type": "code",
   "execution_count": 124,
   "metadata": {},
   "outputs": [
    {
     "data": {
      "text/html": [
       "<div>\n",
       "<style scoped>\n",
       "    .dataframe tbody tr th:only-of-type {\n",
       "        vertical-align: middle;\n",
       "    }\n",
       "\n",
       "    .dataframe tbody tr th {\n",
       "        vertical-align: top;\n",
       "    }\n",
       "\n",
       "    .dataframe thead th {\n",
       "        text-align: right;\n",
       "    }\n",
       "</style>\n",
       "<table border=\"1\" class=\"dataframe\">\n",
       "  <thead>\n",
       "    <tr style=\"text-align: right;\">\n",
       "      <th></th>\n",
       "      <th>Unnamed: 0</th>\n",
       "      <th>track_id</th>\n",
       "      <th>track_name</th>\n",
       "      <th>track_artist</th>\n",
       "      <th>lyrics</th>\n",
       "      <th>track_album_id</th>\n",
       "      <th>track_album_name</th>\n",
       "      <th>playlist_name</th>\n",
       "      <th>playlist_id</th>\n",
       "      <th>playlist_genre</th>\n",
       "      <th>...</th>\n",
       "      <th>loudness</th>\n",
       "      <th>mode</th>\n",
       "      <th>speechiness</th>\n",
       "      <th>acousticness</th>\n",
       "      <th>instrumentalness</th>\n",
       "      <th>liveness</th>\n",
       "      <th>valence</th>\n",
       "      <th>tempo</th>\n",
       "      <th>duration_ms</th>\n",
       "      <th>language</th>\n",
       "    </tr>\n",
       "  </thead>\n",
       "  <tbody>\n",
       "    <tr>\n",
       "      <th>10987</th>\n",
       "      <td>13148</td>\n",
       "      <td>5My5YI9oqE9MZcHIrm38BJ</td>\n",
       "      <td>The Sweetest Thing (feat. Lauryn Hill) - From ...</td>\n",
       "      <td>Refugee Camp All-Stars</td>\n",
       "      <td>unexpected multi dimensional unexpected sound ...</td>\n",
       "      <td>7dt0RR2Kbvu3ZuWloudfjI</td>\n",
       "      <td>Love Jones The Music</td>\n",
       "      <td>neo soul soulful r b</td>\n",
       "      <td>4F3xAxHxeBwXhK6k6GPnrW</td>\n",
       "      <td>r&amp;b</td>\n",
       "      <td>...</td>\n",
       "      <td>-10.084</td>\n",
       "      <td>0</td>\n",
       "      <td>0.1000</td>\n",
       "      <td>0.0159</td>\n",
       "      <td>0.000021</td>\n",
       "      <td>0.0749</td>\n",
       "      <td>0.333</td>\n",
       "      <td>83.822</td>\n",
       "      <td>292000</td>\n",
       "      <td>en</td>\n",
       "    </tr>\n",
       "    <tr>\n",
       "      <th>8748</th>\n",
       "      <td>10444</td>\n",
       "      <td>4Iam3vZMJCMltFkK9mNruw</td>\n",
       "      <td>Bad Blood</td>\n",
       "      <td>Nao</td>\n",
       "      <td>holiday glass ocean slipping throat landing ho...</td>\n",
       "      <td>2BmceJHiy9RTyvaB1IU0P6</td>\n",
       "      <td>For All We Know</td>\n",
       "      <td>urban contemporary</td>\n",
       "      <td>1ZlL3IQS8eB0s0RMxz02yD</td>\n",
       "      <td>r&amp;b</td>\n",
       "      <td>...</td>\n",
       "      <td>-5.687</td>\n",
       "      <td>0</td>\n",
       "      <td>0.1330</td>\n",
       "      <td>0.6390</td>\n",
       "      <td>0.000004</td>\n",
       "      <td>0.0631</td>\n",
       "      <td>0.378</td>\n",
       "      <td>113.108</td>\n",
       "      <td>240627</td>\n",
       "      <td>en</td>\n",
       "    </tr>\n",
       "    <tr>\n",
       "      <th>1260</th>\n",
       "      <td>1525</td>\n",
       "      <td>0pCyoA5o2uxUwIovECCziF</td>\n",
       "      <td>Hold My Hand</td>\n",
       "      <td>Michael Jackson</td>\n",
       "      <td>akon mj oh yeah yeah life last forever hold ha...</td>\n",
       "      <td>0yYWeLqonFk11pmb0RiMbP</td>\n",
       "      <td>Michael</td>\n",
       "      <td>pop</td>\n",
       "      <td>3gV6KQYZKIuoWml0094vx6</td>\n",
       "      <td>latin</td>\n",
       "      <td>...</td>\n",
       "      <td>-5.842</td>\n",
       "      <td>1</td>\n",
       "      <td>0.0374</td>\n",
       "      <td>0.1910</td>\n",
       "      <td>0.000000</td>\n",
       "      <td>0.1080</td>\n",
       "      <td>0.381</td>\n",
       "      <td>90.017</td>\n",
       "      <td>212227</td>\n",
       "      <td>en</td>\n",
       "    </tr>\n",
       "    <tr>\n",
       "      <th>9331</th>\n",
       "      <td>11161</td>\n",
       "      <td>4r3MJuJIArZTQfOinh1HFa</td>\n",
       "      <td>Livin' It Up</td>\n",
       "      <td>Ja Rule</td>\n",
       "      <td>yea yea yea my uhh yea c mon c mon uhh ladies ...</td>\n",
       "      <td>4Xc3wBfUZ9yiszOrttoCXV</td>\n",
       "      <td>Pain Is Love (International Version)</td>\n",
       "      <td>ultimate throwbacks collection</td>\n",
       "      <td>1dsaMvnC1hXPCNGC4aVtjj</td>\n",
       "      <td>r&amp;b</td>\n",
       "      <td>...</td>\n",
       "      <td>-4.088</td>\n",
       "      <td>1</td>\n",
       "      <td>0.3210</td>\n",
       "      <td>0.0575</td>\n",
       "      <td>0.000000</td>\n",
       "      <td>0.0498</td>\n",
       "      <td>0.638</td>\n",
       "      <td>106.024</td>\n",
       "      <td>256960</td>\n",
       "      <td>en</td>\n",
       "    </tr>\n",
       "    <tr>\n",
       "      <th>14405</th>\n",
       "      <td>17240</td>\n",
       "      <td>7eBqSVxrzQZtK2mmgRG6lC</td>\n",
       "      <td>Murder On My Mind</td>\n",
       "      <td>YNW Melly</td>\n",
       "      <td>get roll no ayy i studio bro oh nah yeah call ...</td>\n",
       "      <td>7naY6j4wcgUxfHB98G79CW</td>\n",
       "      <td>I AM YOU</td>\n",
       "      <td>gangsta rap</td>\n",
       "      <td>3DUkl93JjPdOyX83SJr5ms</td>\n",
       "      <td>rap</td>\n",
       "      <td>...</td>\n",
       "      <td>-7.985</td>\n",
       "      <td>0</td>\n",
       "      <td>0.0516</td>\n",
       "      <td>0.1450</td>\n",
       "      <td>0.000003</td>\n",
       "      <td>0.1100</td>\n",
       "      <td>0.740</td>\n",
       "      <td>115.007</td>\n",
       "      <td>268434</td>\n",
       "      <td>en</td>\n",
       "    </tr>\n",
       "  </tbody>\n",
       "</table>\n",
       "<p>5 rows × 24 columns</p>\n",
       "</div>"
      ],
      "text/plain": [
       "       Unnamed: 0                track_id  \\\n",
       "10987       13148  5My5YI9oqE9MZcHIrm38BJ   \n",
       "8748        10444  4Iam3vZMJCMltFkK9mNruw   \n",
       "1260         1525  0pCyoA5o2uxUwIovECCziF   \n",
       "9331        11161  4r3MJuJIArZTQfOinh1HFa   \n",
       "14405       17240  7eBqSVxrzQZtK2mmgRG6lC   \n",
       "\n",
       "                                              track_name  \\\n",
       "10987  The Sweetest Thing (feat. Lauryn Hill) - From ...   \n",
       "8748                                           Bad Blood   \n",
       "1260                                        Hold My Hand   \n",
       "9331                                        Livin' It Up   \n",
       "14405                                  Murder On My Mind   \n",
       "\n",
       "                 track_artist  \\\n",
       "10987  Refugee Camp All-Stars   \n",
       "8748                      Nao   \n",
       "1260          Michael Jackson   \n",
       "9331                  Ja Rule   \n",
       "14405               YNW Melly   \n",
       "\n",
       "                                                  lyrics  \\\n",
       "10987  unexpected multi dimensional unexpected sound ...   \n",
       "8748   holiday glass ocean slipping throat landing ho...   \n",
       "1260   akon mj oh yeah yeah life last forever hold ha...   \n",
       "9331   yea yea yea my uhh yea c mon c mon uhh ladies ...   \n",
       "14405  get roll no ayy i studio bro oh nah yeah call ...   \n",
       "\n",
       "               track_album_id                      track_album_name  \\\n",
       "10987  7dt0RR2Kbvu3ZuWloudfjI                  Love Jones The Music   \n",
       "8748   2BmceJHiy9RTyvaB1IU0P6                       For All We Know   \n",
       "1260   0yYWeLqonFk11pmb0RiMbP                               Michael   \n",
       "9331   4Xc3wBfUZ9yiszOrttoCXV  Pain Is Love (International Version)   \n",
       "14405  7naY6j4wcgUxfHB98G79CW                              I AM YOU   \n",
       "\n",
       "                        playlist_name             playlist_id playlist_genre  \\\n",
       "10987            neo soul soulful r b  4F3xAxHxeBwXhK6k6GPnrW            r&b   \n",
       "8748               urban contemporary  1ZlL3IQS8eB0s0RMxz02yD            r&b   \n",
       "1260                              pop  3gV6KQYZKIuoWml0094vx6          latin   \n",
       "9331   ultimate throwbacks collection  1dsaMvnC1hXPCNGC4aVtjj            r&b   \n",
       "14405                     gangsta rap  3DUkl93JjPdOyX83SJr5ms            rap   \n",
       "\n",
       "       ... loudness  mode  speechiness  acousticness  instrumentalness  \\\n",
       "10987  ...  -10.084     0       0.1000        0.0159          0.000021   \n",
       "8748   ...   -5.687     0       0.1330        0.6390          0.000004   \n",
       "1260   ...   -5.842     1       0.0374        0.1910          0.000000   \n",
       "9331   ...   -4.088     1       0.3210        0.0575          0.000000   \n",
       "14405  ...   -7.985     0       0.0516        0.1450          0.000003   \n",
       "\n",
       "       liveness  valence    tempo  duration_ms  language  \n",
       "10987    0.0749    0.333   83.822       292000        en  \n",
       "8748     0.0631    0.378  113.108       240627        en  \n",
       "1260     0.1080    0.381   90.017       212227        en  \n",
       "9331     0.0498    0.638  106.024       256960        en  \n",
       "14405    0.1100    0.740  115.007       268434        en  \n",
       "\n",
       "[5 rows x 24 columns]"
      ]
     },
     "execution_count": 124,
     "metadata": {},
     "output_type": "execute_result"
    }
   ],
   "source": [
    "random_playlist.head()"
   ]
  },
  {
   "cell_type": "code",
   "execution_count": 125,
   "metadata": {},
   "outputs": [],
   "source": [
    "audio_cols = ['danceability', 'energy', 'key', 'loudness', 'mode', 'speechiness', 'acousticness', 'instrumentalness', 'liveness', 'valence', 'tempo', 'duration_ms']"
   ]
  },
  {
   "cell_type": "code",
   "execution_count": 126,
   "metadata": {},
   "outputs": [],
   "source": [
    "def extract_audio_features(playlist):\n",
    "    \"\"\"\n",
    "    Given a users playlist, extracts just the audio features from the playlist.\n",
    "    \n",
    "    Args: \n",
    "        - 2D Pandas Dataframe consisting of the playlist from a user\n",
    "    \n",
    "    Returns:\n",
    "        - 2D Pandas Dataframe consisting of the audio features from users playlist.\n",
    "    \"\"\"\n",
    "    audio_features = playlist[audio_cols].values\n",
    "    return audio_features"
   ]
  },
  {
   "attachments": {},
   "cell_type": "markdown",
   "metadata": {},
   "source": [
    "df_audio_features = extract_audio_features(df)\n",
    "df_audio_features.head(10)"
   ]
  },
  {
   "cell_type": "code",
   "execution_count": 127,
   "metadata": {},
   "outputs": [],
   "source": [
    "dataset_audio_features = extract_audio_features(df)\n",
    "df_audio_features = pd.DataFrame(dataset_audio_features, columns=audio_cols)"
   ]
  },
  {
   "cell_type": "code",
   "execution_count": 128,
   "metadata": {},
   "outputs": [
    {
     "data": {
      "text/plain": [
       "(15405, 12)"
      ]
     },
     "execution_count": 128,
     "metadata": {},
     "output_type": "execute_result"
    }
   ],
   "source": [
    "df_audio_features.shape"
   ]
  },
  {
   "cell_type": "code",
   "execution_count": 129,
   "metadata": {},
   "outputs": [
    {
     "data": {
      "text/plain": [
       "(15405, 12)"
      ]
     },
     "execution_count": 129,
     "metadata": {},
     "output_type": "execute_result"
    }
   ],
   "source": [
    "dataset_audio_features.shape"
   ]
  },
  {
   "cell_type": "code",
   "execution_count": 130,
   "metadata": {},
   "outputs": [
    {
     "name": "stdout",
     "output_type": "stream",
     "text": [
      "<class 'numpy.ndarray'>\n",
      "<class 'pandas.core.frame.DataFrame'>\n"
     ]
    }
   ],
   "source": [
    "print(type(dataset_audio_features))\n",
    "print(type(df_audio_features))"
   ]
  },
  {
   "cell_type": "code",
   "execution_count": 131,
   "metadata": {},
   "outputs": [],
   "source": [
    "cos_sim = cosine_similarity(dataset_audio_features)"
   ]
  },
  {
   "cell_type": "code",
   "execution_count": 132,
   "metadata": {},
   "outputs": [
    {
     "name": "stdout",
     "output_type": "stream",
     "text": [
      "<class 'numpy.ndarray'>\n"
     ]
    }
   ],
   "source": [
    "print(type(cos_sim))"
   ]
  },
  {
   "cell_type": "code",
   "execution_count": 133,
   "metadata": {},
   "outputs": [],
   "source": [
    "def rehape_to_3d(two_dim_playlist):\n",
    "    \"\"\"\n",
    "    Given a two-dimensional playlist, creates a three-dimensional playlist required for innput into the RNN model.\n",
    "\n",
    "    Args:\n",
    "        - two_dim_playlist: A 2D numpy array of shape (N, 12), where N is the number of songs in the playlist and 12 is the number of audio\n",
    "        features the model will analyze.\n",
    "\n",
    "    Returns:\n",
    "        - three_dim_playlist: A three dimensional representation of the playlist. Just adding a third dimension to suffice the input shape.\n",
    "        The final shape is (1, N, 12)\n",
    "    \"\"\"\n",
    "    s1 = two_dim_playlist.shape[0]\n",
    "    s2 = two_dim_playlist.shape[1]\n",
    "    three_dim_playlist = np.reshape(two_dim_playlist, (1, s1, s2))\n",
    "    return three_dim_playlist"
   ]
  },
  {
   "cell_type": "code",
   "execution_count": 134,
   "metadata": {},
   "outputs": [],
   "source": [
    "def pad_and_reshape(arr):\n",
    "    num_rows, num_cols = arr.shape[1], arr.shape[2]\n",
    "    col_avgs = np.mean(arr, axis=1).reshape(-1, num_cols) # calculate average of each column\n",
    "    padded_arr = np.empty((1, 35, 12))\n",
    "    padded_arr.fill(np.nan) # fill with NaN values initially\n",
    "    \n",
    "    # copy original array to padded array\n",
    "    padded_arr[:, :num_rows, :num_cols] = arr\n",
    "    \n",
    "    # pad remaining rows with average of each column\n",
    "    for i in range(num_rows, 35):\n",
    "        padded_arr[:, i] = col_avgs\n",
    "    \n",
    "    return padded_arr"
   ]
  },
  {
   "cell_type": "code",
   "execution_count": 135,
   "metadata": {},
   "outputs": [],
   "source": [
    "af = extract_audio_features(random_playlist)\n",
    "af = rehape_to_3d(af)\n"
   ]
  },
  {
   "cell_type": "code",
   "execution_count": 136,
   "metadata": {},
   "outputs": [
    {
     "name": "stdout",
     "output_type": "stream",
     "text": [
      "(1, 35, 12)\n"
     ]
    }
   ],
   "source": [
    "padded_playlist = pad_and_reshape(af)\n",
    "print(padded_playlist.shape)"
   ]
  },
  {
   "cell_type": "code",
   "execution_count": 137,
   "metadata": {},
   "outputs": [
    {
     "data": {
      "text/plain": [
       "array([[[ 6.090000e-01,  5.980000e-01,  7.000000e+00, -1.008400e+01,\n",
       "          0.000000e+00,  1.000000e-01,  1.590000e-02,  2.070000e-05,\n",
       "          7.490000e-02,  3.330000e-01,  8.382200e+01,  2.920000e+05],\n",
       "        [ 4.940000e-01,  4.120000e-01,  5.000000e+00, -5.687000e+00,\n",
       "          0.000000e+00,  1.330000e-01,  6.390000e-01,  4.460000e-06,\n",
       "          6.310000e-02,  3.780000e-01,  1.131080e+02,  2.406270e+05],\n",
       "        [ 6.060000e-01,  7.200000e-01,  1.000000e+00, -5.842000e+00,\n",
       "          1.000000e+00,  3.740000e-02,  1.910000e-01,  0.000000e+00,\n",
       "          1.080000e-01,  3.810000e-01,  9.001700e+01,  2.122270e+05],\n",
       "        [ 8.730000e-01,  7.650000e-01,  1.000000e+00, -4.088000e+00,\n",
       "          1.000000e+00,  3.210000e-01,  5.750000e-02,  0.000000e+00,\n",
       "          4.980000e-02,  6.380000e-01,  1.060240e+02,  2.569600e+05],\n",
       "        [ 7.590000e-01,  7.300000e-01,  0.000000e+00, -7.985000e+00,\n",
       "          0.000000e+00,  5.160000e-02,  1.450000e-01,  3.060000e-06,\n",
       "          1.100000e-01,  7.400000e-01,  1.150070e+02,  2.684340e+05],\n",
       "        [ 1.620000e-01,  8.670000e-01,  0.000000e+00, -7.180000e+00,\n",
       "          1.000000e+00,  9.200000e-02,  2.560000e-01,  3.370000e-05,\n",
       "          6.820000e-01,  4.990000e-01,  1.748510e+02,  5.052400e+05],\n",
       "        [ 8.270000e-01,  6.760000e-01,  7.000000e+00, -9.735000e+00,\n",
       "          1.000000e+00,  2.620000e-01,  2.570000e-02,  4.800000e-06,\n",
       "          7.900000e-02,  7.920000e-01,  9.783500e+01,  1.821600e+05],\n",
       "        [ 6.850000e-01,  6.960000e-01,  8.000000e+00, -4.288000e+00,\n",
       "          1.000000e+00,  3.210000e-02,  4.320000e-01,  0.000000e+00,\n",
       "          1.270000e-01,  6.500000e-01,  1.600170e+02,  2.088910e+05],\n",
       "        [ 7.230000e-01,  5.560000e-01,  0.000000e+00, -1.139400e+01,\n",
       "          1.000000e+00,  7.090000e-02,  1.630000e-02,  2.600000e-03,\n",
       "          5.050000e-02,  6.080000e-01,  1.280270e+02,  3.730550e+05],\n",
       "        [ 7.210000e-01,  3.390000e-01,  0.000000e+00, -1.119500e+01,\n",
       "          1.000000e+00,  5.320000e-02,  4.090000e-01,  1.530000e-03,\n",
       "          9.730000e-02,  2.000000e-01,  1.298300e+02,  2.007470e+05],\n",
       "        [ 6.459000e-01,  6.359000e-01,  2.900000e+00, -7.747800e+00,\n",
       "          7.000000e-01,  1.153200e-01,  2.187400e-01,  4.196720e-04,\n",
       "          1.441600e-01,  5.219000e-01,  1.198538e+02,  2.740341e+05],\n",
       "        [ 6.459000e-01,  6.359000e-01,  2.900000e+00, -7.747800e+00,\n",
       "          7.000000e-01,  1.153200e-01,  2.187400e-01,  4.196720e-04,\n",
       "          1.441600e-01,  5.219000e-01,  1.198538e+02,  2.740341e+05],\n",
       "        [ 6.459000e-01,  6.359000e-01,  2.900000e+00, -7.747800e+00,\n",
       "          7.000000e-01,  1.153200e-01,  2.187400e-01,  4.196720e-04,\n",
       "          1.441600e-01,  5.219000e-01,  1.198538e+02,  2.740341e+05],\n",
       "        [ 6.459000e-01,  6.359000e-01,  2.900000e+00, -7.747800e+00,\n",
       "          7.000000e-01,  1.153200e-01,  2.187400e-01,  4.196720e-04,\n",
       "          1.441600e-01,  5.219000e-01,  1.198538e+02,  2.740341e+05],\n",
       "        [ 6.459000e-01,  6.359000e-01,  2.900000e+00, -7.747800e+00,\n",
       "          7.000000e-01,  1.153200e-01,  2.187400e-01,  4.196720e-04,\n",
       "          1.441600e-01,  5.219000e-01,  1.198538e+02,  2.740341e+05],\n",
       "        [ 6.459000e-01,  6.359000e-01,  2.900000e+00, -7.747800e+00,\n",
       "          7.000000e-01,  1.153200e-01,  2.187400e-01,  4.196720e-04,\n",
       "          1.441600e-01,  5.219000e-01,  1.198538e+02,  2.740341e+05],\n",
       "        [ 6.459000e-01,  6.359000e-01,  2.900000e+00, -7.747800e+00,\n",
       "          7.000000e-01,  1.153200e-01,  2.187400e-01,  4.196720e-04,\n",
       "          1.441600e-01,  5.219000e-01,  1.198538e+02,  2.740341e+05],\n",
       "        [ 6.459000e-01,  6.359000e-01,  2.900000e+00, -7.747800e+00,\n",
       "          7.000000e-01,  1.153200e-01,  2.187400e-01,  4.196720e-04,\n",
       "          1.441600e-01,  5.219000e-01,  1.198538e+02,  2.740341e+05],\n",
       "        [ 6.459000e-01,  6.359000e-01,  2.900000e+00, -7.747800e+00,\n",
       "          7.000000e-01,  1.153200e-01,  2.187400e-01,  4.196720e-04,\n",
       "          1.441600e-01,  5.219000e-01,  1.198538e+02,  2.740341e+05],\n",
       "        [ 6.459000e-01,  6.359000e-01,  2.900000e+00, -7.747800e+00,\n",
       "          7.000000e-01,  1.153200e-01,  2.187400e-01,  4.196720e-04,\n",
       "          1.441600e-01,  5.219000e-01,  1.198538e+02,  2.740341e+05],\n",
       "        [ 6.459000e-01,  6.359000e-01,  2.900000e+00, -7.747800e+00,\n",
       "          7.000000e-01,  1.153200e-01,  2.187400e-01,  4.196720e-04,\n",
       "          1.441600e-01,  5.219000e-01,  1.198538e+02,  2.740341e+05],\n",
       "        [ 6.459000e-01,  6.359000e-01,  2.900000e+00, -7.747800e+00,\n",
       "          7.000000e-01,  1.153200e-01,  2.187400e-01,  4.196720e-04,\n",
       "          1.441600e-01,  5.219000e-01,  1.198538e+02,  2.740341e+05],\n",
       "        [ 6.459000e-01,  6.359000e-01,  2.900000e+00, -7.747800e+00,\n",
       "          7.000000e-01,  1.153200e-01,  2.187400e-01,  4.196720e-04,\n",
       "          1.441600e-01,  5.219000e-01,  1.198538e+02,  2.740341e+05],\n",
       "        [ 6.459000e-01,  6.359000e-01,  2.900000e+00, -7.747800e+00,\n",
       "          7.000000e-01,  1.153200e-01,  2.187400e-01,  4.196720e-04,\n",
       "          1.441600e-01,  5.219000e-01,  1.198538e+02,  2.740341e+05],\n",
       "        [ 6.459000e-01,  6.359000e-01,  2.900000e+00, -7.747800e+00,\n",
       "          7.000000e-01,  1.153200e-01,  2.187400e-01,  4.196720e-04,\n",
       "          1.441600e-01,  5.219000e-01,  1.198538e+02,  2.740341e+05],\n",
       "        [ 6.459000e-01,  6.359000e-01,  2.900000e+00, -7.747800e+00,\n",
       "          7.000000e-01,  1.153200e-01,  2.187400e-01,  4.196720e-04,\n",
       "          1.441600e-01,  5.219000e-01,  1.198538e+02,  2.740341e+05],\n",
       "        [ 6.459000e-01,  6.359000e-01,  2.900000e+00, -7.747800e+00,\n",
       "          7.000000e-01,  1.153200e-01,  2.187400e-01,  4.196720e-04,\n",
       "          1.441600e-01,  5.219000e-01,  1.198538e+02,  2.740341e+05],\n",
       "        [ 6.459000e-01,  6.359000e-01,  2.900000e+00, -7.747800e+00,\n",
       "          7.000000e-01,  1.153200e-01,  2.187400e-01,  4.196720e-04,\n",
       "          1.441600e-01,  5.219000e-01,  1.198538e+02,  2.740341e+05],\n",
       "        [ 6.459000e-01,  6.359000e-01,  2.900000e+00, -7.747800e+00,\n",
       "          7.000000e-01,  1.153200e-01,  2.187400e-01,  4.196720e-04,\n",
       "          1.441600e-01,  5.219000e-01,  1.198538e+02,  2.740341e+05],\n",
       "        [ 6.459000e-01,  6.359000e-01,  2.900000e+00, -7.747800e+00,\n",
       "          7.000000e-01,  1.153200e-01,  2.187400e-01,  4.196720e-04,\n",
       "          1.441600e-01,  5.219000e-01,  1.198538e+02,  2.740341e+05],\n",
       "        [ 6.459000e-01,  6.359000e-01,  2.900000e+00, -7.747800e+00,\n",
       "          7.000000e-01,  1.153200e-01,  2.187400e-01,  4.196720e-04,\n",
       "          1.441600e-01,  5.219000e-01,  1.198538e+02,  2.740341e+05],\n",
       "        [ 6.459000e-01,  6.359000e-01,  2.900000e+00, -7.747800e+00,\n",
       "          7.000000e-01,  1.153200e-01,  2.187400e-01,  4.196720e-04,\n",
       "          1.441600e-01,  5.219000e-01,  1.198538e+02,  2.740341e+05],\n",
       "        [ 6.459000e-01,  6.359000e-01,  2.900000e+00, -7.747800e+00,\n",
       "          7.000000e-01,  1.153200e-01,  2.187400e-01,  4.196720e-04,\n",
       "          1.441600e-01,  5.219000e-01,  1.198538e+02,  2.740341e+05],\n",
       "        [ 6.459000e-01,  6.359000e-01,  2.900000e+00, -7.747800e+00,\n",
       "          7.000000e-01,  1.153200e-01,  2.187400e-01,  4.196720e-04,\n",
       "          1.441600e-01,  5.219000e-01,  1.198538e+02,  2.740341e+05],\n",
       "        [ 6.459000e-01,  6.359000e-01,  2.900000e+00, -7.747800e+00,\n",
       "          7.000000e-01,  1.153200e-01,  2.187400e-01,  4.196720e-04,\n",
       "          1.441600e-01,  5.219000e-01,  1.198538e+02,  2.740341e+05]]])"
      ]
     },
     "execution_count": 137,
     "metadata": {},
     "output_type": "execute_result"
    }
   ],
   "source": [
    "padded_playlist"
   ]
  },
  {
   "cell_type": "code",
   "execution_count": 138,
   "metadata": {},
   "outputs": [
    {
     "data": {
      "text/plain": [
       "(1, 10, 12)"
      ]
     },
     "execution_count": 138,
     "metadata": {},
     "output_type": "execute_result"
    }
   ],
   "source": [
    "af.shape"
   ]
  },
  {
   "cell_type": "code",
   "execution_count": 139,
   "metadata": {},
   "outputs": [],
   "source": [
    "model = joblib.load('simpleRNN.pkl')"
   ]
  },
  {
   "cell_type": "code",
   "execution_count": 140,
   "metadata": {},
   "outputs": [
    {
     "name": "stdout",
     "output_type": "stream",
     "text": [
      "WARNING:tensorflow:6 out of the last 6 calls to <function Model.make_predict_function.<locals>.predict_function at 0x7fab3338e0d0> triggered tf.function retracing. Tracing is expensive and the excessive number of tracings could be due to (1) creating @tf.function repeatedly in a loop, (2) passing tensors with different shapes, (3) passing Python objects instead of tensors. For (1), please define your @tf.function outside of the loop. For (2), @tf.function has experimental_relax_shapes=True option that relaxes argument shapes that can avoid unnecessary retracing. For (3), please refer to https://www.tensorflow.org/guide/function#controlling_retracing and https://www.tensorflow.org/api_docs/python/tf/function for  more details.\n",
      "[[ 4.0899327e-01 -9.1485977e-03  3.3621628e+00 -1.3685110e+00\n",
      "  -3.4327966e-01  3.7615336e-02  1.2920648e-01 -2.8875064e-02\n",
      "   1.4405602e-01 -1.0360333e+00  2.0095821e+01  2.1025404e+01]]\n",
      "(1, 12)\n"
     ]
    }
   ],
   "source": [
    "predictions = model.predict(padded_playlist)\n",
    "print(predictions)\n",
    "print(predictions.shape)\n"
   ]
  },
  {
   "cell_type": "code",
   "execution_count": 141,
   "metadata": {},
   "outputs": [],
   "source": [
    "# calculate the cosine similarity between the input array and each row of the larger array\n",
    "cosine_similarities = np.apply_along_axis(lambda x: 1 - cosine(predictions, x), 1, dataset_audio_features)"
   ]
  },
  {
   "cell_type": "code",
   "execution_count": 142,
   "metadata": {},
   "outputs": [
    {
     "name": "stdout",
     "output_type": "stream",
     "text": [
      "Most similar row index(es): [ 3510 14421  8043   125   846]\n"
     ]
    }
   ],
   "source": [
    "most_similar_index = np.argsort(cosine_similarities)[::-1][:5]\n",
    "print(f\"Most similar row index(es): {most_similar_index}\")"
   ]
  },
  {
   "cell_type": "code",
   "execution_count": 143,
   "metadata": {},
   "outputs": [
    {
     "data": {
      "text/html": [
       "<div>\n",
       "<style scoped>\n",
       "    .dataframe tbody tr th:only-of-type {\n",
       "        vertical-align: middle;\n",
       "    }\n",
       "\n",
       "    .dataframe tbody tr th {\n",
       "        vertical-align: top;\n",
       "    }\n",
       "\n",
       "    .dataframe thead th {\n",
       "        text-align: right;\n",
       "    }\n",
       "</style>\n",
       "<table border=\"1\" class=\"dataframe\">\n",
       "  <thead>\n",
       "    <tr style=\"text-align: right;\">\n",
       "      <th></th>\n",
       "      <th>track_name</th>\n",
       "      <th>track_artist</th>\n",
       "    </tr>\n",
       "  </thead>\n",
       "  <tbody>\n",
       "    <tr>\n",
       "      <th>3510</th>\n",
       "      <td>raindrops (an angel cried)</td>\n",
       "      <td>Ariana Grande</td>\n",
       "    </tr>\n",
       "    <tr>\n",
       "      <th>14421</th>\n",
       "      <td>No Guarantee - Remix Version</td>\n",
       "      <td>Chico DeBarge</td>\n",
       "    </tr>\n",
       "    <tr>\n",
       "      <th>8043</th>\n",
       "      <td>Episode VIII</td>\n",
       "      <td>Madlib</td>\n",
       "    </tr>\n",
       "    <tr>\n",
       "      <th>125</th>\n",
       "      <td>Rearranged</td>\n",
       "      <td>Killstation</td>\n",
       "    </tr>\n",
       "    <tr>\n",
       "      <th>846</th>\n",
       "      <td>Attitude</td>\n",
       "      <td>Guns N' Roses</td>\n",
       "    </tr>\n",
       "  </tbody>\n",
       "</table>\n",
       "</div>"
      ],
      "text/plain": [
       "                         track_name   track_artist\n",
       "3510     raindrops (an angel cried)  Ariana Grande\n",
       "14421  No Guarantee - Remix Version  Chico DeBarge\n",
       "8043                   Episode VIII         Madlib\n",
       "125                      Rearranged    Killstation\n",
       "846                        Attitude  Guns N' Roses"
      ]
     },
     "execution_count": 143,
     "metadata": {},
     "output_type": "execute_result"
    }
   ],
   "source": [
    "def get_song_details(df, songs : list) -> list:\n",
    "    song_rows = df.iloc[songs]\n",
    "    return song_rows\n",
    "\n",
    "recommended_songs = get_song_details(df, songs=most_similar_index)\n",
    "recommended_songs.loc[:, ['track_name', 'track_artist']]"
   ]
  },
  {
   "cell_type": "code",
   "execution_count": 144,
   "metadata": {},
   "outputs": [
    {
     "name": "stdout",
     "output_type": "stream",
     "text": [
      "Serving up your top five song recommendations!\n",
      "-------------------------------------------------------\n",
      "                         track_name   track_artist\n",
      "3510     raindrops (an angel cried)  Ariana Grande\n",
      "14421  No Guarantee - Remix Version  Chico DeBarge\n",
      "8043                   Episode VIII         Madlib\n",
      "125                      Rearranged    Killstation\n",
      "846                        Attitude  Guns N' Roses\n"
     ]
    }
   ],
   "source": [
    "def get_song_artist_titles(df, songs : list) -> list:\n",
    "    song_rows = df.iloc[songs]\n",
    "    print(\"Serving up your top five song recommendations!\")\n",
    "    print(\"-\"*55)\n",
    "    print(song_rows.loc[:, ['track_name', 'track_artist']])\n",
    "\n",
    "    \n",
    "\n",
    "get_song_artist_titles(df=df, songs=most_similar_index)"
   ]
  }
 ],
 "metadata": {
  "kernelspec": {
   "display_name": "Python 3",
   "language": "python",
   "name": "python3"
  },
  "language_info": {
   "codemirror_mode": {
    "name": "ipython",
    "version": 3
   },
   "file_extension": ".py",
   "mimetype": "text/x-python",
   "name": "python",
   "nbconvert_exporter": "python",
   "pygments_lexer": "ipython3",
   "version": "3.9.6"
  },
  "orig_nbformat": 4
 },
 "nbformat": 4,
 "nbformat_minor": 2
}
