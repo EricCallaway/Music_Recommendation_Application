{
 "cells": [
  {
   "cell_type": "code",
   "execution_count": 91,
   "metadata": {},
   "outputs": [],
   "source": [
    "import pandas as pd\n",
    "import numpy as np\n",
    "import random\n",
    "import matplotlib.pyplot as plt\n",
    "import joblib\n",
    "\n",
    "from typing import List, Tuple\n",
    "from numpy import shape\n",
    "\n",
    "from keras.models import Sequential\n",
    "from keras.layers import LSTM, Dense\n",
    "\n",
    "from tensorflow import keras\n",
    "from tensorflow.keras import layers\n",
    "from tensorflow.keras.losses import MeanSquaredError\n",
    "from tensorflow.keras.metrics import RootMeanSquaredError\n",
    "from tensorflow.keras.optimizers import Adam\n",
    "\n",
    "from scipy.spatial.distance import cosine\n",
    "\n",
    "\n",
    "from sklearn.model_selection import train_test_split\n",
    "from sklearn.metrics import mean_squared_error\n",
    "from sklearn.metrics.pairwise import cosine_similarity"
   ]
  },
  {
   "cell_type": "code",
   "execution_count": 92,
   "metadata": {},
   "outputs": [],
   "source": [
    "df = pd.read_csv('../datasets/cleaned_RNN_dataset.zip')\n"
   ]
  },
  {
   "cell_type": "code",
   "execution_count": 93,
   "metadata": {},
   "outputs": [],
   "source": [
    "random_playlist = df.sample(n=10)\n"
   ]
  },
  {
   "cell_type": "code",
   "execution_count": 94,
   "metadata": {},
   "outputs": [
    {
     "data": {
      "text/html": [
       "<div>\n",
       "<style scoped>\n",
       "    .dataframe tbody tr th:only-of-type {\n",
       "        vertical-align: middle;\n",
       "    }\n",
       "\n",
       "    .dataframe tbody tr th {\n",
       "        vertical-align: top;\n",
       "    }\n",
       "\n",
       "    .dataframe thead th {\n",
       "        text-align: right;\n",
       "    }\n",
       "</style>\n",
       "<table border=\"1\" class=\"dataframe\">\n",
       "  <thead>\n",
       "    <tr style=\"text-align: right;\">\n",
       "      <th></th>\n",
       "      <th>Unnamed: 0</th>\n",
       "      <th>track_id</th>\n",
       "      <th>track_name</th>\n",
       "      <th>track_artist</th>\n",
       "      <th>lyrics</th>\n",
       "      <th>track_album_id</th>\n",
       "      <th>track_album_name</th>\n",
       "      <th>playlist_name</th>\n",
       "      <th>playlist_id</th>\n",
       "      <th>playlist_genre</th>\n",
       "      <th>...</th>\n",
       "      <th>loudness</th>\n",
       "      <th>mode</th>\n",
       "      <th>speechiness</th>\n",
       "      <th>acousticness</th>\n",
       "      <th>instrumentalness</th>\n",
       "      <th>liveness</th>\n",
       "      <th>valence</th>\n",
       "      <th>tempo</th>\n",
       "      <th>duration_ms</th>\n",
       "      <th>language</th>\n",
       "    </tr>\n",
       "  </thead>\n",
       "  <tbody>\n",
       "    <tr>\n",
       "      <th>13447</th>\n",
       "      <td>16080</td>\n",
       "      <td>6u7jPi22kF8CTQ3rb9DHE7</td>\n",
       "      <td>Old Town Road (feat. Billy Ray Cyrus) - Remix</td>\n",
       "      <td>Lil Nas X</td>\n",
       "      <td>yeah i gonna take horse old town road i gonna ...</td>\n",
       "      <td>38kpkGLuPr1nNfD3iEyOlJ</td>\n",
       "      <td>Old Town Road</td>\n",
       "      <td>indie poptimism</td>\n",
       "      <td>6MQeEHHDs6HQkN5Dlj3oKo</td>\n",
       "      <td>pop</td>\n",
       "      <td>...</td>\n",
       "      <td>-5.560</td>\n",
       "      <td>1</td>\n",
       "      <td>0.1020</td>\n",
       "      <td>0.0533</td>\n",
       "      <td>0.000000</td>\n",
       "      <td>0.1130</td>\n",
       "      <td>0.639</td>\n",
       "      <td>136.041</td>\n",
       "      <td>157067</td>\n",
       "      <td>en</td>\n",
       "    </tr>\n",
       "    <tr>\n",
       "      <th>14871</th>\n",
       "      <td>17815</td>\n",
       "      <td>7lQWRAjyhTpCWFC0jmclT4</td>\n",
       "      <td>Gangsta's Paradise</td>\n",
       "      <td>Coolio</td>\n",
       "      <td>na walk valley shadow death take look life rea...</td>\n",
       "      <td>0fYctMs4EvoEqzDh8Kmg5g</td>\n",
       "      <td>Gangsta's Paradise</td>\n",
       "      <td>dr q prescription playlist</td>\n",
       "      <td>6jAPdgY9XmxC9cgkXAVmVv</td>\n",
       "      <td>pop</td>\n",
       "      <td>...</td>\n",
       "      <td>-10.050</td>\n",
       "      <td>1</td>\n",
       "      <td>0.0593</td>\n",
       "      <td>0.0655</td>\n",
       "      <td>0.000000</td>\n",
       "      <td>0.3980</td>\n",
       "      <td>0.387</td>\n",
       "      <td>79.974</td>\n",
       "      <td>240693</td>\n",
       "      <td>en</td>\n",
       "    </tr>\n",
       "    <tr>\n",
       "      <th>13032</th>\n",
       "      <td>15573</td>\n",
       "      <td>6Nle9hKrkL1wQpwNfEkxjh</td>\n",
       "      <td>Chanel</td>\n",
       "      <td>Frank Ocean</td>\n",
       "      <td>guy pretty like girl got fight stories tell se...</td>\n",
       "      <td>6OGzmhzHcjf0uN9j7dYvZH</td>\n",
       "      <td>Chanel</td>\n",
       "      <td>electropop</td>\n",
       "      <td>2Z5cPJ6Z4EVZAfF08amjvL</td>\n",
       "      <td>pop</td>\n",
       "      <td>...</td>\n",
       "      <td>-5.732</td>\n",
       "      <td>0</td>\n",
       "      <td>0.2370</td>\n",
       "      <td>0.8740</td>\n",
       "      <td>0.000000</td>\n",
       "      <td>0.1120</td>\n",
       "      <td>0.473</td>\n",
       "      <td>110.134</td>\n",
       "      <td>210285</td>\n",
       "      <td>en</td>\n",
       "    </tr>\n",
       "    <tr>\n",
       "      <th>9385</th>\n",
       "      <td>11222</td>\n",
       "      <td>4RX1akxesJEFSvStbMQnop</td>\n",
       "      <td>Sweet Nothing - Tiësto Remix</td>\n",
       "      <td>Calvin Harris</td>\n",
       "      <td>took heart held mouth word love came rushing e...</td>\n",
       "      <td>0Wk1PrzniZxw4dhv9VUgzD</td>\n",
       "      <td>Sweet Nothing</td>\n",
       "      <td>house</td>\n",
       "      <td>53Ga3Xt9fumdJfhNNSBvzU</td>\n",
       "      <td>edm</td>\n",
       "      <td>...</td>\n",
       "      <td>-7.419</td>\n",
       "      <td>0</td>\n",
       "      <td>0.2990</td>\n",
       "      <td>0.0102</td>\n",
       "      <td>0.147000</td>\n",
       "      <td>0.0576</td>\n",
       "      <td>0.393</td>\n",
       "      <td>127.977</td>\n",
       "      <td>308533</td>\n",
       "      <td>en</td>\n",
       "    </tr>\n",
       "    <tr>\n",
       "      <th>4709</th>\n",
       "      <td>5617</td>\n",
       "      <td>2GB8OypbvrvCee61FKx5dp</td>\n",
       "      <td>A Hazy Shade of Winter</td>\n",
       "      <td>Simon &amp; Garfunkel</td>\n",
       "      <td>time time time see what become looked around p...</td>\n",
       "      <td>3bzgbgiytguTDnwzflAZr2</td>\n",
       "      <td>Bookends</td>\n",
       "      <td>didnt know perm stood permanent wave</td>\n",
       "      <td>3e6gYPyrTbaB8BWgSHCt5j</td>\n",
       "      <td>rock</td>\n",
       "      <td>...</td>\n",
       "      <td>-11.203</td>\n",
       "      <td>0</td>\n",
       "      <td>0.0296</td>\n",
       "      <td>0.1390</td>\n",
       "      <td>0.000007</td>\n",
       "      <td>0.3780</td>\n",
       "      <td>0.969</td>\n",
       "      <td>142.027</td>\n",
       "      <td>137480</td>\n",
       "      <td>en</td>\n",
       "    </tr>\n",
       "  </tbody>\n",
       "</table>\n",
       "<p>5 rows × 24 columns</p>\n",
       "</div>"
      ],
      "text/plain": [
       "       Unnamed: 0                track_id  \\\n",
       "13447       16080  6u7jPi22kF8CTQ3rb9DHE7   \n",
       "14871       17815  7lQWRAjyhTpCWFC0jmclT4   \n",
       "13032       15573  6Nle9hKrkL1wQpwNfEkxjh   \n",
       "9385        11222  4RX1akxesJEFSvStbMQnop   \n",
       "4709         5617  2GB8OypbvrvCee61FKx5dp   \n",
       "\n",
       "                                          track_name       track_artist  \\\n",
       "13447  Old Town Road (feat. Billy Ray Cyrus) - Remix          Lil Nas X   \n",
       "14871                             Gangsta's Paradise             Coolio   \n",
       "13032                                         Chanel        Frank Ocean   \n",
       "9385                    Sweet Nothing - Tiësto Remix      Calvin Harris   \n",
       "4709                          A Hazy Shade of Winter  Simon & Garfunkel   \n",
       "\n",
       "                                                  lyrics  \\\n",
       "13447  yeah i gonna take horse old town road i gonna ...   \n",
       "14871  na walk valley shadow death take look life rea...   \n",
       "13032  guy pretty like girl got fight stories tell se...   \n",
       "9385   took heart held mouth word love came rushing e...   \n",
       "4709   time time time see what become looked around p...   \n",
       "\n",
       "               track_album_id    track_album_name  \\\n",
       "13447  38kpkGLuPr1nNfD3iEyOlJ       Old Town Road   \n",
       "14871  0fYctMs4EvoEqzDh8Kmg5g  Gangsta's Paradise   \n",
       "13032  6OGzmhzHcjf0uN9j7dYvZH              Chanel   \n",
       "9385   0Wk1PrzniZxw4dhv9VUgzD       Sweet Nothing   \n",
       "4709   3bzgbgiytguTDnwzflAZr2            Bookends   \n",
       "\n",
       "                              playlist_name             playlist_id  \\\n",
       "13447                       indie poptimism  6MQeEHHDs6HQkN5Dlj3oKo   \n",
       "14871            dr q prescription playlist  6jAPdgY9XmxC9cgkXAVmVv   \n",
       "13032                            electropop  2Z5cPJ6Z4EVZAfF08amjvL   \n",
       "9385                                  house  53Ga3Xt9fumdJfhNNSBvzU   \n",
       "4709   didnt know perm stood permanent wave  3e6gYPyrTbaB8BWgSHCt5j   \n",
       "\n",
       "      playlist_genre  ... loudness  mode  speechiness  acousticness  \\\n",
       "13447            pop  ...   -5.560     1       0.1020        0.0533   \n",
       "14871            pop  ...  -10.050     1       0.0593        0.0655   \n",
       "13032            pop  ...   -5.732     0       0.2370        0.8740   \n",
       "9385             edm  ...   -7.419     0       0.2990        0.0102   \n",
       "4709            rock  ...  -11.203     0       0.0296        0.1390   \n",
       "\n",
       "       instrumentalness  liveness  valence    tempo  duration_ms  language  \n",
       "13447          0.000000    0.1130    0.639  136.041       157067        en  \n",
       "14871          0.000000    0.3980    0.387   79.974       240693        en  \n",
       "13032          0.000000    0.1120    0.473  110.134       210285        en  \n",
       "9385           0.147000    0.0576    0.393  127.977       308533        en  \n",
       "4709           0.000007    0.3780    0.969  142.027       137480        en  \n",
       "\n",
       "[5 rows x 24 columns]"
      ]
     },
     "execution_count": 94,
     "metadata": {},
     "output_type": "execute_result"
    }
   ],
   "source": [
    "random_playlist.head()"
   ]
  },
  {
   "cell_type": "code",
   "execution_count": 95,
   "metadata": {},
   "outputs": [],
   "source": [
    "audio_cols = ['danceability', 'energy', 'key', 'loudness', 'mode', 'speechiness', 'acousticness', 'instrumentalness', 'liveness', 'valence', 'tempo', 'duration_ms']"
   ]
  },
  {
   "cell_type": "code",
   "execution_count": 96,
   "metadata": {},
   "outputs": [],
   "source": [
    "def extract_audio_features(playlist):\n",
    "    \"\"\"\n",
    "    Given a users playlist, extracts just the audio features from the playlist.\n",
    "    \n",
    "    Args: \n",
    "        - 2D Pandas Dataframe consisting of the playlist from a user\n",
    "    \n",
    "    Returns:\n",
    "        - 2D Pandas Dataframe consisting of the audio features from users playlist.\n",
    "    \"\"\"\n",
    "    audio_features = playlist[audio_cols].values\n",
    "    return audio_features"
   ]
  },
  {
   "attachments": {},
   "cell_type": "markdown",
   "metadata": {},
   "source": [
    "df_audio_features = extract_audio_features(df)\n",
    "df_audio_features.head(10)"
   ]
  },
  {
   "cell_type": "code",
   "execution_count": 97,
   "metadata": {},
   "outputs": [],
   "source": [
    "dataset_audio_features = extract_audio_features(df)\n",
    "df_audio_features = pd.DataFrame(dataset_audio_features, columns=audio_cols)"
   ]
  },
  {
   "cell_type": "code",
   "execution_count": 98,
   "metadata": {},
   "outputs": [
    {
     "data": {
      "text/plain": [
       "(15405, 12)"
      ]
     },
     "execution_count": 98,
     "metadata": {},
     "output_type": "execute_result"
    }
   ],
   "source": [
    "df_audio_features.shape"
   ]
  },
  {
   "cell_type": "code",
   "execution_count": 99,
   "metadata": {},
   "outputs": [
    {
     "data": {
      "text/plain": [
       "(15405, 12)"
      ]
     },
     "execution_count": 99,
     "metadata": {},
     "output_type": "execute_result"
    }
   ],
   "source": [
    "dataset_audio_features.shape"
   ]
  },
  {
   "cell_type": "code",
   "execution_count": 100,
   "metadata": {},
   "outputs": [
    {
     "name": "stdout",
     "output_type": "stream",
     "text": [
      "<class 'numpy.ndarray'>\n",
      "<class 'pandas.core.frame.DataFrame'>\n"
     ]
    }
   ],
   "source": [
    "print(type(dataset_audio_features))\n",
    "print(type(df_audio_features))"
   ]
  },
  {
   "cell_type": "code",
   "execution_count": 101,
   "metadata": {},
   "outputs": [],
   "source": [
    "cos_sim = cosine_similarity(dataset_audio_features)"
   ]
  },
  {
   "cell_type": "code",
   "execution_count": 102,
   "metadata": {},
   "outputs": [
    {
     "name": "stdout",
     "output_type": "stream",
     "text": [
      "<class 'numpy.ndarray'>\n"
     ]
    }
   ],
   "source": [
    "print(type(cos_sim))"
   ]
  },
  {
   "cell_type": "code",
   "execution_count": 103,
   "metadata": {},
   "outputs": [],
   "source": [
    "def rehape_to_3d(two_dim_playlist):\n",
    "    \"\"\"\n",
    "    Given a two-dimensional playlist, creates a three-dimensional playlist required for innput into the RNN model.\n",
    "\n",
    "    Args:\n",
    "        - two_dim_playlist: A 2D numpy array of shape (N, 12), where N is the number of songs in the playlist and 12 is the number of audio\n",
    "        features the model will analyze.\n",
    "\n",
    "    Returns:\n",
    "        - three_dim_playlist: A three dimensional representation of the playlist. Just adding a third dimension to suffice the input shape.\n",
    "        The final shape is (1, N, 12)\n",
    "    \"\"\"\n",
    "    s1 = two_dim_playlist.shape[0]\n",
    "    s2 = two_dim_playlist.shape[1]\n",
    "    three_dim_playlist = np.reshape(two_dim_playlist, (1, s1, s2))\n",
    "    return three_dim_playlist"
   ]
  },
  {
   "cell_type": "code",
   "execution_count": 104,
   "metadata": {},
   "outputs": [],
   "source": [
    "def pad_and_reshape(arr):\n",
    "    num_rows, num_cols = arr.shape[1], arr.shape[2]\n",
    "    col_avgs = np.mean(arr, axis=1).reshape(-1, num_cols) # calculate average of each column\n",
    "    padded_arr = np.empty((1, 35, 12))\n",
    "    padded_arr.fill(np.nan) # fill with NaN values initially\n",
    "    \n",
    "    # copy original array to padded array\n",
    "    padded_arr[:, :num_rows, :num_cols] = arr\n",
    "    \n",
    "    # pad remaining rows with average of each column\n",
    "    for i in range(num_rows, 35):\n",
    "        padded_arr[:, i] = col_avgs\n",
    "    \n",
    "    return padded_arr"
   ]
  },
  {
   "cell_type": "code",
   "execution_count": 105,
   "metadata": {},
   "outputs": [],
   "source": [
    "af = extract_audio_features(random_playlist)\n",
    "af = rehape_to_3d(af)\n"
   ]
  },
  {
   "cell_type": "code",
   "execution_count": 106,
   "metadata": {},
   "outputs": [
    {
     "name": "stdout",
     "output_type": "stream",
     "text": [
      "(1, 35, 12)\n"
     ]
    }
   ],
   "source": [
    "padded_playlist = pad_and_reshape(af)\n",
    "print(padded_playlist.shape)"
   ]
  },
  {
   "cell_type": "code",
   "execution_count": 107,
   "metadata": {},
   "outputs": [
    {
     "data": {
      "text/plain": [
       "array([[[ 8.7800000e-01,  6.1900000e-01,  6.0000000e+00, -5.5600000e+00,\n",
       "          1.0000000e+00,  1.0200000e-01,  5.3300000e-02,  0.0000000e+00,\n",
       "          1.1300000e-01,  6.3900000e-01,  1.3604100e+02,  1.5706700e+05],\n",
       "        [ 6.4700000e-01,  5.1400000e-01,  8.0000000e+00, -1.0050000e+01,\n",
       "          1.0000000e+00,  5.9300000e-02,  6.5500000e-02,  0.0000000e+00,\n",
       "          3.9800000e-01,  3.8700000e-01,  7.9974000e+01,  2.4069300e+05],\n",
       "        [ 7.7600000e-01,  5.0300000e-01,  0.0000000e+00, -5.7320000e+00,\n",
       "          0.0000000e+00,  2.3700000e-01,  8.7400000e-01,  0.0000000e+00,\n",
       "          1.1200000e-01,  4.7300000e-01,  1.1013400e+02,  2.1028500e+05],\n",
       "        [ 6.6200000e-01,  6.2000000e-01,  8.0000000e+00, -7.4190000e+00,\n",
       "          0.0000000e+00,  2.9900000e-01,  1.0200000e-02,  1.4700000e-01,\n",
       "          5.7600000e-02,  3.9300000e-01,  1.2797700e+02,  3.0853300e+05],\n",
       "        [ 4.9700000e-01,  5.9000000e-01,  2.0000000e+00, -1.1203000e+01,\n",
       "          0.0000000e+00,  2.9600000e-02,  1.3900000e-01,  7.1100000e-06,\n",
       "          3.7800000e-01,  9.6900000e-01,  1.4202700e+02,  1.3748000e+05],\n",
       "        [ 9.0600000e-01,  8.3200000e-01,  5.0000000e+00, -3.0040000e+00,\n",
       "          0.0000000e+00,  7.1800000e-02,  9.0900000e-02,  0.0000000e+00,\n",
       "          1.5200000e-01,  7.5100000e-01,  1.0403000e+02,  1.5975300e+05],\n",
       "        [ 6.0700000e-01,  4.7800000e-01,  1.0000000e+00, -5.7020000e+00,\n",
       "          0.0000000e+00,  3.1000000e-02,  6.4900000e-01,  0.0000000e+00,\n",
       "          9.2800000e-02,  2.5500000e-01,  8.8979000e+01,  1.9002700e+05],\n",
       "        [ 5.2900000e-01,  8.5100000e-01,  6.0000000e+00, -7.0050000e+00,\n",
       "          1.0000000e+00,  3.1500000e-02,  2.4100000e-04,  2.5600000e-04,\n",
       "          1.1400000e-01,  5.3400000e-01,  8.4015000e+01,  2.3595700e+05],\n",
       "        [ 7.2000000e-01,  5.8300000e-01,  1.1000000e+01, -4.5150000e+00,\n",
       "          0.0000000e+00,  1.7300000e-01,  4.7800000e-01,  0.0000000e+00,\n",
       "          1.7000000e-01,  3.2500000e-01,  1.4979100e+02,  1.5890700e+05],\n",
       "        [ 8.0200000e-01,  7.8500000e-01,  9.0000000e+00, -4.7810000e+00,\n",
       "          1.0000000e+00,  2.0700000e-01,  1.4000000e-01,  0.0000000e+00,\n",
       "          1.2300000e-01,  4.3500000e-01,  9.9998000e+01,  2.0640000e+05],\n",
       "        [ 7.0240000e-01,  6.3750000e-01,  5.6000000e+00, -6.4971000e+00,\n",
       "          4.0000000e-01,  1.2412000e-01,  2.5001410e-01,  1.4726311e-02,\n",
       "          1.7104000e-01,  5.1610000e-01,  1.1229660e+02,  2.0051020e+05],\n",
       "        [ 7.0240000e-01,  6.3750000e-01,  5.6000000e+00, -6.4971000e+00,\n",
       "          4.0000000e-01,  1.2412000e-01,  2.5001410e-01,  1.4726311e-02,\n",
       "          1.7104000e-01,  5.1610000e-01,  1.1229660e+02,  2.0051020e+05],\n",
       "        [ 7.0240000e-01,  6.3750000e-01,  5.6000000e+00, -6.4971000e+00,\n",
       "          4.0000000e-01,  1.2412000e-01,  2.5001410e-01,  1.4726311e-02,\n",
       "          1.7104000e-01,  5.1610000e-01,  1.1229660e+02,  2.0051020e+05],\n",
       "        [ 7.0240000e-01,  6.3750000e-01,  5.6000000e+00, -6.4971000e+00,\n",
       "          4.0000000e-01,  1.2412000e-01,  2.5001410e-01,  1.4726311e-02,\n",
       "          1.7104000e-01,  5.1610000e-01,  1.1229660e+02,  2.0051020e+05],\n",
       "        [ 7.0240000e-01,  6.3750000e-01,  5.6000000e+00, -6.4971000e+00,\n",
       "          4.0000000e-01,  1.2412000e-01,  2.5001410e-01,  1.4726311e-02,\n",
       "          1.7104000e-01,  5.1610000e-01,  1.1229660e+02,  2.0051020e+05],\n",
       "        [ 7.0240000e-01,  6.3750000e-01,  5.6000000e+00, -6.4971000e+00,\n",
       "          4.0000000e-01,  1.2412000e-01,  2.5001410e-01,  1.4726311e-02,\n",
       "          1.7104000e-01,  5.1610000e-01,  1.1229660e+02,  2.0051020e+05],\n",
       "        [ 7.0240000e-01,  6.3750000e-01,  5.6000000e+00, -6.4971000e+00,\n",
       "          4.0000000e-01,  1.2412000e-01,  2.5001410e-01,  1.4726311e-02,\n",
       "          1.7104000e-01,  5.1610000e-01,  1.1229660e+02,  2.0051020e+05],\n",
       "        [ 7.0240000e-01,  6.3750000e-01,  5.6000000e+00, -6.4971000e+00,\n",
       "          4.0000000e-01,  1.2412000e-01,  2.5001410e-01,  1.4726311e-02,\n",
       "          1.7104000e-01,  5.1610000e-01,  1.1229660e+02,  2.0051020e+05],\n",
       "        [ 7.0240000e-01,  6.3750000e-01,  5.6000000e+00, -6.4971000e+00,\n",
       "          4.0000000e-01,  1.2412000e-01,  2.5001410e-01,  1.4726311e-02,\n",
       "          1.7104000e-01,  5.1610000e-01,  1.1229660e+02,  2.0051020e+05],\n",
       "        [ 7.0240000e-01,  6.3750000e-01,  5.6000000e+00, -6.4971000e+00,\n",
       "          4.0000000e-01,  1.2412000e-01,  2.5001410e-01,  1.4726311e-02,\n",
       "          1.7104000e-01,  5.1610000e-01,  1.1229660e+02,  2.0051020e+05],\n",
       "        [ 7.0240000e-01,  6.3750000e-01,  5.6000000e+00, -6.4971000e+00,\n",
       "          4.0000000e-01,  1.2412000e-01,  2.5001410e-01,  1.4726311e-02,\n",
       "          1.7104000e-01,  5.1610000e-01,  1.1229660e+02,  2.0051020e+05],\n",
       "        [ 7.0240000e-01,  6.3750000e-01,  5.6000000e+00, -6.4971000e+00,\n",
       "          4.0000000e-01,  1.2412000e-01,  2.5001410e-01,  1.4726311e-02,\n",
       "          1.7104000e-01,  5.1610000e-01,  1.1229660e+02,  2.0051020e+05],\n",
       "        [ 7.0240000e-01,  6.3750000e-01,  5.6000000e+00, -6.4971000e+00,\n",
       "          4.0000000e-01,  1.2412000e-01,  2.5001410e-01,  1.4726311e-02,\n",
       "          1.7104000e-01,  5.1610000e-01,  1.1229660e+02,  2.0051020e+05],\n",
       "        [ 7.0240000e-01,  6.3750000e-01,  5.6000000e+00, -6.4971000e+00,\n",
       "          4.0000000e-01,  1.2412000e-01,  2.5001410e-01,  1.4726311e-02,\n",
       "          1.7104000e-01,  5.1610000e-01,  1.1229660e+02,  2.0051020e+05],\n",
       "        [ 7.0240000e-01,  6.3750000e-01,  5.6000000e+00, -6.4971000e+00,\n",
       "          4.0000000e-01,  1.2412000e-01,  2.5001410e-01,  1.4726311e-02,\n",
       "          1.7104000e-01,  5.1610000e-01,  1.1229660e+02,  2.0051020e+05],\n",
       "        [ 7.0240000e-01,  6.3750000e-01,  5.6000000e+00, -6.4971000e+00,\n",
       "          4.0000000e-01,  1.2412000e-01,  2.5001410e-01,  1.4726311e-02,\n",
       "          1.7104000e-01,  5.1610000e-01,  1.1229660e+02,  2.0051020e+05],\n",
       "        [ 7.0240000e-01,  6.3750000e-01,  5.6000000e+00, -6.4971000e+00,\n",
       "          4.0000000e-01,  1.2412000e-01,  2.5001410e-01,  1.4726311e-02,\n",
       "          1.7104000e-01,  5.1610000e-01,  1.1229660e+02,  2.0051020e+05],\n",
       "        [ 7.0240000e-01,  6.3750000e-01,  5.6000000e+00, -6.4971000e+00,\n",
       "          4.0000000e-01,  1.2412000e-01,  2.5001410e-01,  1.4726311e-02,\n",
       "          1.7104000e-01,  5.1610000e-01,  1.1229660e+02,  2.0051020e+05],\n",
       "        [ 7.0240000e-01,  6.3750000e-01,  5.6000000e+00, -6.4971000e+00,\n",
       "          4.0000000e-01,  1.2412000e-01,  2.5001410e-01,  1.4726311e-02,\n",
       "          1.7104000e-01,  5.1610000e-01,  1.1229660e+02,  2.0051020e+05],\n",
       "        [ 7.0240000e-01,  6.3750000e-01,  5.6000000e+00, -6.4971000e+00,\n",
       "          4.0000000e-01,  1.2412000e-01,  2.5001410e-01,  1.4726311e-02,\n",
       "          1.7104000e-01,  5.1610000e-01,  1.1229660e+02,  2.0051020e+05],\n",
       "        [ 7.0240000e-01,  6.3750000e-01,  5.6000000e+00, -6.4971000e+00,\n",
       "          4.0000000e-01,  1.2412000e-01,  2.5001410e-01,  1.4726311e-02,\n",
       "          1.7104000e-01,  5.1610000e-01,  1.1229660e+02,  2.0051020e+05],\n",
       "        [ 7.0240000e-01,  6.3750000e-01,  5.6000000e+00, -6.4971000e+00,\n",
       "          4.0000000e-01,  1.2412000e-01,  2.5001410e-01,  1.4726311e-02,\n",
       "          1.7104000e-01,  5.1610000e-01,  1.1229660e+02,  2.0051020e+05],\n",
       "        [ 7.0240000e-01,  6.3750000e-01,  5.6000000e+00, -6.4971000e+00,\n",
       "          4.0000000e-01,  1.2412000e-01,  2.5001410e-01,  1.4726311e-02,\n",
       "          1.7104000e-01,  5.1610000e-01,  1.1229660e+02,  2.0051020e+05],\n",
       "        [ 7.0240000e-01,  6.3750000e-01,  5.6000000e+00, -6.4971000e+00,\n",
       "          4.0000000e-01,  1.2412000e-01,  2.5001410e-01,  1.4726311e-02,\n",
       "          1.7104000e-01,  5.1610000e-01,  1.1229660e+02,  2.0051020e+05],\n",
       "        [ 7.0240000e-01,  6.3750000e-01,  5.6000000e+00, -6.4971000e+00,\n",
       "          4.0000000e-01,  1.2412000e-01,  2.5001410e-01,  1.4726311e-02,\n",
       "          1.7104000e-01,  5.1610000e-01,  1.1229660e+02,  2.0051020e+05]]])"
      ]
     },
     "execution_count": 107,
     "metadata": {},
     "output_type": "execute_result"
    }
   ],
   "source": [
    "padded_playlist"
   ]
  },
  {
   "cell_type": "code",
   "execution_count": 108,
   "metadata": {},
   "outputs": [
    {
     "data": {
      "text/plain": [
       "(1, 10, 12)"
      ]
     },
     "execution_count": 108,
     "metadata": {},
     "output_type": "execute_result"
    }
   ],
   "source": [
    "af.shape"
   ]
  },
  {
   "cell_type": "code",
   "execution_count": 109,
   "metadata": {},
   "outputs": [],
   "source": [
    "model = joblib.load('simpleRNN.pkl')"
   ]
  },
  {
   "cell_type": "code",
   "execution_count": 110,
   "metadata": {},
   "outputs": [
    {
     "name": "stdout",
     "output_type": "stream",
     "text": [
      "[[ 0.4136654   0.45533007  3.13637    -1.2570764   0.5161253  -0.41632524\n",
      "   0.07576507 -0.14258227  0.09709774  0.31569985 -0.5050068   9.858376  ]]\n",
      "(1, 12)\n"
     ]
    }
   ],
   "source": [
    "predictions = model.predict(padded_playlist)\n",
    "print(predictions)\n",
    "print(predictions.shape)\n"
   ]
  },
  {
   "cell_type": "code",
   "execution_count": 111,
   "metadata": {},
   "outputs": [],
   "source": [
    "# calculate the cosine similarity between the input array and each row of the larger array\n",
    "cosine_similarities = np.apply_along_axis(lambda x: 1 - cosine(predictions, x), 1, dataset_audio_features)"
   ]
  },
  {
   "cell_type": "code",
   "execution_count": 138,
   "metadata": {},
   "outputs": [
    {
     "name": "stdout",
     "output_type": "stream",
     "text": [
      "Most similar row index(s): [6011 5132 6679  493 1500]\n"
     ]
    }
   ],
   "source": [
    "most_similar_index = np.argsort(cosine_similarities)[::-1][:5]\n",
    "print(f\"Most similar row index(s): {most_similar_index}\")"
   ]
  },
  {
   "cell_type": "code",
   "execution_count": 136,
   "metadata": {},
   "outputs": [
    {
     "data": {
      "text/html": [
       "<div>\n",
       "<style scoped>\n",
       "    .dataframe tbody tr th:only-of-type {\n",
       "        vertical-align: middle;\n",
       "    }\n",
       "\n",
       "    .dataframe tbody tr th {\n",
       "        vertical-align: top;\n",
       "    }\n",
       "\n",
       "    .dataframe thead th {\n",
       "        text-align: right;\n",
       "    }\n",
       "</style>\n",
       "<table border=\"1\" class=\"dataframe\">\n",
       "  <thead>\n",
       "    <tr style=\"text-align: right;\">\n",
       "      <th></th>\n",
       "      <th>track_name</th>\n",
       "      <th>track_artist</th>\n",
       "    </tr>\n",
       "  </thead>\n",
       "  <tbody>\n",
       "    <tr>\n",
       "      <th>6011</th>\n",
       "      <td>Sweet Caroline</td>\n",
       "      <td>Neil Diamond</td>\n",
       "    </tr>\n",
       "    <tr>\n",
       "      <th>5132</th>\n",
       "      <td>Small</td>\n",
       "      <td>chloe moriondo</td>\n",
       "    </tr>\n",
       "    <tr>\n",
       "      <th>6679</th>\n",
       "      <td>Still Crazy After All These Years</td>\n",
       "      <td>Paul Simon</td>\n",
       "    </tr>\n",
       "    <tr>\n",
       "      <th>493</th>\n",
       "      <td>Monsters in Your Bedroom</td>\n",
       "      <td>Tertia May</td>\n",
       "    </tr>\n",
       "    <tr>\n",
       "      <th>1500</th>\n",
       "      <td>Doors Closing</td>\n",
       "      <td>Moonchild</td>\n",
       "    </tr>\n",
       "  </tbody>\n",
       "</table>\n",
       "</div>"
      ],
      "text/plain": [
       "                             track_name    track_artist\n",
       "6011                     Sweet Caroline    Neil Diamond\n",
       "5132                              Small  chloe moriondo\n",
       "6679  Still Crazy After All These Years      Paul Simon\n",
       "493            Monsters in Your Bedroom      Tertia May\n",
       "1500                      Doors Closing       Moonchild"
      ]
     },
     "execution_count": 136,
     "metadata": {},
     "output_type": "execute_result"
    }
   ],
   "source": [
    "def get_song_details(df, songs : list) -> list:\n",
    "    song_rows = df.iloc[songs]\n",
    "    return song_rows\n",
    "\n",
    "recommended_songs = get_song_details(df, songs=most_similar_index)\n",
    "recommended_songs.loc[:, ['track_name', 'track_artist']]"
   ]
  },
  {
   "cell_type": "code",
   "execution_count": 139,
   "metadata": {},
   "outputs": [
    {
     "name": "stdout",
     "output_type": "stream",
     "text": [
      "Serving up your top five song recommendations!\n",
      "-------------------------------------------------------\n",
      "                             track_name    track_artist\n",
      "6011                     Sweet Caroline    Neil Diamond\n",
      "5132                              Small  chloe moriondo\n",
      "6679  Still Crazy After All These Years      Paul Simon\n",
      "493            Monsters in Your Bedroom      Tertia May\n",
      "1500                      Doors Closing       Moonchild\n"
     ]
    }
   ],
   "source": [
    "def get_song_artist_titles(df, songs : list) -> list:\n",
    "    song_rows = df.iloc[songs]\n",
    "    print(\"Serving up your top five song recommendations!\")\n",
    "    print(\"-\"*55)\n",
    "    print(song_rows.loc[:, ['track_name', 'track_artist']])\n",
    "\n",
    "    \n",
    "\n",
    "get_song_artist_titles(df=df, songs=most_similar_index)"
   ]
  }
 ],
 "metadata": {
  "kernelspec": {
   "display_name": "Python 3",
   "language": "python",
   "name": "python3"
  },
  "language_info": {
   "codemirror_mode": {
    "name": "ipython",
    "version": 3
   },
   "file_extension": ".py",
   "mimetype": "text/x-python",
   "name": "python",
   "nbconvert_exporter": "python",
   "pygments_lexer": "ipython3",
   "version": "3.9.6"
  },
  "orig_nbformat": 4
 },
 "nbformat": 4,
 "nbformat_minor": 2
}
