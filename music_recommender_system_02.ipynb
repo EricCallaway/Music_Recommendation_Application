{
  "nbformat": 4,
  "nbformat_minor": 0,
  "metadata": {
    "colab": {
      "provenance": [],
      "authorship_tag": "ABX9TyPoW4KQ9rCxfhooJoJYWOhS",
      "include_colab_link": true
    },
    "kernelspec": {
      "name": "python3",
      "display_name": "Python 3"
    },
    "language_info": {
      "name": "python"
    }
  },
  "cells": [
    {
      "cell_type": "markdown",
      "metadata": {
        "id": "view-in-github",
        "colab_type": "text"
      },
      "source": [
        "<a href=\"https://colab.research.google.com/github/EricCallaway/Music_Recommendation_Application/blob/main/music_recommender_system_02.ipynb\" target=\"_parent\"><img src=\"https://colab.research.google.com/assets/colab-badge.svg\" alt=\"Open In Colab\"/></a>"
      ]
    },
    {
      "cell_type": "code",
      "execution_count": 276,
      "metadata": {
        "id": "TJY9qfzbq6J3"
      },
      "outputs": [],
      "source": [
        "import pandas as pd\n",
        "import numpy as np\n",
        "import re\n",
        "import string\n",
        "import nltk\n",
        "import matplotlib.pyplot as plt\n",
        "\n",
        "from nltk.stem import PorterStemmer, WordNetLemmatizer\n",
        "from nltk.corpus import stopwords, wordnet\n",
        "from wordcloud import WordCloud, STOPWORDS\n",
        "from sklearn.model_selection import train_test_split, StratifiedShuffleSplit\n",
        "from sklearn.feature_extraction.text import TfidfVectorizer\n",
        "from keras import Sequential\n",
        "from keras.layers import Embedding, Dropout, LSTM, Dense, Reshape\n",
        "from keras.optimizers import Adam"
      ]
    },
    {
      "cell_type": "code",
      "source": [
        "from google.colab import drive\n",
        "drive.mount('/content/drive', force_remount=False)"
      ],
      "metadata": {
        "colab": {
          "base_uri": "https://localhost:8080/"
        },
        "id": "uvcTqfp9q_iK",
        "outputId": "04af671b-e2ba-4850-e282-6398be387480"
      },
      "execution_count": 90,
      "outputs": [
        {
          "output_type": "stream",
          "name": "stdout",
          "text": [
            "Drive already mounted at /content/drive; to attempt to forcibly remount, call drive.mount(\"/content/drive\", force_remount=True).\n"
          ]
        }
      ]
    },
    {
      "cell_type": "code",
      "source": [
        "df = pd.read_csv('/content/drive/MyDrive/Data/Recommender_System/trainIdx1.csv')\n",
        "track_data = pd.read_csv('/content/drive/MyDrive/Data/Recommender_System/trackData1.csv')"
      ],
      "metadata": {
        "id": "vbJ3k8gzrLMl"
      },
      "execution_count": 91,
      "outputs": []
    },
    {
      "cell_type": "code",
      "source": [
        "track_data.head()"
      ],
      "metadata": {
        "id": "dCkMWdYqUiek"
      },
      "execution_count": null,
      "outputs": []
    },
    {
      "cell_type": "code",
      "source": [
        "track_data.info()"
      ],
      "metadata": {
        "colab": {
          "base_uri": "https://localhost:8080/"
        },
        "id": "3EYNO2IjUlOx",
        "outputId": "dbd2cd3c-e73d-4240-f24f-7a9058e8cf37"
      },
      "execution_count": 94,
      "outputs": [
        {
          "output_type": "stream",
          "name": "stdout",
          "text": [
            "<class 'pandas.core.frame.DataFrame'>\n",
            "RangeIndex: 507172 entries, 0 to 507171\n",
            "Data columns (total 24 columns):\n",
            " #   Column      Non-Null Count   Dtype  \n",
            "---  ------      --------------   -----  \n",
            " 0   TrackID     507172 non-null  int64  \n",
            " 1   AlbumID     507172 non-null  object \n",
            " 2   ArtistID    507172 non-null  object \n",
            " 3   GenreID     475968 non-null  float64\n",
            " 4   GenreID2    283851 non-null  float64\n",
            " 5   GenreID3    165351 non-null  float64\n",
            " 6   GenreID4    86291 non-null   float64\n",
            " 7   GenreID5    43846 non-null   float64\n",
            " 8   GenreID6    24444 non-null   float64\n",
            " 9   GenreID7    16675 non-null   float64\n",
            " 10  GenreID8    10925 non-null   float64\n",
            " 11  GenreID9    7667 non-null    float64\n",
            " 12  GenreID10   5573 non-null    float64\n",
            " 13  GenreID11   4806 non-null    float64\n",
            " 14  GenreID12   3254 non-null    float64\n",
            " 15  GenreID13   2608 non-null    float64\n",
            " 16  GenreID14   1994 non-null    float64\n",
            " 17  GenreID15   1456 non-null    float64\n",
            " 18  GenreID16   436 non-null     float64\n",
            " 19  GenreID17   141 non-null     float64\n",
            " 20  GenreID18   33 non-null      float64\n",
            " 21  GenreID19   33 non-null      float64\n",
            " 22  GenreID20   33 non-null      float64\n",
            " 23   GenreID21  33 non-null      float64\n",
            "dtypes: float64(21), int64(1), object(2)\n",
            "memory usage: 92.9+ MB\n"
          ]
        }
      ]
    },
    {
      "cell_type": "code",
      "source": [
        "track_data = track_data.drop(track_data.columns[4:], axis=1)\n",
        "track_data = track_data.dropna(subset=[\"GenreID\"])"
      ],
      "metadata": {
        "id": "rG5AEhepVEJI"
      },
      "execution_count": 97,
      "outputs": []
    },
    {
      "cell_type": "code",
      "source": [
        "track_data.head()"
      ],
      "metadata": {
        "colab": {
          "base_uri": "https://localhost:8080/",
          "height": 206
        },
        "id": "zGtnwQ9fVhfV",
        "outputId": "36a73d4b-fcb0-44b4-fcc5-40f8e7f0beef"
      },
      "execution_count": 99,
      "outputs": [
        {
          "output_type": "execute_result",
          "data": {
            "text/plain": [
              "   TrackID AlbumID ArtistID   GenreID\n",
              "0        0  224058   587636  349388.0\n",
              "2        2   10930   454149  349388.0\n",
              "3        3  403310    78755  211566.0\n",
              "4        4  359171   614925  147073.0\n",
              "5        5  187049   196558  247563.0"
            ],
            "text/html": [
              "\n",
              "  <div id=\"df-c221fe32-e076-40d7-95e9-5bf28e8e5d13\">\n",
              "    <div class=\"colab-df-container\">\n",
              "      <div>\n",
              "<style scoped>\n",
              "    .dataframe tbody tr th:only-of-type {\n",
              "        vertical-align: middle;\n",
              "    }\n",
              "\n",
              "    .dataframe tbody tr th {\n",
              "        vertical-align: top;\n",
              "    }\n",
              "\n",
              "    .dataframe thead th {\n",
              "        text-align: right;\n",
              "    }\n",
              "</style>\n",
              "<table border=\"1\" class=\"dataframe\">\n",
              "  <thead>\n",
              "    <tr style=\"text-align: right;\">\n",
              "      <th></th>\n",
              "      <th>TrackID</th>\n",
              "      <th>AlbumID</th>\n",
              "      <th>ArtistID</th>\n",
              "      <th>GenreID</th>\n",
              "    </tr>\n",
              "  </thead>\n",
              "  <tbody>\n",
              "    <tr>\n",
              "      <th>0</th>\n",
              "      <td>0</td>\n",
              "      <td>224058</td>\n",
              "      <td>587636</td>\n",
              "      <td>349388.0</td>\n",
              "    </tr>\n",
              "    <tr>\n",
              "      <th>2</th>\n",
              "      <td>2</td>\n",
              "      <td>10930</td>\n",
              "      <td>454149</td>\n",
              "      <td>349388.0</td>\n",
              "    </tr>\n",
              "    <tr>\n",
              "      <th>3</th>\n",
              "      <td>3</td>\n",
              "      <td>403310</td>\n",
              "      <td>78755</td>\n",
              "      <td>211566.0</td>\n",
              "    </tr>\n",
              "    <tr>\n",
              "      <th>4</th>\n",
              "      <td>4</td>\n",
              "      <td>359171</td>\n",
              "      <td>614925</td>\n",
              "      <td>147073.0</td>\n",
              "    </tr>\n",
              "    <tr>\n",
              "      <th>5</th>\n",
              "      <td>5</td>\n",
              "      <td>187049</td>\n",
              "      <td>196558</td>\n",
              "      <td>247563.0</td>\n",
              "    </tr>\n",
              "  </tbody>\n",
              "</table>\n",
              "</div>\n",
              "      <button class=\"colab-df-convert\" onclick=\"convertToInteractive('df-c221fe32-e076-40d7-95e9-5bf28e8e5d13')\"\n",
              "              title=\"Convert this dataframe to an interactive table.\"\n",
              "              style=\"display:none;\">\n",
              "        \n",
              "  <svg xmlns=\"http://www.w3.org/2000/svg\" height=\"24px\"viewBox=\"0 0 24 24\"\n",
              "       width=\"24px\">\n",
              "    <path d=\"M0 0h24v24H0V0z\" fill=\"none\"/>\n",
              "    <path d=\"M18.56 5.44l.94 2.06.94-2.06 2.06-.94-2.06-.94-.94-2.06-.94 2.06-2.06.94zm-11 1L8.5 8.5l.94-2.06 2.06-.94-2.06-.94L8.5 2.5l-.94 2.06-2.06.94zm10 10l.94 2.06.94-2.06 2.06-.94-2.06-.94-.94-2.06-.94 2.06-2.06.94z\"/><path d=\"M17.41 7.96l-1.37-1.37c-.4-.4-.92-.59-1.43-.59-.52 0-1.04.2-1.43.59L10.3 9.45l-7.72 7.72c-.78.78-.78 2.05 0 2.83L4 21.41c.39.39.9.59 1.41.59.51 0 1.02-.2 1.41-.59l7.78-7.78 2.81-2.81c.8-.78.8-2.07 0-2.86zM5.41 20L4 18.59l7.72-7.72 1.47 1.35L5.41 20z\"/>\n",
              "  </svg>\n",
              "      </button>\n",
              "      \n",
              "  <style>\n",
              "    .colab-df-container {\n",
              "      display:flex;\n",
              "      flex-wrap:wrap;\n",
              "      gap: 12px;\n",
              "    }\n",
              "\n",
              "    .colab-df-convert {\n",
              "      background-color: #E8F0FE;\n",
              "      border: none;\n",
              "      border-radius: 50%;\n",
              "      cursor: pointer;\n",
              "      display: none;\n",
              "      fill: #1967D2;\n",
              "      height: 32px;\n",
              "      padding: 0 0 0 0;\n",
              "      width: 32px;\n",
              "    }\n",
              "\n",
              "    .colab-df-convert:hover {\n",
              "      background-color: #E2EBFA;\n",
              "      box-shadow: 0px 1px 2px rgba(60, 64, 67, 0.3), 0px 1px 3px 1px rgba(60, 64, 67, 0.15);\n",
              "      fill: #174EA6;\n",
              "    }\n",
              "\n",
              "    [theme=dark] .colab-df-convert {\n",
              "      background-color: #3B4455;\n",
              "      fill: #D2E3FC;\n",
              "    }\n",
              "\n",
              "    [theme=dark] .colab-df-convert:hover {\n",
              "      background-color: #434B5C;\n",
              "      box-shadow: 0px 1px 3px 1px rgba(0, 0, 0, 0.15);\n",
              "      filter: drop-shadow(0px 1px 2px rgba(0, 0, 0, 0.3));\n",
              "      fill: #FFFFFF;\n",
              "    }\n",
              "  </style>\n",
              "\n",
              "      <script>\n",
              "        const buttonEl =\n",
              "          document.querySelector('#df-c221fe32-e076-40d7-95e9-5bf28e8e5d13 button.colab-df-convert');\n",
              "        buttonEl.style.display =\n",
              "          google.colab.kernel.accessAllowed ? 'block' : 'none';\n",
              "\n",
              "        async function convertToInteractive(key) {\n",
              "          const element = document.querySelector('#df-c221fe32-e076-40d7-95e9-5bf28e8e5d13');\n",
              "          const dataTable =\n",
              "            await google.colab.kernel.invokeFunction('convertToInteractive',\n",
              "                                                     [key], {});\n",
              "          if (!dataTable) return;\n",
              "\n",
              "          const docLinkHtml = 'Like what you see? Visit the ' +\n",
              "            '<a target=\"_blank\" href=https://colab.research.google.com/notebooks/data_table.ipynb>data table notebook</a>'\n",
              "            + ' to learn more about interactive tables.';\n",
              "          element.innerHTML = '';\n",
              "          dataTable['output_type'] = 'display_data';\n",
              "          await google.colab.output.renderOutput(dataTable, element);\n",
              "          const docLink = document.createElement('div');\n",
              "          docLink.innerHTML = docLinkHtml;\n",
              "          element.appendChild(docLink);\n",
              "        }\n",
              "      </script>\n",
              "    </div>\n",
              "  </div>\n",
              "  "
            ]
          },
          "metadata": {},
          "execution_count": 99
        }
      ]
    },
    {
      "cell_type": "code",
      "source": [
        "track_data.info()"
      ],
      "metadata": {
        "colab": {
          "base_uri": "https://localhost:8080/"
        },
        "id": "q3t58W8XVKCD",
        "outputId": "f4022983-7ae7-4ff2-bd8e-a2c263c7ca1b"
      },
      "execution_count": 98,
      "outputs": [
        {
          "output_type": "stream",
          "name": "stdout",
          "text": [
            "<class 'pandas.core.frame.DataFrame'>\n",
            "Int64Index: 475968 entries, 0 to 507171\n",
            "Data columns (total 4 columns):\n",
            " #   Column    Non-Null Count   Dtype  \n",
            "---  ------    --------------   -----  \n",
            " 0   TrackID   475968 non-null  int64  \n",
            " 1   AlbumID   475968 non-null  object \n",
            " 2   ArtistID  475968 non-null  object \n",
            " 3   GenreID   475968 non-null  float64\n",
            "dtypes: float64(1), int64(1), object(2)\n",
            "memory usage: 18.2+ MB\n"
          ]
        }
      ]
    },
    {
      "cell_type": "code",
      "source": [
        "df.info()"
      ],
      "metadata": {
        "colab": {
          "base_uri": "https://localhost:8080/"
        },
        "id": "z9Rw4Phzwkcf",
        "outputId": "82dc6a35-5ea1-4316-8afc-d2ebd99f909e"
      },
      "execution_count": 92,
      "outputs": [
        {
          "output_type": "stream",
          "name": "stdout",
          "text": [
            "<class 'pandas.core.frame.DataFrame'>\n",
            "RangeIndex: 999999 entries, 0 to 999998\n",
            "Data columns (total 3 columns):\n",
            " #   Column  Non-Null Count   Dtype\n",
            "---  ------  --------------   -----\n",
            " 0   0       999999 non-null  int64\n",
            " 1   507696  999999 non-null  int64\n",
            " 2   90      999999 non-null  int64\n",
            "dtypes: int64(3)\n",
            "memory usage: 22.9 MB\n"
          ]
        }
      ]
    },
    {
      "cell_type": "code",
      "source": [
        "df = df.rename(columns={\"0\": \"UserID\", \"507696\": \"ItemID\", \"90\": \"Score\"})"
      ],
      "metadata": {
        "id": "W183_fvXyUpt"
      },
      "execution_count": 101,
      "outputs": []
    },
    {
      "cell_type": "code",
      "source": [
        "merged_df = pd.merge(df, track_data, left_on='ItemID', right_on='TrackID', how='left')"
      ],
      "metadata": {
        "id": "vSODSTWzWe5F"
      },
      "execution_count": 213,
      "outputs": []
    },
    {
      "cell_type": "code",
      "source": [
        "merged_df.info()"
      ],
      "metadata": {
        "colab": {
          "base_uri": "https://localhost:8080/"
        },
        "id": "_SBx7-OTWznO",
        "outputId": "2eb509f6-2064-4052-ccfb-d93946ef186f"
      },
      "execution_count": 214,
      "outputs": [
        {
          "output_type": "stream",
          "name": "stdout",
          "text": [
            "<class 'pandas.core.frame.DataFrame'>\n",
            "Int64Index: 999999 entries, 0 to 999998\n",
            "Data columns (total 7 columns):\n",
            " #   Column    Non-Null Count   Dtype  \n",
            "---  ------    --------------   -----  \n",
            " 0   UserID    999999 non-null  int64  \n",
            " 1   ItemID    999999 non-null  int64  \n",
            " 2   Score     999999 non-null  int64  \n",
            " 3   TrackID   451472 non-null  float64\n",
            " 4   AlbumID   451472 non-null  object \n",
            " 5   ArtistID  451472 non-null  object \n",
            " 6   GenreID   451472 non-null  float64\n",
            "dtypes: float64(2), int64(3), object(2)\n",
            "memory usage: 61.0+ MB\n"
          ]
        }
      ]
    },
    {
      "cell_type": "code",
      "source": [
        "merged_df = merged_df.dropna(subset=[\"GenreID\"])"
      ],
      "metadata": {
        "id": "dDbRzXAJXAUi"
      },
      "execution_count": 215,
      "outputs": []
    },
    {
      "cell_type": "code",
      "source": [
        "merged_df.head()"
      ],
      "metadata": {
        "colab": {
          "base_uri": "https://localhost:8080/",
          "height": 206
        },
        "id": "-mqnEoeXXGzL",
        "outputId": "68f9bf99-f094-493d-d13e-d75ce5734343"
      },
      "execution_count": 216,
      "outputs": [
        {
          "output_type": "execute_result",
          "data": {
            "text/plain": [
              "    UserID  ItemID  Score   TrackID AlbumID ArtistID   GenreID\n",
              "26       0  127640     50  127640.0  113323   592747   85012.0\n",
              "30       0  193714     30  193714.0   26137   180037  531386.0\n",
              "32       0  522229      0  522229.0   94522   452599  600770.0\n",
              "34       0  112040     90  112040.0  450906   392726  600770.0\n",
              "37       0  464229     90  464229.0  453488     9101  600770.0"
            ],
            "text/html": [
              "\n",
              "  <div id=\"df-c6e52230-5d2f-4f90-a945-57a27342101f\">\n",
              "    <div class=\"colab-df-container\">\n",
              "      <div>\n",
              "<style scoped>\n",
              "    .dataframe tbody tr th:only-of-type {\n",
              "        vertical-align: middle;\n",
              "    }\n",
              "\n",
              "    .dataframe tbody tr th {\n",
              "        vertical-align: top;\n",
              "    }\n",
              "\n",
              "    .dataframe thead th {\n",
              "        text-align: right;\n",
              "    }\n",
              "</style>\n",
              "<table border=\"1\" class=\"dataframe\">\n",
              "  <thead>\n",
              "    <tr style=\"text-align: right;\">\n",
              "      <th></th>\n",
              "      <th>UserID</th>\n",
              "      <th>ItemID</th>\n",
              "      <th>Score</th>\n",
              "      <th>TrackID</th>\n",
              "      <th>AlbumID</th>\n",
              "      <th>ArtistID</th>\n",
              "      <th>GenreID</th>\n",
              "    </tr>\n",
              "  </thead>\n",
              "  <tbody>\n",
              "    <tr>\n",
              "      <th>26</th>\n",
              "      <td>0</td>\n",
              "      <td>127640</td>\n",
              "      <td>50</td>\n",
              "      <td>127640.0</td>\n",
              "      <td>113323</td>\n",
              "      <td>592747</td>\n",
              "      <td>85012.0</td>\n",
              "    </tr>\n",
              "    <tr>\n",
              "      <th>30</th>\n",
              "      <td>0</td>\n",
              "      <td>193714</td>\n",
              "      <td>30</td>\n",
              "      <td>193714.0</td>\n",
              "      <td>26137</td>\n",
              "      <td>180037</td>\n",
              "      <td>531386.0</td>\n",
              "    </tr>\n",
              "    <tr>\n",
              "      <th>32</th>\n",
              "      <td>0</td>\n",
              "      <td>522229</td>\n",
              "      <td>0</td>\n",
              "      <td>522229.0</td>\n",
              "      <td>94522</td>\n",
              "      <td>452599</td>\n",
              "      <td>600770.0</td>\n",
              "    </tr>\n",
              "    <tr>\n",
              "      <th>34</th>\n",
              "      <td>0</td>\n",
              "      <td>112040</td>\n",
              "      <td>90</td>\n",
              "      <td>112040.0</td>\n",
              "      <td>450906</td>\n",
              "      <td>392726</td>\n",
              "      <td>600770.0</td>\n",
              "    </tr>\n",
              "    <tr>\n",
              "      <th>37</th>\n",
              "      <td>0</td>\n",
              "      <td>464229</td>\n",
              "      <td>90</td>\n",
              "      <td>464229.0</td>\n",
              "      <td>453488</td>\n",
              "      <td>9101</td>\n",
              "      <td>600770.0</td>\n",
              "    </tr>\n",
              "  </tbody>\n",
              "</table>\n",
              "</div>\n",
              "      <button class=\"colab-df-convert\" onclick=\"convertToInteractive('df-c6e52230-5d2f-4f90-a945-57a27342101f')\"\n",
              "              title=\"Convert this dataframe to an interactive table.\"\n",
              "              style=\"display:none;\">\n",
              "        \n",
              "  <svg xmlns=\"http://www.w3.org/2000/svg\" height=\"24px\"viewBox=\"0 0 24 24\"\n",
              "       width=\"24px\">\n",
              "    <path d=\"M0 0h24v24H0V0z\" fill=\"none\"/>\n",
              "    <path d=\"M18.56 5.44l.94 2.06.94-2.06 2.06-.94-2.06-.94-.94-2.06-.94 2.06-2.06.94zm-11 1L8.5 8.5l.94-2.06 2.06-.94-2.06-.94L8.5 2.5l-.94 2.06-2.06.94zm10 10l.94 2.06.94-2.06 2.06-.94-2.06-.94-.94-2.06-.94 2.06-2.06.94z\"/><path d=\"M17.41 7.96l-1.37-1.37c-.4-.4-.92-.59-1.43-.59-.52 0-1.04.2-1.43.59L10.3 9.45l-7.72 7.72c-.78.78-.78 2.05 0 2.83L4 21.41c.39.39.9.59 1.41.59.51 0 1.02-.2 1.41-.59l7.78-7.78 2.81-2.81c.8-.78.8-2.07 0-2.86zM5.41 20L4 18.59l7.72-7.72 1.47 1.35L5.41 20z\"/>\n",
              "  </svg>\n",
              "      </button>\n",
              "      \n",
              "  <style>\n",
              "    .colab-df-container {\n",
              "      display:flex;\n",
              "      flex-wrap:wrap;\n",
              "      gap: 12px;\n",
              "    }\n",
              "\n",
              "    .colab-df-convert {\n",
              "      background-color: #E8F0FE;\n",
              "      border: none;\n",
              "      border-radius: 50%;\n",
              "      cursor: pointer;\n",
              "      display: none;\n",
              "      fill: #1967D2;\n",
              "      height: 32px;\n",
              "      padding: 0 0 0 0;\n",
              "      width: 32px;\n",
              "    }\n",
              "\n",
              "    .colab-df-convert:hover {\n",
              "      background-color: #E2EBFA;\n",
              "      box-shadow: 0px 1px 2px rgba(60, 64, 67, 0.3), 0px 1px 3px 1px rgba(60, 64, 67, 0.15);\n",
              "      fill: #174EA6;\n",
              "    }\n",
              "\n",
              "    [theme=dark] .colab-df-convert {\n",
              "      background-color: #3B4455;\n",
              "      fill: #D2E3FC;\n",
              "    }\n",
              "\n",
              "    [theme=dark] .colab-df-convert:hover {\n",
              "      background-color: #434B5C;\n",
              "      box-shadow: 0px 1px 3px 1px rgba(0, 0, 0, 0.15);\n",
              "      filter: drop-shadow(0px 1px 2px rgba(0, 0, 0, 0.3));\n",
              "      fill: #FFFFFF;\n",
              "    }\n",
              "  </style>\n",
              "\n",
              "      <script>\n",
              "        const buttonEl =\n",
              "          document.querySelector('#df-c6e52230-5d2f-4f90-a945-57a27342101f button.colab-df-convert');\n",
              "        buttonEl.style.display =\n",
              "          google.colab.kernel.accessAllowed ? 'block' : 'none';\n",
              "\n",
              "        async function convertToInteractive(key) {\n",
              "          const element = document.querySelector('#df-c6e52230-5d2f-4f90-a945-57a27342101f');\n",
              "          const dataTable =\n",
              "            await google.colab.kernel.invokeFunction('convertToInteractive',\n",
              "                                                     [key], {});\n",
              "          if (!dataTable) return;\n",
              "\n",
              "          const docLinkHtml = 'Like what you see? Visit the ' +\n",
              "            '<a target=\"_blank\" href=https://colab.research.google.com/notebooks/data_table.ipynb>data table notebook</a>'\n",
              "            + ' to learn more about interactive tables.';\n",
              "          element.innerHTML = '';\n",
              "          dataTable['output_type'] = 'display_data';\n",
              "          await google.colab.output.renderOutput(dataTable, element);\n",
              "          const docLink = document.createElement('div');\n",
              "          docLink.innerHTML = docLinkHtml;\n",
              "          element.appendChild(docLink);\n",
              "        }\n",
              "      </script>\n",
              "    </div>\n",
              "  </div>\n",
              "  "
            ]
          },
          "metadata": {},
          "execution_count": 216
        }
      ]
    },
    {
      "cell_type": "code",
      "source": [
        "merged_df.info()"
      ],
      "metadata": {
        "colab": {
          "base_uri": "https://localhost:8080/"
        },
        "id": "V74y3L_oja1s",
        "outputId": "88271f16-42c9-4a47-c124-0c5e3042b221"
      },
      "execution_count": 217,
      "outputs": [
        {
          "output_type": "stream",
          "name": "stdout",
          "text": [
            "<class 'pandas.core.frame.DataFrame'>\n",
            "Int64Index: 451472 entries, 26 to 999998\n",
            "Data columns (total 7 columns):\n",
            " #   Column    Non-Null Count   Dtype  \n",
            "---  ------    --------------   -----  \n",
            " 0   UserID    451472 non-null  int64  \n",
            " 1   ItemID    451472 non-null  int64  \n",
            " 2   Score     451472 non-null  int64  \n",
            " 3   TrackID   451472 non-null  float64\n",
            " 4   AlbumID   451472 non-null  object \n",
            " 5   ArtistID  451472 non-null  object \n",
            " 6   GenreID   451472 non-null  float64\n",
            "dtypes: float64(2), int64(3), object(2)\n",
            "memory usage: 27.6+ MB\n"
          ]
        }
      ]
    },
    {
      "cell_type": "code",
      "source": [
        "merged_df['AlbumID'] = merged_df['AlbumID'].replace('None', 0)\n",
        "merged_df['ArtistID'] = merged_df['ArtistID'].replace('None', 0)\n"
      ],
      "metadata": {
        "id": "4UOQuinyrcHn"
      },
      "execution_count": 226,
      "outputs": []
    },
    {
      "cell_type": "code",
      "source": [
        "# importing pandas as pd\n",
        "import pandas as pd\n",
        " \n",
        "# sample dataframe\n",
        "df = pd.DataFrame({\n",
        "    'A': [1, 2, 3, 4, 5],\n",
        "    'B': ['a', 'b', 'c', 'd', 'e'],\n",
        "    'C': [1.1, '1.0', '1.3', 2, 5]})\n",
        " \n",
        "# using dictionary to convert specific columns\n",
        "convert_dict = {'A': int,\n",
        "                'C': float\n",
        "                }\n",
        " \n",
        "df = df.astype(convert_dict)\n",
        "print(df.dtypes)"
      ],
      "metadata": {
        "id": "HrNZUGR_qahe"
      },
      "execution_count": null,
      "outputs": []
    },
    {
      "cell_type": "code",
      "source": [
        "convert_dict = {\n",
        "    'UserID' : float,\n",
        "    'ItemID' : float,\n",
        "    'Score' : float,\n",
        "    'AlbumID' : float,\n",
        "    'ArtistID' : float\n",
        "}\n",
        "\n",
        "merged_df = merged_df.astype(convert_dict)\n",
        "print(merged_df.dtypes)\n"
      ],
      "metadata": {
        "colab": {
          "base_uri": "https://localhost:8080/"
        },
        "id": "MrSn9blYyG8g",
        "outputId": "ab96d27c-e527-48a6-be75-d2365664582c"
      },
      "execution_count": 228,
      "outputs": [
        {
          "output_type": "stream",
          "name": "stdout",
          "text": [
            "UserID      float64\n",
            "ItemID      float64\n",
            "Score       float64\n",
            "TrackID     float64\n",
            "AlbumID     float64\n",
            "ArtistID    float64\n",
            "GenreID     float64\n",
            "dtype: object\n"
          ]
        }
      ]
    },
    {
      "cell_type": "code",
      "source": [
        "merged_df.info()"
      ],
      "metadata": {
        "colab": {
          "base_uri": "https://localhost:8080/"
        },
        "id": "mDK2Gdwwo5x_",
        "outputId": "9f4dd82a-ebd2-41e0-cffe-10b90199a583"
      },
      "execution_count": 229,
      "outputs": [
        {
          "output_type": "stream",
          "name": "stdout",
          "text": [
            "<class 'pandas.core.frame.DataFrame'>\n",
            "Int64Index: 451472 entries, 26 to 999998\n",
            "Data columns (total 7 columns):\n",
            " #   Column    Non-Null Count   Dtype  \n",
            "---  ------    --------------   -----  \n",
            " 0   UserID    451472 non-null  float64\n",
            " 1   ItemID    451472 non-null  float64\n",
            " 2   Score     451472 non-null  float64\n",
            " 3   TrackID   451472 non-null  float64\n",
            " 4   AlbumID   451472 non-null  float64\n",
            " 5   ArtistID  451472 non-null  float64\n",
            " 6   GenreID   451472 non-null  float64\n",
            "dtypes: float64(7)\n",
            "memory usage: 27.6 MB\n"
          ]
        }
      ]
    },
    {
      "cell_type": "code",
      "source": [
        "df.hist(bins=50, figsize=(20,15))\n",
        "plt.show()"
      ],
      "metadata": {
        "colab": {
          "base_uri": "https://localhost:8080/",
          "height": 1000
        },
        "id": "XriPph4MxCIV",
        "outputId": "2ee1d0f8-c000-4ee7-8283-33c969c65d93"
      },
      "execution_count": 63,
      "outputs": [
        {
          "output_type": "display_data",
          "data": {
            "text/plain": [
              "<Figure size 2000x1500 with 4 Axes>"
            ],
            "image/png": "[encoded data removed]"
          },
          "metadata": {}
        }
      ]
    },
    {
      "cell_type": "code",
      "source": [
        "X = merged_df[['UserID', 'ItemID', 'TrackID', 'GenreID', 'ArtistID', 'AlbumID']]\n",
        "y = merged_df['Score']\n",
        "\n",
        "X_train, X_test, y_train, y_test = train_test_split(X, y, test_size=0.2, stratify=y, random_state=1337)\n",
        "X_train, X_val, y_train, y_val = train_test_split(X_train, y_train, test_size=0.25, stratify=y_train, random_state=1337)"
      ],
      "metadata": {
        "id": "9GU2WI29ytwJ"
      },
      "execution_count": 254,
      "outputs": []
    },
    {
      "cell_type": "code",
      "source": [
        "print(f\"Train Set dimensions: X Train: {X_train.shape}, Y Train: {y_train.shape}\")\n",
        "print(f\"Validation Set dimensions: X Validation: {X_val.shape}, Y Validation: {y_val.shape}\")\n",
        "print(f\"Test Set dimensions: X Test {X_test.shape}, Y Test: {y_test.shape}\")"
      ],
      "metadata": {
        "colab": {
          "base_uri": "https://localhost:8080/"
        },
        "id": "c8HcESjNFzk_",
        "outputId": "ed10ae9c-fd52-4fe7-8118-22c69448a247"
      },
      "execution_count": 255,
      "outputs": [
        {
          "output_type": "stream",
          "name": "stdout",
          "text": [
            "Train Set dimensions: X Train: (270882, 6), Y Train: (270882,)\n",
            "Validation Set dimensions: X Validation: (90295, 6), Y Validation: (90295,)\n",
            "Test Set dimensions: X Test (90295, 6), Y Test: (90295,)\n"
          ]
        }
      ]
    },
    {
      "cell_type": "code",
      "source": [
        "# # Load the data into Numpy arrays\n",
        "X_train = np.array(X_train.iloc[:, [0, 1, 2, 3, 4, 5]])\n",
        "X_val = np.array(X_val.iloc[:, [0,1,2,3,4,5]])\n",
        "y_train = np.array(y_train)\n",
        "y_val = np.array(y_val)"
      ],
      "metadata": {
        "id": "8B9Z7kgHL55M"
      },
      "execution_count": 256,
      "outputs": []
    },
    {
      "cell_type": "code",
      "source": [
        "# Reshape the input data for the LSTM model\n",
        "X_train = X_train.reshape(X_train.shape[0], 1, X_train.shape[1])\n",
        "X_val = X_val.reshape(X_val.shape[0], 1, X_val.shape[1])"
      ],
      "metadata": {
        "id": "phSvV0v5MI-z"
      },
      "execution_count": 257,
      "outputs": []
    },
    {
      "cell_type": "code",
      "source": [
        "X_val.shape"
      ],
      "metadata": {
        "colab": {
          "base_uri": "https://localhost:8080/"
        },
        "id": "w0c09A5jsLg6",
        "outputId": "fe5b855b-eadb-45f9-d06b-38a5b4f1c301"
      },
      "execution_count": 251,
      "outputs": [
        {
          "output_type": "execute_result",
          "data": {
            "text/plain": [
              "(90295, 1, 6)"
            ]
          },
          "metadata": {},
          "execution_count": 251
        }
      ]
    },
    {
      "cell_type": "code",
      "source": [
        "# Reshape the input data to a 3D tensor\n",
        "X_train = X_train.reshape((X_train.shape[0], 1, X_train.shape[2]))\n",
        "X_val = np.reshape(X_val, (X_val.shape[0], 1, X_val.shape[2]))"
      ],
      "metadata": {
        "id": "yCcqWJ0xlP2x"
      },
      "execution_count": 258,
      "outputs": []
    },
    {
      "cell_type": "code",
      "source": [
        "# Define the model architecture\n",
        "model = Sequential()\n",
        "model.add(LSTM(3, activation='relu', input_shape=(1, 6), return_sequences=True))\n",
        "model.add(Dropout(0.2))\n",
        "model.add(LSTM(3, activation='relu'))\n",
        "# model.add(Dropout(0.2))\n",
        "model.add(Dense(1, activation='relu'))"
      ],
      "metadata": {
        "id": "GeHpHPf2MLqf"
      },
      "execution_count": 288,
      "outputs": []
    },
    {
      "cell_type": "code",
      "source": [
        "# Compile the model\n",
        "model.compile(loss='mean_squared_logarithmic_error', optimizer=Adam(learning_rate=0.0001), metrics=['accuracy'])"
      ],
      "metadata": {
        "id": "-7t6Px-UMOR3"
      },
      "execution_count": 290,
      "outputs": []
    },
    {
      "cell_type": "code",
      "source": [
        "# Train the model\n",
        "history = model.fit(X_train, y_train, validation_data=(X_val, y_val), batch_size=32, epochs=10)"
      ],
      "metadata": {
        "colab": {
          "base_uri": "https://localhost:8080/"
        },
        "id": "YSduF1ujMQ2v",
        "outputId": "3bb44b42-8575-4232-8f09-37f71e9cf38b"
      },
      "execution_count": 291,
      "outputs": [
        {
          "output_type": "stream",
          "name": "stdout",
          "text": [
            "Epoch 1/10\n",
            "8466/8466 [==============================] - 42s 5ms/step - loss: 12.8750 - accuracy: 0.2818 - val_loss: 12.8757 - val_accuracy: 0.2819\n",
            "Epoch 2/10\n",
            "8466/8466 [==============================] - 39s 5ms/step - loss: 12.8750 - accuracy: 0.2818 - val_loss: 12.8757 - val_accuracy: 0.2819\n",
            "Epoch 3/10\n",
            "8466/8466 [==============================] - 44s 5ms/step - loss: 12.8750 - accuracy: 0.2818 - val_loss: 12.8757 - val_accuracy: 0.2819\n",
            "Epoch 4/10\n",
            "8466/8466 [==============================] - 43s 5ms/step - loss: 12.8750 - accuracy: 0.2818 - val_loss: 12.8757 - val_accuracy: 0.2819\n",
            "Epoch 5/10\n",
            "8466/8466 [==============================] - 36s 4ms/step - loss: 12.8749 - accuracy: 0.2818 - val_loss: 12.8757 - val_accuracy: 0.2819\n",
            "Epoch 6/10\n",
            "8466/8466 [==============================] - 37s 4ms/step - loss: 12.8750 - accuracy: 0.2818 - val_loss: 12.8757 - val_accuracy: 0.2819\n",
            "Epoch 7/10\n",
            "8466/8466 [==============================] - 37s 4ms/step - loss: 12.8750 - accuracy: 0.2818 - val_loss: 12.8757 - val_accuracy: 0.2819\n",
            "Epoch 8/10\n",
            "8466/8466 [==============================] - 36s 4ms/step - loss: 12.8750 - accuracy: 0.2818 - val_loss: 12.8757 - val_accuracy: 0.2819\n",
            "Epoch 9/10\n",
            "8466/8466 [==============================] - 36s 4ms/step - loss: 12.8750 - accuracy: 0.2818 - val_loss: 12.8757 - val_accuracy: 0.2819\n",
            "Epoch 10/10\n",
            "8466/8466 [==============================] - 41s 5ms/step - loss: 12.8749 - accuracy: 0.2818 - val_loss: 12.8757 - val_accuracy: 0.2819\n"
          ]
        }
      ]
    },
    {
      "cell_type": "code",
      "source": [
        "plt.plot(history.history['loss'], label='Train loss')\n",
        "plt.plot(history.history['val_loss'], label='Validation loss')\n",
        "plt.xlabel('Epochs')\n",
        "plt.ylabel('Loss')\n",
        "plt.show()\n",
        "plt.plot(history.history['accuracy'], label='Train accuracy')\n",
        "plt.plot(history.history['val_accuracy'], label='Validation accuracy')\n",
        "plt.xlabel('Epochs')\n",
        "plt.ylabel('Accuracy')\n",
        "plt.show()"
      ],
      "metadata": {
        "colab": {
          "base_uri": "https://localhost:8080/",
          "height": 913
        },
        "id": "MkUduCQuDcBf",
        "outputId": "37842106-5d9b-46e0-9ef8-9aee4904d069"
      },
      "execution_count": 292,
      "outputs": [
        {
          "output_type": "display_data",
          "data": {
            "text/plain": [
              "<Figure size 640x480 with 1 Axes>"
            ],
            "image/png": "[encoded data removed]"
          },
          "metadata": {}
        },
        {
          "output_type": "display_data",
          "data": {
            "text/plain": [
              "<Figure size 640x480 with 1 Axes>"
            ],
            "image/png": "[encoded data removed]"
          },
          "metadata": {}
        }
      ]
    }
  ]
}