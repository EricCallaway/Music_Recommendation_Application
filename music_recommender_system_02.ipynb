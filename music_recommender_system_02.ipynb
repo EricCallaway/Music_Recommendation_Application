{
  "nbformat": 4,
  "nbformat_minor": 0,
  "metadata": {
    "colab": {
      "provenance": [],
      "authorship_tag": "ABX9TyPQC56hLMv6SqLs/miMyPFu",
      "include_colab_link": true
    },
    "kernelspec": {
      "name": "python3",
      "display_name": "Python 3"
    },
    "language_info": {
      "name": "python"
    },
    "accelerator": "GPU",
    "gpuClass": "premium"
  },
  "cells": [
    {
      "cell_type": "markdown",
      "metadata": {
        "id": "view-in-github",
        "colab_type": "text"
      },
      "source": [
        "<a href=\"https://colab.research.google.com/github/EricCallaway/Music_Recommendation_Application/blob/main/music_recommender_system_02.ipynb\" target=\"_parent\"><img src=\"https://colab.research.google.com/assets/colab-badge.svg\" alt=\"Open In Colab\"/></a>"
      ]
    },
    {
      "cell_type": "code",
      "execution_count": 3,
      "metadata": {
        "id": "TJY9qfzbq6J3"
      },
      "outputs": [],
      "source": [
        "import pandas as pd\n",
        "import numpy as np\n",
        "import re\n",
        "import string\n",
        "import nltk\n",
        "import matplotlib.pyplot as plt\n",
        "\n",
        "from nltk.stem import PorterStemmer, WordNetLemmatizer\n",
        "from nltk.corpus import stopwords, wordnet\n",
        "from wordcloud import WordCloud, STOPWORDS\n",
        "from sklearn.model_selection import train_test_split, StratifiedShuffleSplit\n",
        "from sklearn.feature_extraction.text import TfidfVectorizer\n",
        "from keras import Sequential, metrics\n",
        "from keras.layers import Embedding, Dropout, LSTM, Dense, Reshape, Bidirectional, GRU\n",
        "from keras.optimizers import Adam\n",
        "from sklearn import svm\n",
        "from imblearn.over_sampling import SMOTE"
      ]
    },
    {
      "cell_type": "code",
      "source": [
        "from google.colab import drive\n",
        "drive.mount('/content/drive', force_remount=False)"
      ],
      "metadata": {
        "colab": {
          "base_uri": "https://localhost:8080/"
        },
        "id": "uvcTqfp9q_iK",
        "outputId": "4bb96c13-5431-4b4e-c487-839a44461439"
      },
      "execution_count": 4,
      "outputs": [
        {
          "output_type": "stream",
          "name": "stdout",
          "text": [
            "Mounted at /content/drive\n"
          ]
        }
      ]
    },
    {
      "cell_type": "code",
      "source": [
        "df = pd.read_csv('/content/drive/MyDrive/Data/Recommender_System/trainIdx1.csv')\n",
        "track_data = pd.read_csv('/content/drive/MyDrive/Data/Recommender_System/trackData1.csv')"
      ],
      "metadata": {
        "id": "vbJ3k8gzrLMl"
      },
      "execution_count": 5,
      "outputs": []
    },
    {
      "cell_type": "code",
      "source": [
        "df.info()"
      ],
      "metadata": {
        "colab": {
          "base_uri": "https://localhost:8080/"
        },
        "id": "8XtWqNEpeU54",
        "outputId": "b9198383-0ebe-4c27-ad71-371f1926c2bc"
      },
      "execution_count": 6,
      "outputs": [
        {
          "output_type": "stream",
          "name": "stdout",
          "text": [
            "<class 'pandas.core.frame.DataFrame'>\n",
            "RangeIndex: 999999 entries, 0 to 999998\n",
            "Data columns (total 3 columns):\n",
            " #   Column  Non-Null Count   Dtype\n",
            "---  ------  --------------   -----\n",
            " 0   0       999999 non-null  int64\n",
            " 1   507696  999999 non-null  int64\n",
            " 2   90      999999 non-null  int64\n",
            "dtypes: int64(3)\n",
            "memory usage: 22.9 MB\n"
          ]
        }
      ]
    },
    {
      "cell_type": "code",
      "source": [
        "track_data.head()"
      ],
      "metadata": {
        "colab": {
          "base_uri": "https://localhost:8080/",
          "height": 236
        },
        "id": "dCkMWdYqUiek",
        "outputId": "bd29a2a9-413f-4a3d-c097-919e13752c61"
      },
      "execution_count": 5,
      "outputs": [
        {
          "output_type": "execute_result",
          "data": {
            "text/plain": [
              "   TrackID AlbumID ArtistID   GenreID  GenreID2  GenreID3  GenreID4  GenreID5  \\\n",
              "0        0  224058   587636  349388.0  159199.0  303996.0  378770.0       NaN   \n",
              "1        1  590568     None       NaN       NaN       NaN       NaN       NaN   \n",
              "2        2   10930   454149  349388.0  316249.0       NaN       NaN       NaN   \n",
              "3        3  403310    78755  211566.0       NaN       NaN       NaN       NaN   \n",
              "4        4  359171   614925  147073.0  513628.0  585943.0  283375.0  418824.0   \n",
              "\n",
              "   GenreID6  GenreID7  ...  GenreID12  GenreID13  GenreID14  GenreID15  \\\n",
              "0       NaN       NaN  ...        NaN        NaN        NaN        NaN   \n",
              "1       NaN       NaN  ...        NaN        NaN        NaN        NaN   \n",
              "2       NaN       NaN  ...        NaN        NaN        NaN        NaN   \n",
              "3       NaN       NaN  ...        NaN        NaN        NaN        NaN   \n",
              "4       NaN       NaN  ...        NaN        NaN        NaN        NaN   \n",
              "\n",
              "   GenreID16  GenreID17  GenreID18  GenreID19  GenreID20   GenreID21  \n",
              "0        NaN        NaN        NaN        NaN        NaN         NaN  \n",
              "1        NaN        NaN        NaN        NaN        NaN         NaN  \n",
              "2        NaN        NaN        NaN        NaN        NaN         NaN  \n",
              "3        NaN        NaN        NaN        NaN        NaN         NaN  \n",
              "4        NaN        NaN        NaN        NaN        NaN         NaN  \n",
              "\n",
              "[5 rows x 24 columns]"
            ],
            "text/html": [
              "\n",
              "  <div id=\"df-64380635-746f-4ac1-a336-4c8d67b7eef9\">\n",
              "    <div class=\"colab-df-container\">\n",
              "      <div>\n",
              "<style scoped>\n",
              "    .dataframe tbody tr th:only-of-type {\n",
              "        vertical-align: middle;\n",
              "    }\n",
              "\n",
              "    .dataframe tbody tr th {\n",
              "        vertical-align: top;\n",
              "    }\n",
              "\n",
              "    .dataframe thead th {\n",
              "        text-align: right;\n",
              "    }\n",
              "</style>\n",
              "<table border=\"1\" class=\"dataframe\">\n",
              "  <thead>\n",
              "    <tr style=\"text-align: right;\">\n",
              "      <th></th>\n",
              "      <th>TrackID</th>\n",
              "      <th>AlbumID</th>\n",
              "      <th>ArtistID</th>\n",
              "      <th>GenreID</th>\n",
              "      <th>GenreID2</th>\n",
              "      <th>GenreID3</th>\n",
              "      <th>GenreID4</th>\n",
              "      <th>GenreID5</th>\n",
              "      <th>GenreID6</th>\n",
              "      <th>GenreID7</th>\n",
              "      <th>...</th>\n",
              "      <th>GenreID12</th>\n",
              "      <th>GenreID13</th>\n",
              "      <th>GenreID14</th>\n",
              "      <th>GenreID15</th>\n",
              "      <th>GenreID16</th>\n",
              "      <th>GenreID17</th>\n",
              "      <th>GenreID18</th>\n",
              "      <th>GenreID19</th>\n",
              "      <th>GenreID20</th>\n",
              "      <th>GenreID21</th>\n",
              "    </tr>\n",
              "  </thead>\n",
              "  <tbody>\n",
              "    <tr>\n",
              "      <th>0</th>\n",
              "      <td>0</td>\n",
              "      <td>224058</td>\n",
              "      <td>587636</td>\n",
              "      <td>349388.0</td>\n",
              "      <td>159199.0</td>\n",
              "      <td>303996.0</td>\n",
              "      <td>378770.0</td>\n",
              "      <td>NaN</td>\n",
              "      <td>NaN</td>\n",
              "      <td>NaN</td>\n",
              "      <td>...</td>\n",
              "      <td>NaN</td>\n",
              "      <td>NaN</td>\n",
              "      <td>NaN</td>\n",
              "      <td>NaN</td>\n",
              "      <td>NaN</td>\n",
              "      <td>NaN</td>\n",
              "      <td>NaN</td>\n",
              "      <td>NaN</td>\n",
              "      <td>NaN</td>\n",
              "      <td>NaN</td>\n",
              "    </tr>\n",
              "    <tr>\n",
              "      <th>1</th>\n",
              "      <td>1</td>\n",
              "      <td>590568</td>\n",
              "      <td>None</td>\n",
              "      <td>NaN</td>\n",
              "      <td>NaN</td>\n",
              "      <td>NaN</td>\n",
              "      <td>NaN</td>\n",
              "      <td>NaN</td>\n",
              "      <td>NaN</td>\n",
              "      <td>NaN</td>\n",
              "      <td>...</td>\n",
              "      <td>NaN</td>\n",
              "      <td>NaN</td>\n",
              "      <td>NaN</td>\n",
              "      <td>NaN</td>\n",
              "      <td>NaN</td>\n",
              "      <td>NaN</td>\n",
              "      <td>NaN</td>\n",
              "      <td>NaN</td>\n",
              "      <td>NaN</td>\n",
              "      <td>NaN</td>\n",
              "    </tr>\n",
              "    <tr>\n",
              "      <th>2</th>\n",
              "      <td>2</td>\n",
              "      <td>10930</td>\n",
              "      <td>454149</td>\n",
              "      <td>349388.0</td>\n",
              "      <td>316249.0</td>\n",
              "      <td>NaN</td>\n",
              "      <td>NaN</td>\n",
              "      <td>NaN</td>\n",
              "      <td>NaN</td>\n",
              "      <td>NaN</td>\n",
              "      <td>...</td>\n",
              "      <td>NaN</td>\n",
              "      <td>NaN</td>\n",
              "      <td>NaN</td>\n",
              "      <td>NaN</td>\n",
              "      <td>NaN</td>\n",
              "      <td>NaN</td>\n",
              "      <td>NaN</td>\n",
              "      <td>NaN</td>\n",
              "      <td>NaN</td>\n",
              "      <td>NaN</td>\n",
              "    </tr>\n",
              "    <tr>\n",
              "      <th>3</th>\n",
              "      <td>3</td>\n",
              "      <td>403310</td>\n",
              "      <td>78755</td>\n",
              "      <td>211566.0</td>\n",
              "      <td>NaN</td>\n",
              "      <td>NaN</td>\n",
              "      <td>NaN</td>\n",
              "      <td>NaN</td>\n",
              "      <td>NaN</td>\n",
              "      <td>NaN</td>\n",
              "      <td>...</td>\n",
              "      <td>NaN</td>\n",
              "      <td>NaN</td>\n",
              "      <td>NaN</td>\n",
              "      <td>NaN</td>\n",
              "      <td>NaN</td>\n",
              "      <td>NaN</td>\n",
              "      <td>NaN</td>\n",
              "      <td>NaN</td>\n",
              "      <td>NaN</td>\n",
              "      <td>NaN</td>\n",
              "    </tr>\n",
              "    <tr>\n",
              "      <th>4</th>\n",
              "      <td>4</td>\n",
              "      <td>359171</td>\n",
              "      <td>614925</td>\n",
              "      <td>147073.0</td>\n",
              "      <td>513628.0</td>\n",
              "      <td>585943.0</td>\n",
              "      <td>283375.0</td>\n",
              "      <td>418824.0</td>\n",
              "      <td>NaN</td>\n",
              "      <td>NaN</td>\n",
              "      <td>...</td>\n",
              "      <td>NaN</td>\n",
              "      <td>NaN</td>\n",
              "      <td>NaN</td>\n",
              "      <td>NaN</td>\n",
              "      <td>NaN</td>\n",
              "      <td>NaN</td>\n",
              "      <td>NaN</td>\n",
              "      <td>NaN</td>\n",
              "      <td>NaN</td>\n",
              "      <td>NaN</td>\n",
              "    </tr>\n",
              "  </tbody>\n",
              "</table>\n",
              "<p>5 rows × 24 columns</p>\n",
              "</div>\n",
              "      <button class=\"colab-df-convert\" onclick=\"convertToInteractive('df-64380635-746f-4ac1-a336-4c8d67b7eef9')\"\n",
              "              title=\"Convert this dataframe to an interactive table.\"\n",
              "              style=\"display:none;\">\n",
              "        \n",
              "  <svg xmlns=\"http://www.w3.org/2000/svg\" height=\"24px\"viewBox=\"0 0 24 24\"\n",
              "       width=\"24px\">\n",
              "    <path d=\"M0 0h24v24H0V0z\" fill=\"none\"/>\n",
              "    <path d=\"M18.56 5.44l.94 2.06.94-2.06 2.06-.94-2.06-.94-.94-2.06-.94 2.06-2.06.94zm-11 1L8.5 8.5l.94-2.06 2.06-.94-2.06-.94L8.5 2.5l-.94 2.06-2.06.94zm10 10l.94 2.06.94-2.06 2.06-.94-2.06-.94-.94-2.06-.94 2.06-2.06.94z\"/><path d=\"M17.41 7.96l-1.37-1.37c-.4-.4-.92-.59-1.43-.59-.52 0-1.04.2-1.43.59L10.3 9.45l-7.72 7.72c-.78.78-.78 2.05 0 2.83L4 21.41c.39.39.9.59 1.41.59.51 0 1.02-.2 1.41-.59l7.78-7.78 2.81-2.81c.8-.78.8-2.07 0-2.86zM5.41 20L4 18.59l7.72-7.72 1.47 1.35L5.41 20z\"/>\n",
              "  </svg>\n",
              "      </button>\n",
              "      \n",
              "  <style>\n",
              "    .colab-df-container {\n",
              "      display:flex;\n",
              "      flex-wrap:wrap;\n",
              "      gap: 12px;\n",
              "    }\n",
              "\n",
              "    .colab-df-convert {\n",
              "      background-color: #E8F0FE;\n",
              "      border: none;\n",
              "      border-radius: 50%;\n",
              "      cursor: pointer;\n",
              "      display: none;\n",
              "      fill: #1967D2;\n",
              "      height: 32px;\n",
              "      padding: 0 0 0 0;\n",
              "      width: 32px;\n",
              "    }\n",
              "\n",
              "    .colab-df-convert:hover {\n",
              "      background-color: #E2EBFA;\n",
              "      box-shadow: 0px 1px 2px rgba(60, 64, 67, 0.3), 0px 1px 3px 1px rgba(60, 64, 67, 0.15);\n",
              "      fill: #174EA6;\n",
              "    }\n",
              "\n",
              "    [theme=dark] .colab-df-convert {\n",
              "      background-color: #3B4455;\n",
              "      fill: #D2E3FC;\n",
              "    }\n",
              "\n",
              "    [theme=dark] .colab-df-convert:hover {\n",
              "      background-color: #434B5C;\n",
              "      box-shadow: 0px 1px 3px 1px rgba(0, 0, 0, 0.15);\n",
              "      filter: drop-shadow(0px 1px 2px rgba(0, 0, 0, 0.3));\n",
              "      fill: #FFFFFF;\n",
              "    }\n",
              "  </style>\n",
              "\n",
              "      <script>\n",
              "        const buttonEl =\n",
              "          document.querySelector('#df-64380635-746f-4ac1-a336-4c8d67b7eef9 button.colab-df-convert');\n",
              "        buttonEl.style.display =\n",
              "          google.colab.kernel.accessAllowed ? 'block' : 'none';\n",
              "\n",
              "        async function convertToInteractive(key) {\n",
              "          const element = document.querySelector('#df-64380635-746f-4ac1-a336-4c8d67b7eef9');\n",
              "          const dataTable =\n",
              "            await google.colab.kernel.invokeFunction('convertToInteractive',\n",
              "                                                     [key], {});\n",
              "          if (!dataTable) return;\n",
              "\n",
              "          const docLinkHtml = 'Like what you see? Visit the ' +\n",
              "            '<a target=\"_blank\" href=https://colab.research.google.com/notebooks/data_table.ipynb>data table notebook</a>'\n",
              "            + ' to learn more about interactive tables.';\n",
              "          element.innerHTML = '';\n",
              "          dataTable['output_type'] = 'display_data';\n",
              "          await google.colab.output.renderOutput(dataTable, element);\n",
              "          const docLink = document.createElement('div');\n",
              "          docLink.innerHTML = docLinkHtml;\n",
              "          element.appendChild(docLink);\n",
              "        }\n",
              "      </script>\n",
              "    </div>\n",
              "  </div>\n",
              "  "
            ]
          },
          "metadata": {},
          "execution_count": 5
        }
      ]
    },
    {
      "cell_type": "code",
      "source": [
        "track_data.info()"
      ],
      "metadata": {
        "colab": {
          "base_uri": "https://localhost:8080/"
        },
        "id": "3EYNO2IjUlOx",
        "outputId": "2c7944bd-95d5-4758-823a-0f4b433b7cfe"
      },
      "execution_count": 6,
      "outputs": [
        {
          "output_type": "stream",
          "name": "stdout",
          "text": [
            "<class 'pandas.core.frame.DataFrame'>\n",
            "RangeIndex: 507172 entries, 0 to 507171\n",
            "Data columns (total 24 columns):\n",
            " #   Column      Non-Null Count   Dtype  \n",
            "---  ------      --------------   -----  \n",
            " 0   TrackID     507172 non-null  int64  \n",
            " 1   AlbumID     507172 non-null  object \n",
            " 2   ArtistID    507172 non-null  object \n",
            " 3   GenreID     475968 non-null  float64\n",
            " 4   GenreID2    283851 non-null  float64\n",
            " 5   GenreID3    165351 non-null  float64\n",
            " 6   GenreID4    86291 non-null   float64\n",
            " 7   GenreID5    43846 non-null   float64\n",
            " 8   GenreID6    24444 non-null   float64\n",
            " 9   GenreID7    16675 non-null   float64\n",
            " 10  GenreID8    10925 non-null   float64\n",
            " 11  GenreID9    7667 non-null    float64\n",
            " 12  GenreID10   5573 non-null    float64\n",
            " 13  GenreID11   4806 non-null    float64\n",
            " 14  GenreID12   3254 non-null    float64\n",
            " 15  GenreID13   2608 non-null    float64\n",
            " 16  GenreID14   1994 non-null    float64\n",
            " 17  GenreID15   1456 non-null    float64\n",
            " 18  GenreID16   436 non-null     float64\n",
            " 19  GenreID17   141 non-null     float64\n",
            " 20  GenreID18   33 non-null      float64\n",
            " 21  GenreID19   33 non-null      float64\n",
            " 22  GenreID20   33 non-null      float64\n",
            " 23   GenreID21  33 non-null      float64\n",
            "dtypes: float64(21), int64(1), object(2)\n",
            "memory usage: 92.9+ MB\n"
          ]
        }
      ]
    },
    {
      "cell_type": "code",
      "source": [
        "track_data = track_data.drop(track_data.columns[4:], axis=1)\n",
        "track_data = track_data.dropna(subset=[\"GenreID\"])"
      ],
      "metadata": {
        "id": "rG5AEhepVEJI"
      },
      "execution_count": 7,
      "outputs": []
    },
    {
      "cell_type": "code",
      "source": [
        "track_data.head()"
      ],
      "metadata": {
        "colab": {
          "base_uri": "https://localhost:8080/",
          "height": 206
        },
        "id": "zGtnwQ9fVhfV",
        "outputId": "7fec4a5f-35bf-49f5-9a36-d25ddb7d1fc6"
      },
      "execution_count": 8,
      "outputs": [
        {
          "output_type": "execute_result",
          "data": {
            "text/plain": [
              "   TrackID AlbumID ArtistID   GenreID\n",
              "0        0  224058   587636  349388.0\n",
              "2        2   10930   454149  349388.0\n",
              "3        3  403310    78755  211566.0\n",
              "4        4  359171   614925  147073.0\n",
              "5        5  187049   196558  247563.0"
            ],
            "text/html": [
              "\n",
              "  <div id=\"df-585aecd0-4927-4c6d-9634-4bdb6128e248\">\n",
              "    <div class=\"colab-df-container\">\n",
              "      <div>\n",
              "<style scoped>\n",
              "    .dataframe tbody tr th:only-of-type {\n",
              "        vertical-align: middle;\n",
              "    }\n",
              "\n",
              "    .dataframe tbody tr th {\n",
              "        vertical-align: top;\n",
              "    }\n",
              "\n",
              "    .dataframe thead th {\n",
              "        text-align: right;\n",
              "    }\n",
              "</style>\n",
              "<table border=\"1\" class=\"dataframe\">\n",
              "  <thead>\n",
              "    <tr style=\"text-align: right;\">\n",
              "      <th></th>\n",
              "      <th>TrackID</th>\n",
              "      <th>AlbumID</th>\n",
              "      <th>ArtistID</th>\n",
              "      <th>GenreID</th>\n",
              "    </tr>\n",
              "  </thead>\n",
              "  <tbody>\n",
              "    <tr>\n",
              "      <th>0</th>\n",
              "      <td>0</td>\n",
              "      <td>224058</td>\n",
              "      <td>587636</td>\n",
              "      <td>349388.0</td>\n",
              "    </tr>\n",
              "    <tr>\n",
              "      <th>2</th>\n",
              "      <td>2</td>\n",
              "      <td>10930</td>\n",
              "      <td>454149</td>\n",
              "      <td>349388.0</td>\n",
              "    </tr>\n",
              "    <tr>\n",
              "      <th>3</th>\n",
              "      <td>3</td>\n",
              "      <td>403310</td>\n",
              "      <td>78755</td>\n",
              "      <td>211566.0</td>\n",
              "    </tr>\n",
              "    <tr>\n",
              "      <th>4</th>\n",
              "      <td>4</td>\n",
              "      <td>359171</td>\n",
              "      <td>614925</td>\n",
              "      <td>147073.0</td>\n",
              "    </tr>\n",
              "    <tr>\n",
              "      <th>5</th>\n",
              "      <td>5</td>\n",
              "      <td>187049</td>\n",
              "      <td>196558</td>\n",
              "      <td>247563.0</td>\n",
              "    </tr>\n",
              "  </tbody>\n",
              "</table>\n",
              "</div>\n",
              "      <button class=\"colab-df-convert\" onclick=\"convertToInteractive('df-585aecd0-4927-4c6d-9634-4bdb6128e248')\"\n",
              "              title=\"Convert this dataframe to an interactive table.\"\n",
              "              style=\"display:none;\">\n",
              "        \n",
              "  <svg xmlns=\"http://www.w3.org/2000/svg\" height=\"24px\"viewBox=\"0 0 24 24\"\n",
              "       width=\"24px\">\n",
              "    <path d=\"M0 0h24v24H0V0z\" fill=\"none\"/>\n",
              "    <path d=\"M18.56 5.44l.94 2.06.94-2.06 2.06-.94-2.06-.94-.94-2.06-.94 2.06-2.06.94zm-11 1L8.5 8.5l.94-2.06 2.06-.94-2.06-.94L8.5 2.5l-.94 2.06-2.06.94zm10 10l.94 2.06.94-2.06 2.06-.94-2.06-.94-.94-2.06-.94 2.06-2.06.94z\"/><path d=\"M17.41 7.96l-1.37-1.37c-.4-.4-.92-.59-1.43-.59-.52 0-1.04.2-1.43.59L10.3 9.45l-7.72 7.72c-.78.78-.78 2.05 0 2.83L4 21.41c.39.39.9.59 1.41.59.51 0 1.02-.2 1.41-.59l7.78-7.78 2.81-2.81c.8-.78.8-2.07 0-2.86zM5.41 20L4 18.59l7.72-7.72 1.47 1.35L5.41 20z\"/>\n",
              "  </svg>\n",
              "      </button>\n",
              "      \n",
              "  <style>\n",
              "    .colab-df-container {\n",
              "      display:flex;\n",
              "      flex-wrap:wrap;\n",
              "      gap: 12px;\n",
              "    }\n",
              "\n",
              "    .colab-df-convert {\n",
              "      background-color: #E8F0FE;\n",
              "      border: none;\n",
              "      border-radius: 50%;\n",
              "      cursor: pointer;\n",
              "      display: none;\n",
              "      fill: #1967D2;\n",
              "      height: 32px;\n",
              "      padding: 0 0 0 0;\n",
              "      width: 32px;\n",
              "    }\n",
              "\n",
              "    .colab-df-convert:hover {\n",
              "      background-color: #E2EBFA;\n",
              "      box-shadow: 0px 1px 2px rgba(60, 64, 67, 0.3), 0px 1px 3px 1px rgba(60, 64, 67, 0.15);\n",
              "      fill: #174EA6;\n",
              "    }\n",
              "\n",
              "    [theme=dark] .colab-df-convert {\n",
              "      background-color: #3B4455;\n",
              "      fill: #D2E3FC;\n",
              "    }\n",
              "\n",
              "    [theme=dark] .colab-df-convert:hover {\n",
              "      background-color: #434B5C;\n",
              "      box-shadow: 0px 1px 3px 1px rgba(0, 0, 0, 0.15);\n",
              "      filter: drop-shadow(0px 1px 2px rgba(0, 0, 0, 0.3));\n",
              "      fill: #FFFFFF;\n",
              "    }\n",
              "  </style>\n",
              "\n",
              "      <script>\n",
              "        const buttonEl =\n",
              "          document.querySelector('#df-585aecd0-4927-4c6d-9634-4bdb6128e248 button.colab-df-convert');\n",
              "        buttonEl.style.display =\n",
              "          google.colab.kernel.accessAllowed ? 'block' : 'none';\n",
              "\n",
              "        async function convertToInteractive(key) {\n",
              "          const element = document.querySelector('#df-585aecd0-4927-4c6d-9634-4bdb6128e248');\n",
              "          const dataTable =\n",
              "            await google.colab.kernel.invokeFunction('convertToInteractive',\n",
              "                                                     [key], {});\n",
              "          if (!dataTable) return;\n",
              "\n",
              "          const docLinkHtml = 'Like what you see? Visit the ' +\n",
              "            '<a target=\"_blank\" href=https://colab.research.google.com/notebooks/data_table.ipynb>data table notebook</a>'\n",
              "            + ' to learn more about interactive tables.';\n",
              "          element.innerHTML = '';\n",
              "          dataTable['output_type'] = 'display_data';\n",
              "          await google.colab.output.renderOutput(dataTable, element);\n",
              "          const docLink = document.createElement('div');\n",
              "          docLink.innerHTML = docLinkHtml;\n",
              "          element.appendChild(docLink);\n",
              "        }\n",
              "      </script>\n",
              "    </div>\n",
              "  </div>\n",
              "  "
            ]
          },
          "metadata": {},
          "execution_count": 8
        }
      ]
    },
    {
      "cell_type": "code",
      "source": [
        "track_data.info()"
      ],
      "metadata": {
        "colab": {
          "base_uri": "https://localhost:8080/"
        },
        "id": "q3t58W8XVKCD",
        "outputId": "aba9fd94-1eb2-434f-aaf5-6d62d021e95f"
      },
      "execution_count": 9,
      "outputs": [
        {
          "output_type": "stream",
          "name": "stdout",
          "text": [
            "<class 'pandas.core.frame.DataFrame'>\n",
            "Int64Index: 475968 entries, 0 to 507171\n",
            "Data columns (total 4 columns):\n",
            " #   Column    Non-Null Count   Dtype  \n",
            "---  ------    --------------   -----  \n",
            " 0   TrackID   475968 non-null  int64  \n",
            " 1   AlbumID   475968 non-null  object \n",
            " 2   ArtistID  475968 non-null  object \n",
            " 3   GenreID   475968 non-null  float64\n",
            "dtypes: float64(1), int64(1), object(2)\n",
            "memory usage: 18.2+ MB\n"
          ]
        }
      ]
    },
    {
      "cell_type": "code",
      "source": [
        "df.info()"
      ],
      "metadata": {
        "colab": {
          "base_uri": "https://localhost:8080/"
        },
        "id": "z9Rw4Phzwkcf",
        "outputId": "04e2c04a-49bc-44d0-d38a-9bcdaecbd43d"
      },
      "execution_count": 10,
      "outputs": [
        {
          "output_type": "stream",
          "name": "stdout",
          "text": [
            "<class 'pandas.core.frame.DataFrame'>\n",
            "RangeIndex: 999999 entries, 0 to 999998\n",
            "Data columns (total 3 columns):\n",
            " #   Column  Non-Null Count   Dtype\n",
            "---  ------  --------------   -----\n",
            " 0   0       999999 non-null  int64\n",
            " 1   507696  999999 non-null  int64\n",
            " 2   90      999999 non-null  int64\n",
            "dtypes: int64(3)\n",
            "memory usage: 22.9 MB\n"
          ]
        }
      ]
    },
    {
      "cell_type": "code",
      "source": [
        "df = df.rename(columns={\"0\": \"UserID\", \"507696\": \"ItemID\", \"90\": \"Score\"})"
      ],
      "metadata": {
        "id": "W183_fvXyUpt"
      },
      "execution_count": 11,
      "outputs": []
    },
    {
      "cell_type": "code",
      "source": [
        "merged_df = pd.merge(df, track_data, left_on='ItemID', right_on='TrackID', how='left')"
      ],
      "metadata": {
        "id": "vSODSTWzWe5F"
      },
      "execution_count": 12,
      "outputs": []
    },
    {
      "cell_type": "code",
      "source": [
        "merged_df.info()"
      ],
      "metadata": {
        "colab": {
          "base_uri": "https://localhost:8080/"
        },
        "id": "_SBx7-OTWznO",
        "outputId": "8323c664-4f33-4172-e65f-340db6b677cf"
      },
      "execution_count": 13,
      "outputs": [
        {
          "output_type": "stream",
          "name": "stdout",
          "text": [
            "<class 'pandas.core.frame.DataFrame'>\n",
            "Int64Index: 999999 entries, 0 to 999998\n",
            "Data columns (total 7 columns):\n",
            " #   Column    Non-Null Count   Dtype  \n",
            "---  ------    --------------   -----  \n",
            " 0   UserID    999999 non-null  int64  \n",
            " 1   ItemID    999999 non-null  int64  \n",
            " 2   Score     999999 non-null  int64  \n",
            " 3   TrackID   451472 non-null  float64\n",
            " 4   AlbumID   451472 non-null  object \n",
            " 5   ArtistID  451472 non-null  object \n",
            " 6   GenreID   451472 non-null  float64\n",
            "dtypes: float64(2), int64(3), object(2)\n",
            "memory usage: 61.0+ MB\n"
          ]
        }
      ]
    },
    {
      "cell_type": "code",
      "source": [
        "merged_df = merged_df.dropna(subset=[\"GenreID\"])"
      ],
      "metadata": {
        "id": "dDbRzXAJXAUi"
      },
      "execution_count": 14,
      "outputs": []
    },
    {
      "cell_type": "code",
      "source": [
        "merged_df.head()"
      ],
      "metadata": {
        "colab": {
          "base_uri": "https://localhost:8080/",
          "height": 206
        },
        "id": "-mqnEoeXXGzL",
        "outputId": "05179394-7be4-4caa-8026-90b0ec8f2633"
      },
      "execution_count": 15,
      "outputs": [
        {
          "output_type": "execute_result",
          "data": {
            "text/plain": [
              "    UserID  ItemID  Score   TrackID AlbumID ArtistID   GenreID\n",
              "26       0  127640     50  127640.0  113323   592747   85012.0\n",
              "30       0  193714     30  193714.0   26137   180037  531386.0\n",
              "32       0  522229      0  522229.0   94522   452599  600770.0\n",
              "34       0  112040     90  112040.0  450906   392726  600770.0\n",
              "37       0  464229     90  464229.0  453488     9101  600770.0"
            ],
            "text/html": [
              "\n",
              "  <div id=\"df-31d2177e-c7dc-4af8-8dde-f75dd7fac532\">\n",
              "    <div class=\"colab-df-container\">\n",
              "      <div>\n",
              "<style scoped>\n",
              "    .dataframe tbody tr th:only-of-type {\n",
              "        vertical-align: middle;\n",
              "    }\n",
              "\n",
              "    .dataframe tbody tr th {\n",
              "        vertical-align: top;\n",
              "    }\n",
              "\n",
              "    .dataframe thead th {\n",
              "        text-align: right;\n",
              "    }\n",
              "</style>\n",
              "<table border=\"1\" class=\"dataframe\">\n",
              "  <thead>\n",
              "    <tr style=\"text-align: right;\">\n",
              "      <th></th>\n",
              "      <th>UserID</th>\n",
              "      <th>ItemID</th>\n",
              "      <th>Score</th>\n",
              "      <th>TrackID</th>\n",
              "      <th>AlbumID</th>\n",
              "      <th>ArtistID</th>\n",
              "      <th>GenreID</th>\n",
              "    </tr>\n",
              "  </thead>\n",
              "  <tbody>\n",
              "    <tr>\n",
              "      <th>26</th>\n",
              "      <td>0</td>\n",
              "      <td>127640</td>\n",
              "      <td>50</td>\n",
              "      <td>127640.0</td>\n",
              "      <td>113323</td>\n",
              "      <td>592747</td>\n",
              "      <td>85012.0</td>\n",
              "    </tr>\n",
              "    <tr>\n",
              "      <th>30</th>\n",
              "      <td>0</td>\n",
              "      <td>193714</td>\n",
              "      <td>30</td>\n",
              "      <td>193714.0</td>\n",
              "      <td>26137</td>\n",
              "      <td>180037</td>\n",
              "      <td>531386.0</td>\n",
              "    </tr>\n",
              "    <tr>\n",
              "      <th>32</th>\n",
              "      <td>0</td>\n",
              "      <td>522229</td>\n",
              "      <td>0</td>\n",
              "      <td>522229.0</td>\n",
              "      <td>94522</td>\n",
              "      <td>452599</td>\n",
              "      <td>600770.0</td>\n",
              "    </tr>\n",
              "    <tr>\n",
              "      <th>34</th>\n",
              "      <td>0</td>\n",
              "      <td>112040</td>\n",
              "      <td>90</td>\n",
              "      <td>112040.0</td>\n",
              "      <td>450906</td>\n",
              "      <td>392726</td>\n",
              "      <td>600770.0</td>\n",
              "    </tr>\n",
              "    <tr>\n",
              "      <th>37</th>\n",
              "      <td>0</td>\n",
              "      <td>464229</td>\n",
              "      <td>90</td>\n",
              "      <td>464229.0</td>\n",
              "      <td>453488</td>\n",
              "      <td>9101</td>\n",
              "      <td>600770.0</td>\n",
              "    </tr>\n",
              "  </tbody>\n",
              "</table>\n",
              "</div>\n",
              "      <button class=\"colab-df-convert\" onclick=\"convertToInteractive('df-31d2177e-c7dc-4af8-8dde-f75dd7fac532')\"\n",
              "              title=\"Convert this dataframe to an interactive table.\"\n",
              "              style=\"display:none;\">\n",
              "        \n",
              "  <svg xmlns=\"http://www.w3.org/2000/svg\" height=\"24px\"viewBox=\"0 0 24 24\"\n",
              "       width=\"24px\">\n",
              "    <path d=\"M0 0h24v24H0V0z\" fill=\"none\"/>\n",
              "    <path d=\"M18.56 5.44l.94 2.06.94-2.06 2.06-.94-2.06-.94-.94-2.06-.94 2.06-2.06.94zm-11 1L8.5 8.5l.94-2.06 2.06-.94-2.06-.94L8.5 2.5l-.94 2.06-2.06.94zm10 10l.94 2.06.94-2.06 2.06-.94-2.06-.94-.94-2.06-.94 2.06-2.06.94z\"/><path d=\"M17.41 7.96l-1.37-1.37c-.4-.4-.92-.59-1.43-.59-.52 0-1.04.2-1.43.59L10.3 9.45l-7.72 7.72c-.78.78-.78 2.05 0 2.83L4 21.41c.39.39.9.59 1.41.59.51 0 1.02-.2 1.41-.59l7.78-7.78 2.81-2.81c.8-.78.8-2.07 0-2.86zM5.41 20L4 18.59l7.72-7.72 1.47 1.35L5.41 20z\"/>\n",
              "  </svg>\n",
              "      </button>\n",
              "      \n",
              "  <style>\n",
              "    .colab-df-container {\n",
              "      display:flex;\n",
              "      flex-wrap:wrap;\n",
              "      gap: 12px;\n",
              "    }\n",
              "\n",
              "    .colab-df-convert {\n",
              "      background-color: #E8F0FE;\n",
              "      border: none;\n",
              "      border-radius: 50%;\n",
              "      cursor: pointer;\n",
              "      display: none;\n",
              "      fill: #1967D2;\n",
              "      height: 32px;\n",
              "      padding: 0 0 0 0;\n",
              "      width: 32px;\n",
              "    }\n",
              "\n",
              "    .colab-df-convert:hover {\n",
              "      background-color: #E2EBFA;\n",
              "      box-shadow: 0px 1px 2px rgba(60, 64, 67, 0.3), 0px 1px 3px 1px rgba(60, 64, 67, 0.15);\n",
              "      fill: #174EA6;\n",
              "    }\n",
              "\n",
              "    [theme=dark] .colab-df-convert {\n",
              "      background-color: #3B4455;\n",
              "      fill: #D2E3FC;\n",
              "    }\n",
              "\n",
              "    [theme=dark] .colab-df-convert:hover {\n",
              "      background-color: #434B5C;\n",
              "      box-shadow: 0px 1px 3px 1px rgba(0, 0, 0, 0.15);\n",
              "      filter: drop-shadow(0px 1px 2px rgba(0, 0, 0, 0.3));\n",
              "      fill: #FFFFFF;\n",
              "    }\n",
              "  </style>\n",
              "\n",
              "      <script>\n",
              "        const buttonEl =\n",
              "          document.querySelector('#df-31d2177e-c7dc-4af8-8dde-f75dd7fac532 button.colab-df-convert');\n",
              "        buttonEl.style.display =\n",
              "          google.colab.kernel.accessAllowed ? 'block' : 'none';\n",
              "\n",
              "        async function convertToInteractive(key) {\n",
              "          const element = document.querySelector('#df-31d2177e-c7dc-4af8-8dde-f75dd7fac532');\n",
              "          const dataTable =\n",
              "            await google.colab.kernel.invokeFunction('convertToInteractive',\n",
              "                                                     [key], {});\n",
              "          if (!dataTable) return;\n",
              "\n",
              "          const docLinkHtml = 'Like what you see? Visit the ' +\n",
              "            '<a target=\"_blank\" href=https://colab.research.google.com/notebooks/data_table.ipynb>data table notebook</a>'\n",
              "            + ' to learn more about interactive tables.';\n",
              "          element.innerHTML = '';\n",
              "          dataTable['output_type'] = 'display_data';\n",
              "          await google.colab.output.renderOutput(dataTable, element);\n",
              "          const docLink = document.createElement('div');\n",
              "          docLink.innerHTML = docLinkHtml;\n",
              "          element.appendChild(docLink);\n",
              "        }\n",
              "      </script>\n",
              "    </div>\n",
              "  </div>\n",
              "  "
            ]
          },
          "metadata": {},
          "execution_count": 15
        }
      ]
    },
    {
      "cell_type": "code",
      "source": [
        "merged_df.info()"
      ],
      "metadata": {
        "colab": {
          "base_uri": "https://localhost:8080/"
        },
        "id": "V74y3L_oja1s",
        "outputId": "f145f112-567e-4084-b7c6-b1dd8efc07bb"
      },
      "execution_count": 16,
      "outputs": [
        {
          "output_type": "stream",
          "name": "stdout",
          "text": [
            "<class 'pandas.core.frame.DataFrame'>\n",
            "Int64Index: 451472 entries, 26 to 999998\n",
            "Data columns (total 7 columns):\n",
            " #   Column    Non-Null Count   Dtype  \n",
            "---  ------    --------------   -----  \n",
            " 0   UserID    451472 non-null  int64  \n",
            " 1   ItemID    451472 non-null  int64  \n",
            " 2   Score     451472 non-null  int64  \n",
            " 3   TrackID   451472 non-null  float64\n",
            " 4   AlbumID   451472 non-null  object \n",
            " 5   ArtistID  451472 non-null  object \n",
            " 6   GenreID   451472 non-null  float64\n",
            "dtypes: float64(2), int64(3), object(2)\n",
            "memory usage: 27.6+ MB\n"
          ]
        }
      ]
    },
    {
      "cell_type": "code",
      "source": [
        "merged_df['AlbumID'] = merged_df['AlbumID'].replace('None', 0)\n",
        "merged_df['ArtistID'] = merged_df['ArtistID'].replace('None', 0)\n"
      ],
      "metadata": {
        "id": "4UOQuinyrcHn"
      },
      "execution_count": 17,
      "outputs": []
    },
    {
      "cell_type": "code",
      "source": [
        "convert_dict = {\n",
        "    'UserID' : float,\n",
        "    'ItemID' : float,\n",
        "    'Score' : float,\n",
        "    'AlbumID' : float,\n",
        "    'ArtistID' : float\n",
        "}\n",
        "\n",
        "merged_df = merged_df.astype(convert_dict)\n",
        "print(merged_df.dtypes)\n"
      ],
      "metadata": {
        "colab": {
          "base_uri": "https://localhost:8080/"
        },
        "id": "MrSn9blYyG8g",
        "outputId": "69b18a06-6f83-4686-c1ff-1d24431b3125"
      },
      "execution_count": 18,
      "outputs": [
        {
          "output_type": "stream",
          "name": "stdout",
          "text": [
            "UserID      float64\n",
            "ItemID      float64\n",
            "Score       float64\n",
            "TrackID     float64\n",
            "AlbumID     float64\n",
            "ArtistID    float64\n",
            "GenreID     float64\n",
            "dtype: object\n"
          ]
        }
      ]
    },
    {
      "cell_type": "code",
      "source": [
        "merged_df.info()"
      ],
      "metadata": {
        "colab": {
          "base_uri": "https://localhost:8080/"
        },
        "id": "mDK2Gdwwo5x_",
        "outputId": "b76b7083-60ba-451e-b28e-6dbd3f5e3e4e"
      },
      "execution_count": 19,
      "outputs": [
        {
          "output_type": "stream",
          "name": "stdout",
          "text": [
            "<class 'pandas.core.frame.DataFrame'>\n",
            "Int64Index: 451472 entries, 26 to 999998\n",
            "Data columns (total 7 columns):\n",
            " #   Column    Non-Null Count   Dtype  \n",
            "---  ------    --------------   -----  \n",
            " 0   UserID    451472 non-null  float64\n",
            " 1   ItemID    451472 non-null  float64\n",
            " 2   Score     451472 non-null  float64\n",
            " 3   TrackID   451472 non-null  float64\n",
            " 4   AlbumID   451472 non-null  float64\n",
            " 5   ArtistID  451472 non-null  float64\n",
            " 6   GenreID   451472 non-null  float64\n",
            "dtypes: float64(7)\n",
            "memory usage: 27.6 MB\n"
          ]
        }
      ]
    },
    {
      "cell_type": "code",
      "source": [
        "df.hist(bins=50, figsize=(20,15))\n",
        "plt.show()"
      ],
      "metadata": {
        "colab": {
          "base_uri": "https://localhost:8080/",
          "height": 1000
        },
        "id": "XriPph4MxCIV",
        "outputId": "ca9af3d9-a8c6-47ce-8637-5b245cb24ce5"
      },
      "execution_count": 20,
      "outputs": [
        {
          "output_type": "display_data",
          "data": {
            "text/plain": [
              "<Figure size 2000x1500 with 4 Axes>"
            ],
            "image/png": "[encoded data removed]"
          },
          "metadata": {}
        }
      ]
    },
    {
      "cell_type": "code",
      "source": [
        "merged_df['Score'].value_counts()"
      ],
      "metadata": {
        "colab": {
          "base_uri": "https://localhost:8080/"
        },
        "id": "ldZIo1y3quAf",
        "outputId": "18a0ef31-8118-4547-c62d-91425884a267"
      },
      "execution_count": 21,
      "outputs": [
        {
          "output_type": "execute_result",
          "data": {
            "text/plain": [
              "0.0     127248\n",
              "90.0    111451\n",
              "70.0     61101\n",
              "50.0     57720\n",
              "30.0     34466\n",
              "         ...  \n",
              "14.0        31\n",
              "31.0        30\n",
              "9.0         21\n",
              "2.0         21\n",
              "3.0         16\n",
              "Name: Score, Length: 101, dtype: int64"
            ]
          },
          "metadata": {},
          "execution_count": 21
        }
      ]
    },
    {
      "cell_type": "code",
      "source": [
        "# round the scores to the nearest 10 and multiply by 10 to get the rounded value\n",
        "merged_df['rounded_score'] = round(merged_df['Score'] / 10) * 10"
      ],
      "metadata": {
        "id": "1mFp71hEuLjt"
      },
      "execution_count": 22,
      "outputs": []
    },
    {
      "cell_type": "code",
      "source": [
        "merged_df.head()"
      ],
      "metadata": {
        "colab": {
          "base_uri": "https://localhost:8080/",
          "height": 206
        },
        "id": "gsnCWWrO49iq",
        "outputId": "b6117542-b6fc-4b7f-f271-486c1e4af793"
      },
      "execution_count": 23,
      "outputs": [
        {
          "output_type": "execute_result",
          "data": {
            "text/plain": [
              "    UserID    ItemID  Score   TrackID   AlbumID  ArtistID   GenreID  \\\n",
              "26     0.0  127640.0   50.0  127640.0  113323.0  592747.0   85012.0   \n",
              "30     0.0  193714.0   30.0  193714.0   26137.0  180037.0  531386.0   \n",
              "32     0.0  522229.0    0.0  522229.0   94522.0  452599.0  600770.0   \n",
              "34     0.0  112040.0   90.0  112040.0  450906.0  392726.0  600770.0   \n",
              "37     0.0  464229.0   90.0  464229.0  453488.0    9101.0  600770.0   \n",
              "\n",
              "    rounded_score  \n",
              "26           50.0  \n",
              "30           30.0  \n",
              "32            0.0  \n",
              "34           90.0  \n",
              "37           90.0  "
            ],
            "text/html": [
              "\n",
              "  <div id=\"df-92c92757-6891-4277-8260-518f59fd2764\">\n",
              "    <div class=\"colab-df-container\">\n",
              "      <div>\n",
              "<style scoped>\n",
              "    .dataframe tbody tr th:only-of-type {\n",
              "        vertical-align: middle;\n",
              "    }\n",
              "\n",
              "    .dataframe tbody tr th {\n",
              "        vertical-align: top;\n",
              "    }\n",
              "\n",
              "    .dataframe thead th {\n",
              "        text-align: right;\n",
              "    }\n",
              "</style>\n",
              "<table border=\"1\" class=\"dataframe\">\n",
              "  <thead>\n",
              "    <tr style=\"text-align: right;\">\n",
              "      <th></th>\n",
              "      <th>UserID</th>\n",
              "      <th>ItemID</th>\n",
              "      <th>Score</th>\n",
              "      <th>TrackID</th>\n",
              "      <th>AlbumID</th>\n",
              "      <th>ArtistID</th>\n",
              "      <th>GenreID</th>\n",
              "      <th>rounded_score</th>\n",
              "    </tr>\n",
              "  </thead>\n",
              "  <tbody>\n",
              "    <tr>\n",
              "      <th>26</th>\n",
              "      <td>0.0</td>\n",
              "      <td>127640.0</td>\n",
              "      <td>50.0</td>\n",
              "      <td>127640.0</td>\n",
              "      <td>113323.0</td>\n",
              "      <td>592747.0</td>\n",
              "      <td>85012.0</td>\n",
              "      <td>50.0</td>\n",
              "    </tr>\n",
              "    <tr>\n",
              "      <th>30</th>\n",
              "      <td>0.0</td>\n",
              "      <td>193714.0</td>\n",
              "      <td>30.0</td>\n",
              "      <td>193714.0</td>\n",
              "      <td>26137.0</td>\n",
              "      <td>180037.0</td>\n",
              "      <td>531386.0</td>\n",
              "      <td>30.0</td>\n",
              "    </tr>\n",
              "    <tr>\n",
              "      <th>32</th>\n",
              "      <td>0.0</td>\n",
              "      <td>522229.0</td>\n",
              "      <td>0.0</td>\n",
              "      <td>522229.0</td>\n",
              "      <td>94522.0</td>\n",
              "      <td>452599.0</td>\n",
              "      <td>600770.0</td>\n",
              "      <td>0.0</td>\n",
              "    </tr>\n",
              "    <tr>\n",
              "      <th>34</th>\n",
              "      <td>0.0</td>\n",
              "      <td>112040.0</td>\n",
              "      <td>90.0</td>\n",
              "      <td>112040.0</td>\n",
              "      <td>450906.0</td>\n",
              "      <td>392726.0</td>\n",
              "      <td>600770.0</td>\n",
              "      <td>90.0</td>\n",
              "    </tr>\n",
              "    <tr>\n",
              "      <th>37</th>\n",
              "      <td>0.0</td>\n",
              "      <td>464229.0</td>\n",
              "      <td>90.0</td>\n",
              "      <td>464229.0</td>\n",
              "      <td>453488.0</td>\n",
              "      <td>9101.0</td>\n",
              "      <td>600770.0</td>\n",
              "      <td>90.0</td>\n",
              "    </tr>\n",
              "  </tbody>\n",
              "</table>\n",
              "</div>\n",
              "      <button class=\"colab-df-convert\" onclick=\"convertToInteractive('df-92c92757-6891-4277-8260-518f59fd2764')\"\n",
              "              title=\"Convert this dataframe to an interactive table.\"\n",
              "              style=\"display:none;\">\n",
              "        \n",
              "  <svg xmlns=\"http://www.w3.org/2000/svg\" height=\"24px\"viewBox=\"0 0 24 24\"\n",
              "       width=\"24px\">\n",
              "    <path d=\"M0 0h24v24H0V0z\" fill=\"none\"/>\n",
              "    <path d=\"M18.56 5.44l.94 2.06.94-2.06 2.06-.94-2.06-.94-.94-2.06-.94 2.06-2.06.94zm-11 1L8.5 8.5l.94-2.06 2.06-.94-2.06-.94L8.5 2.5l-.94 2.06-2.06.94zm10 10l.94 2.06.94-2.06 2.06-.94-2.06-.94-.94-2.06-.94 2.06-2.06.94z\"/><path d=\"M17.41 7.96l-1.37-1.37c-.4-.4-.92-.59-1.43-.59-.52 0-1.04.2-1.43.59L10.3 9.45l-7.72 7.72c-.78.78-.78 2.05 0 2.83L4 21.41c.39.39.9.59 1.41.59.51 0 1.02-.2 1.41-.59l7.78-7.78 2.81-2.81c.8-.78.8-2.07 0-2.86zM5.41 20L4 18.59l7.72-7.72 1.47 1.35L5.41 20z\"/>\n",
              "  </svg>\n",
              "      </button>\n",
              "      \n",
              "  <style>\n",
              "    .colab-df-container {\n",
              "      display:flex;\n",
              "      flex-wrap:wrap;\n",
              "      gap: 12px;\n",
              "    }\n",
              "\n",
              "    .colab-df-convert {\n",
              "      background-color: #E8F0FE;\n",
              "      border: none;\n",
              "      border-radius: 50%;\n",
              "      cursor: pointer;\n",
              "      display: none;\n",
              "      fill: #1967D2;\n",
              "      height: 32px;\n",
              "      padding: 0 0 0 0;\n",
              "      width: 32px;\n",
              "    }\n",
              "\n",
              "    .colab-df-convert:hover {\n",
              "      background-color: #E2EBFA;\n",
              "      box-shadow: 0px 1px 2px rgba(60, 64, 67, 0.3), 0px 1px 3px 1px rgba(60, 64, 67, 0.15);\n",
              "      fill: #174EA6;\n",
              "    }\n",
              "\n",
              "    [theme=dark] .colab-df-convert {\n",
              "      background-color: #3B4455;\n",
              "      fill: #D2E3FC;\n",
              "    }\n",
              "\n",
              "    [theme=dark] .colab-df-convert:hover {\n",
              "      background-color: #434B5C;\n",
              "      box-shadow: 0px 1px 3px 1px rgba(0, 0, 0, 0.15);\n",
              "      filter: drop-shadow(0px 1px 2px rgba(0, 0, 0, 0.3));\n",
              "      fill: #FFFFFF;\n",
              "    }\n",
              "  </style>\n",
              "\n",
              "      <script>\n",
              "        const buttonEl =\n",
              "          document.querySelector('#df-92c92757-6891-4277-8260-518f59fd2764 button.colab-df-convert');\n",
              "        buttonEl.style.display =\n",
              "          google.colab.kernel.accessAllowed ? 'block' : 'none';\n",
              "\n",
              "        async function convertToInteractive(key) {\n",
              "          const element = document.querySelector('#df-92c92757-6891-4277-8260-518f59fd2764');\n",
              "          const dataTable =\n",
              "            await google.colab.kernel.invokeFunction('convertToInteractive',\n",
              "                                                     [key], {});\n",
              "          if (!dataTable) return;\n",
              "\n",
              "          const docLinkHtml = 'Like what you see? Visit the ' +\n",
              "            '<a target=\"_blank\" href=https://colab.research.google.com/notebooks/data_table.ipynb>data table notebook</a>'\n",
              "            + ' to learn more about interactive tables.';\n",
              "          element.innerHTML = '';\n",
              "          dataTable['output_type'] = 'display_data';\n",
              "          await google.colab.output.renderOutput(dataTable, element);\n",
              "          const docLink = document.createElement('div');\n",
              "          docLink.innerHTML = docLinkHtml;\n",
              "          element.appendChild(docLink);\n",
              "        }\n",
              "      </script>\n",
              "    </div>\n",
              "  </div>\n",
              "  "
            ]
          },
          "metadata": {},
          "execution_count": 23
        }
      ]
    },
    {
      "cell_type": "code",
      "source": [
        "merged_df['rounded_score'].value_counts()"
      ],
      "metadata": {
        "colab": {
          "base_uri": "https://localhost:8080/"
        },
        "id": "CY7lDx2nuScE",
        "outputId": "cb02345f-e6a8-48a1-ecfe-2dd17dc60b8a"
      },
      "execution_count": 24,
      "outputs": [
        {
          "output_type": "execute_result",
          "data": {
            "text/plain": [
              "0.0      127451\n",
              "90.0     114834\n",
              "70.0      63299\n",
              "50.0      58401\n",
              "30.0      34988\n",
              "100.0     30402\n",
              "80.0      11198\n",
              "60.0       5511\n",
              "40.0       1998\n",
              "20.0       1707\n",
              "10.0       1683\n",
              "Name: rounded_score, dtype: int64"
            ]
          },
          "metadata": {},
          "execution_count": 24
        }
      ]
    },
    {
      "cell_type": "code",
      "source": [
        "merged_df['rounded_score'].value_counts().mean()"
      ],
      "metadata": {
        "colab": {
          "base_uri": "https://localhost:8080/"
        },
        "id": "fxcdjIIevmT3",
        "outputId": "3cc4251e-58e3-4989-f81c-0a76323c18e7"
      },
      "execution_count": 25,
      "outputs": [
        {
          "output_type": "execute_result",
          "data": {
            "text/plain": [
              "41042.90909090909"
            ]
          },
          "metadata": {},
          "execution_count": 25
        }
      ]
    },
    {
      "cell_type": "code",
      "source": [
        "# plot a histogram of the 'scores' column\n",
        "merged_df['rounded_score'].hist()\n",
        "\n",
        "# add axis labels and a title\n",
        "plt.xlabel('Rounded Scores')\n",
        "plt.ylabel('Frequency')\n",
        "plt.title('Histogram of Rounded Scores')\n",
        "plt.show()"
      ],
      "metadata": {
        "colab": {
          "base_uri": "https://localhost:8080/",
          "height": 472
        },
        "id": "HV_IxSJKunkG",
        "outputId": "697869ef-44b5-4698-a1ac-f686ae7ddf8b"
      },
      "execution_count": 26,
      "outputs": [
        {
          "output_type": "display_data",
          "data": {
            "text/plain": [
              "<Figure size 640x480 with 1 Axes>"
            ],
            "image/png": "[encoded data removed]"
          },
          "metadata": {}
        }
      ]
    },
    {
      "cell_type": "code",
      "source": [
        "merged_df['rounded_score'].describe()"
      ],
      "metadata": {
        "colab": {
          "base_uri": "https://localhost:8080/"
        },
        "id": "qU98V2CDu5Ki",
        "outputId": "4dcc0d85-0f72-47c9-ec9a-22ac32524cac"
      },
      "execution_count": 27,
      "outputs": [
        {
          "output_type": "execute_result",
          "data": {
            "text/plain": [
              "count    451472.000000\n",
              "mean         51.239656\n",
              "std          37.416180\n",
              "min           0.000000\n",
              "25%           0.000000\n",
              "50%          50.000000\n",
              "75%          90.000000\n",
              "max         100.000000\n",
              "Name: rounded_score, dtype: float64"
            ]
          },
          "metadata": {},
          "execution_count": 27
        }
      ]
    },
    {
      "cell_type": "code",
      "source": [
        "from imblearn.over_sampling import RandomOverSampler\n",
        "\n",
        "ros = RandomOverSampler(sampling_strategy='not majority')\n",
        "X_resampled, y_resampled = ros.fit_resample(merged_df.drop('rounded_score', axis=1), merged_df['rounded_score'])\n",
        "resampled_df = pd.concat([X_resampled, y_resampled], axis=1)\n"
      ],
      "metadata": {
        "id": "oCgTVliC61Pe"
      },
      "execution_count": 28,
      "outputs": []
    },
    {
      "cell_type": "code",
      "source": [
        "from imblearn.under_sampling import RandomUnderSampler\n",
        "\n",
        "rus = RandomUnderSampler(sampling_strategy='not minority')\n",
        "X_under_sampled, y_under_sampled = rus.fit_resample(merged_df.drop('rounded_score', axis=1), merged_df['rounded_score'])\n",
        "undersampled_df = pd.concat([X_under_sampled, y_under_sampled], axis=1)\n"
      ],
      "metadata": {
        "id": "z_QC_jQN-8cB"
      },
      "execution_count": 29,
      "outputs": []
    },
    {
      "cell_type": "code",
      "source": [
        "resampled_df['rounded_score'].value_counts()"
      ],
      "metadata": {
        "colab": {
          "base_uri": "https://localhost:8080/"
        },
        "id": "4TW46HHp64HU",
        "outputId": "da8991ce-6f46-46c9-9f9d-3600d77cf4e5"
      },
      "execution_count": 30,
      "outputs": [
        {
          "output_type": "execute_result",
          "data": {
            "text/plain": [
              "50.0     127451\n",
              "30.0     127451\n",
              "0.0      127451\n",
              "90.0     127451\n",
              "100.0    127451\n",
              "70.0     127451\n",
              "80.0     127451\n",
              "40.0     127451\n",
              "10.0     127451\n",
              "60.0     127451\n",
              "20.0     127451\n",
              "Name: rounded_score, dtype: int64"
            ]
          },
          "metadata": {},
          "execution_count": 30
        }
      ]
    },
    {
      "cell_type": "code",
      "source": [
        "undersampled_df['rounded_score'].value_counts()"
      ],
      "metadata": {
        "colab": {
          "base_uri": "https://localhost:8080/"
        },
        "id": "7kooZB3_AJrI",
        "outputId": "556a9208-8532-4a3c-de3e-83982db262e3"
      },
      "execution_count": 31,
      "outputs": [
        {
          "output_type": "execute_result",
          "data": {
            "text/plain": [
              "0.0      1683\n",
              "10.0     1683\n",
              "20.0     1683\n",
              "30.0     1683\n",
              "40.0     1683\n",
              "50.0     1683\n",
              "60.0     1683\n",
              "70.0     1683\n",
              "80.0     1683\n",
              "90.0     1683\n",
              "100.0    1683\n",
              "Name: rounded_score, dtype: int64"
            ]
          },
          "metadata": {},
          "execution_count": 31
        }
      ]
    },
    {
      "cell_type": "code",
      "source": [
        "# set the desired tick locations\n",
        "tick_locations = [10, 20, 30, 40, 50, 60, 70, 80, 90, 100]\n",
        "\n",
        "# plot a histogram of the 'scores' column with the specified tick locations\n",
        "resampled_df['rounded_score'].hist(bins=10)\n",
        "plt.xticks(tick_locations)\n",
        "\n",
        "# add axis labels and a title\n",
        "plt.xlabel('Rounded Scores')\n",
        "plt.ylabel('Frequency')\n",
        "plt.title('Histogram of Rounded Scores after Resampling')\n",
        "\n",
        "plt.show()"
      ],
      "metadata": {
        "colab": {
          "base_uri": "https://localhost:8080/",
          "height": 472
        },
        "id": "eG3x3qNs8RLc",
        "outputId": "0e5c9f1e-45bf-4f17-ac0e-4f778a588ee8"
      },
      "execution_count": 32,
      "outputs": [
        {
          "output_type": "display_data",
          "data": {
            "text/plain": [
              "<Figure size 640x480 with 1 Axes>"
            ],
            "image/png": "[encoded data removed]"
          },
          "metadata": {}
        }
      ]
    },
    {
      "cell_type": "code",
      "source": [
        "resampled_df.columns"
      ],
      "metadata": {
        "colab": {
          "base_uri": "https://localhost:8080/"
        },
        "id": "h_KU3b2Z8cQ6",
        "outputId": "a7a31ac3-7227-46db-cb0b-d09475ce87f5"
      },
      "execution_count": 33,
      "outputs": [
        {
          "output_type": "execute_result",
          "data": {
            "text/plain": [
              "Index(['UserID', 'ItemID', 'Score', 'TrackID', 'AlbumID', 'ArtistID',\n",
              "       'GenreID', 'rounded_score'],\n",
              "      dtype='object')"
            ]
          },
          "metadata": {},
          "execution_count": 33
        }
      ]
    },
    {
      "cell_type": "code",
      "source": [
        "# X = undersampled_df[['UserID', 'ItemID', 'TrackID', 'GenreID', 'ArtistID', 'AlbumID']]\n",
        "# y = undersampled_df['rounded_score']"
      ],
      "metadata": {
        "id": "1UE9eakEAR39"
      },
      "execution_count": 34,
      "outputs": []
    },
    {
      "cell_type": "code",
      "source": [
        "X = resampled_df[['UserID', 'ItemID', 'TrackID', 'GenreID', 'ArtistID', 'AlbumID']]\n",
        "y = resampled_df['rounded_score']"
      ],
      "metadata": {
        "id": "phikPSTp1tje"
      },
      "execution_count": 35,
      "outputs": []
    },
    {
      "cell_type": "code",
      "source": [
        "from sklearn.preprocessing import MinMaxScaler\n",
        "\n",
        "scaler = MinMaxScaler()\n",
        "normalized_X = scaler.fit_transform(X)"
      ],
      "metadata": {
        "id": "khKUQFgvDN-b"
      },
      "execution_count": 36,
      "outputs": []
    },
    {
      "cell_type": "code",
      "source": [
        "X_train, X_test, y_train, y_test = train_test_split(normalized_X, y, test_size=0.2, stratify=y, random_state=1337)\n",
        "X_train, X_val, y_train, y_val = train_test_split(X_train, y_train, test_size=0.25, stratify=y_train, random_state=1337)"
      ],
      "metadata": {
        "id": "9GU2WI29ytwJ"
      },
      "execution_count": 37,
      "outputs": []
    },
    {
      "cell_type": "code",
      "source": [
        "print(f\"Train Set dimensions: X Train: {X_train.shape}, Y Train: {y_train.shape}\")\n",
        "print(f\"Validation Set dimensions: X Validation: {X_val.shape}, Y Validation: {y_val.shape}\")\n",
        "print(f\"Test Set dimensions: X Test {X_test.shape}, Y Test: {y_test.shape}\")"
      ],
      "metadata": {
        "colab": {
          "base_uri": "https://localhost:8080/"
        },
        "id": "c8HcESjNFzk_",
        "outputId": "7397b3da-a6cc-4417-81bf-7d76d3d2bf8a"
      },
      "execution_count": 38,
      "outputs": [
        {
          "output_type": "stream",
          "name": "stdout",
          "text": [
            "Train Set dimensions: X Train: (841176, 6), Y Train: (841176,)\n",
            "Validation Set dimensions: X Validation: (280392, 6), Y Validation: (280392,)\n",
            "Test Set dimensions: X Test (280393, 6), Y Test: (280393,)\n"
          ]
        }
      ]
    },
    {
      "cell_type": "code",
      "source": [
        "type(X_train)"
      ],
      "metadata": {
        "colab": {
          "base_uri": "https://localhost:8080/"
        },
        "id": "CYj1mEmoWfwa",
        "outputId": "ad68db02-cf75-45dd-9ba4-e34fe74e1fdc"
      },
      "execution_count": 39,
      "outputs": [
        {
          "output_type": "execute_result",
          "data": {
            "text/plain": [
              "numpy.ndarray"
            ]
          },
          "metadata": {},
          "execution_count": 39
        }
      ]
    },
    {
      "cell_type": "code",
      "source": [
        "# # Load the data into Numpy arrays\n",
        "# X_train = np.array(X_train.iloc[:, [0, 1, 2, 3, 4, 5]])\n",
        "# X_val = np.array(X_val.iloc[:, [0,1,2,3,4,5]])\n",
        "y_train = np.array(y_train)\n",
        "y_val = np.array(y_val)\n",
        "X_test = np.array(X_test)"
      ],
      "metadata": {
        "id": "8B9Z7kgHL55M"
      },
      "execution_count": 40,
      "outputs": []
    },
    {
      "cell_type": "code",
      "source": [
        "# Reshape the input data for the LSTM model\n",
        "X_train = X_train.reshape(X_train.shape[0], 1, X_train.shape[1])\n",
        "X_val = X_val.reshape(X_val.shape[0], 1, X_val.shape[1])\n",
        "X_test = X_test.reshape(X_test.shape[0], 1, X_test.shape[1])"
      ],
      "metadata": {
        "id": "phSvV0v5MI-z"
      },
      "execution_count": 41,
      "outputs": []
    },
    {
      "cell_type": "code",
      "source": [
        "# Reshape the input data to a 3D tensor\n",
        "X_train = X_train.reshape((X_train.shape[0], 1, X_train.shape[2]))\n",
        "X_val = np.reshape(X_val, (X_val.shape[0], 1, X_val.shape[2]))\n"
      ],
      "metadata": {
        "id": "yCcqWJ0xlP2x"
      },
      "execution_count": 42,
      "outputs": []
    },
    {
      "cell_type": "code",
      "source": [
        "input_shape = (None, 1,6)\n",
        "# Define the Bidirectional LSTM model architecture\n",
        "# model = Sequential()\n",
        "# model.add(Bidirectional(LSTM(32, activation='relu', input_shape=(1, 6), return_sequences=True)))\n",
        "# model.add(Dropout(0.2))\n",
        "# model.add(Bidirectional(LSTM(32, activation='relu')))\n",
        "# model.add(Dropout(0.2))\n",
        "# model.add(Dense(1, activation='relu'))\n",
        "# model.build(input_shape)"
      ],
      "metadata": {
        "id": "GeHpHPf2MLqf"
      },
      "execution_count": 43,
      "outputs": []
    },
    {
      "cell_type": "code",
      "source": [
        "# Define the Bidirectional LSTM model architecture\n",
        "# model = Sequential()\n",
        "# model.add(LSTM(32, activation='relu', input_shape=(1, 6), return_sequences=True))\n",
        "# model.add(Dropout(0.2))\n",
        "# model.add(LSTM(32, activation='relu'))\n",
        "# model.add(Dropout(0.2))\n",
        "# model.add(Dense(1, activation='relu'))"
      ],
      "metadata": {
        "id": "JBC8oh8u64kb"
      },
      "execution_count": 44,
      "outputs": []
    },
    {
      "cell_type": "code",
      "source": [
        "# Define the Gated Recurrent Unit\n",
        "model = Sequential()\n",
        "model.add(GRU(32, activation='relu', input_shape=(1, 6), return_sequences=True))\n",
        "model.add(Dropout(0.2))\n",
        "model.add(GRU(32, activation='relu'))\n",
        "model.add(Dropout(0.2))\n",
        "model.add(Dense(1, activation='relu'))"
      ],
      "metadata": {
        "colab": {
          "base_uri": "https://localhost:8080/"
        },
        "id": "YcJhuxQ6oVLk",
        "outputId": "998ef4f1-67e8-4422-da1b-65564f14ef15"
      },
      "execution_count": 45,
      "outputs": [
        {
          "output_type": "stream",
          "name": "stderr",
          "text": [
            "WARNING:tensorflow:Layer gru will not use cuDNN kernels since it doesn't meet the criteria. It will use a generic GPU kernel as fallback when running on GPU.\n",
            "WARNING:tensorflow:Layer gru_1 will not use cuDNN kernels since it doesn't meet the criteria. It will use a generic GPU kernel as fallback when running on GPU.\n"
          ]
        }
      ]
    },
    {
      "cell_type": "code",
      "source": [
        "model.summary()"
      ],
      "metadata": {
        "colab": {
          "base_uri": "https://localhost:8080/"
        },
        "id": "TaAk96kFBaNN",
        "outputId": "f07fb9f3-b56a-4111-b08c-5795edf618fb"
      },
      "execution_count": 46,
      "outputs": [
        {
          "output_type": "stream",
          "name": "stdout",
          "text": [
            "Model: \"sequential\"\n",
            "_________________________________________________________________\n",
            " Layer (type)                Output Shape              Param #   \n",
            "=================================================================\n",
            " gru (GRU)                   (None, 1, 32)             3840      \n",
            "                                                                 \n",
            " dropout (Dropout)           (None, 1, 32)             0         \n",
            "                                                                 \n",
            " gru_1 (GRU)                 (None, 32)                6336      \n",
            "                                                                 \n",
            " dropout_1 (Dropout)         (None, 32)                0         \n",
            "                                                                 \n",
            " dense (Dense)               (None, 1)                 33        \n",
            "                                                                 \n",
            "=================================================================\n",
            "Total params: 10,209\n",
            "Trainable params: 10,209\n",
            "Non-trainable params: 0\n",
            "_________________________________________________________________\n"
          ]
        }
      ]
    },
    {
      "cell_type": "code",
      "source": [
        "# Compile the model\n",
        "model.compile(loss='mean_squared_logarithmic_error', optimizer=Adam(learning_rate=0.001), \n",
        "              metrics=[metrics.mean_absolute_error,\n",
        "                       metrics.mean_absolute_percentage_error])"
      ],
      "metadata": {
        "id": "-7t6Px-UMOR3"
      },
      "execution_count": 47,
      "outputs": []
    },
    {
      "cell_type": "code",
      "source": [
        "# Train the model\n",
        "history = model.fit(X_train, y_train, validation_data=(X_val, y_val), batch_size=16, epochs=10)"
      ],
      "metadata": {
        "colab": {
          "base_uri": "https://localhost:8080/"
        },
        "id": "YSduF1ujMQ2v",
        "outputId": "412c4b9b-380b-424a-b648-6976913c322a"
      },
      "execution_count": 48,
      "outputs": [
        {
          "output_type": "stream",
          "name": "stdout",
          "text": [
            "Epoch 1/10\n",
            "52574/52574 [==============================] - 472s 9ms/step - loss: 1.6648 - mean_absolute_error: 30.5688 - mean_absolute_percentage_error: 2906269696.0000 - val_loss: 1.6332 - val_mean_absolute_error: 29.8331 - val_mean_absolute_percentage_error: 3080246528.0000\n",
            "Epoch 2/10\n",
            "52574/52574 [==============================] - 466s 9ms/step - loss: 1.6388 - mean_absolute_error: 30.4515 - mean_absolute_percentage_error: 2901485568.0000 - val_loss: 1.6267 - val_mean_absolute_error: 29.9202 - val_mean_absolute_percentage_error: 3002911744.0000\n",
            "Epoch 3/10\n",
            "52574/52574 [==============================] - 465s 9ms/step - loss: 1.6338 - mean_absolute_error: 30.3762 - mean_absolute_percentage_error: 2891488768.0000 - val_loss: 1.6233 - val_mean_absolute_error: 30.1988 - val_mean_absolute_percentage_error: 2909178368.0000\n",
            "Epoch 4/10\n",
            "52574/52574 [==============================] - 465s 9ms/step - loss: 1.6308 - mean_absolute_error: 30.3361 - mean_absolute_percentage_error: 2886145792.0000 - val_loss: 1.6220 - val_mean_absolute_error: 30.1452 - val_mean_absolute_percentage_error: 2917252864.0000\n",
            "Epoch 5/10\n",
            "52574/52574 [==============================] - 466s 9ms/step - loss: 1.6280 - mean_absolute_error: 30.3016 - mean_absolute_percentage_error: 2879684608.0000 - val_loss: 1.6204 - val_mean_absolute_error: 29.8719 - val_mean_absolute_percentage_error: 2975401728.0000\n",
            "Epoch 6/10\n",
            "52574/52574 [==============================] - 467s 9ms/step - loss: 1.6261 - mean_absolute_error: 30.2676 - mean_absolute_percentage_error: 2875320576.0000 - val_loss: 1.6173 - val_mean_absolute_error: 30.2802 - val_mean_absolute_percentage_error: 2849706752.0000\n",
            "Epoch 7/10\n",
            "52574/52574 [==============================] - 465s 9ms/step - loss: 1.6241 - mean_absolute_error: 30.2458 - mean_absolute_percentage_error: 2870028544.0000 - val_loss: 1.6169 - val_mean_absolute_error: 29.9091 - val_mean_absolute_percentage_error: 2940427776.0000\n",
            "Epoch 8/10\n",
            "52574/52574 [==============================] - 461s 9ms/step - loss: 1.6223 - mean_absolute_error: 30.2157 - mean_absolute_percentage_error: 2866492928.0000 - val_loss: 1.6164 - val_mean_absolute_error: 29.6192 - val_mean_absolute_percentage_error: 3009592320.0000\n",
            "Epoch 9/10\n",
            "52574/52574 [==============================] - 462s 9ms/step - loss: 1.6207 - mean_absolute_error: 30.1926 - mean_absolute_percentage_error: 2862711040.0000 - val_loss: 1.6145 - val_mean_absolute_error: 29.8055 - val_mean_absolute_percentage_error: 2949654272.0000\n",
            "Epoch 10/10\n",
            "52574/52574 [==============================] - 465s 9ms/step - loss: 1.6195 - mean_absolute_error: 30.1620 - mean_absolute_percentage_error: 2863153920.0000 - val_loss: 1.6133 - val_mean_absolute_error: 30.4347 - val_mean_absolute_percentage_error: 2772038400.0000\n"
          ]
        }
      ]
    },
    {
      "cell_type": "code",
      "source": [
        "import matplotlib.pyplot as plt\n",
        "\n",
        "# Retrieve the metrics from the training history\n",
        "train_loss = history.history['loss']\n",
        "val_loss = history.history['val_loss']\n",
        "# train_msle = history.history['mean_squared_logarithmic_error']\n",
        "# val_msle = history.history['val_mean_squared_logarithmic_error']\n",
        "train_mae = history.history['mean_absolute_error']\n",
        "val_mae = history.history['val_mean_absolute_error']\n",
        "train_mape = history.history['mean_absolute_percentage_error']\n",
        "val_mape = history.history['val_mean_absolute_percentage_error']\n",
        "\n",
        "# Plot the training and validation loss\n",
        "plt.plot(train_loss, label='Training Loss')\n",
        "plt.plot(val_loss, label='Validation Loss')\n",
        "plt.legend()\n",
        "plt.title('Training and Validation Loss')\n",
        "plt.xlabel('Epoch')\n",
        "plt.ylabel('Loss')\n",
        "plt.show()\n",
        "\n",
        "# Plot the training and validation mean squared logarithmic error\n",
        "# plt.plot(train_msle, label='Training MSLE')\n",
        "# plt.plot(val_msle, label='Validation MSLE')\n",
        "plt.legend()\n",
        "plt.title('Training and Validation MSLE')\n",
        "plt.xlabel('Epoch')\n",
        "plt.ylabel('MSLE')\n",
        "plt.show()\n",
        "\n",
        "# Plot the training and validation mean absolute error\n",
        "plt.plot(train_mae, label='Training MAE')\n",
        "plt.plot(val_mae, label='Validation MAE')\n",
        "plt.legend()\n",
        "plt.title('Training and Validation MAE')\n",
        "plt.xlabel('Epoch')\n",
        "plt.ylabel('MAE')\n",
        "plt.show()\n",
        "\n",
        "# Plot the training and validation mean absolute percentage error\n",
        "plt.plot(train_mape, label='Training MAPE')\n",
        "plt.plot(val_mape, label='Validation MAPE')\n",
        "plt.legend()\n",
        "plt.title('Training and Validation MAPE')\n",
        "plt.xlabel('Epoch')\n",
        "plt.ylabel('MAPE')\n",
        "plt.show()\n"
      ],
      "metadata": {
        "colab": {
          "base_uri": "https://localhost:8080/",
          "height": 1000
        },
        "id": "MkUduCQuDcBf",
        "outputId": "b9824bed-9dc3-4e2a-873a-456e366530ef"
      },
      "execution_count": 52,
      "outputs": [
        {
          "output_type": "display_data",
          "data": {
            "text/plain": [
              "<Figure size 640x480 with 1 Axes>"
            ],
            "image/png": "[encoded data removed]"
          },
          "metadata": {}
        },
        {
          "output_type": "stream",
          "name": "stderr",
          "text": [
            "WARNING:matplotlib.legend:No artists with labels found to put in legend.  Note that artists whose label start with an underscore are ignored when legend() is called with no argument.\n"
          ]
        },
        {
          "output_type": "display_data",
          "data": {
            "text/plain": [
              "<Figure size 640x480 with 1 Axes>"
            ],
            "image/png": "[encoded data removed]"
          },
          "metadata": {}
        },
        {
          "output_type": "display_data",
          "data": {
            "text/plain": [
              "<Figure size 640x480 with 1 Axes>"
            ],
            "image/png": "[encoded data removed]"
          },
          "metadata": {}
        },
        {
          "output_type": "display_data",
          "data": {
            "text/plain": [
              "<Figure size 640x480 with 1 Axes>"
            ],
            "image/png": "[encoded data removed]"
          },
          "metadata": {}
        }
      ]
    },
    {
      "cell_type": "code",
      "source": [
        "y_pred = model.predict(X_test)"
      ],
      "metadata": {
        "id": "0XbiQarNKaJi"
      },
      "execution_count": null,
      "outputs": []
    },
    {
      "cell_type": "code",
      "source": [
        "print(y_pred)"
      ],
      "metadata": {
        "id": "Wjhonf5_S8W7"
      },
      "execution_count": null,
      "outputs": []
    },
    {
      "cell_type": "code",
      "source": [
        "\n",
        "\n",
        "print(y_pred[:5]) \n",
        "print(y_test[:5])"
      ],
      "metadata": {
        "id": "GppIqkuovscg"
      },
      "execution_count": null,
      "outputs": []
    },
    {
      "cell_type": "code",
      "source": [
        "pred = model.predict(X_test) \n"
      ],
      "metadata": {
        "id": "hI_xApBUvbDl"
      },
      "execution_count": null,
      "outputs": []
    },
    {
      "cell_type": "code",
      "source": [
        "# calculate RMSE and MAE\n",
        "rmse = np.sqrt(metrics.mean_squared_error(y_test, y_pred))\n",
        "mae = metrics.mean_absolute_error(y_test, y_pred)\n",
        "\n",
        "print('RMSE:', rmse)\n",
        "print('MAE:', mae)"
      ],
      "metadata": {
        "id": "-j2XBdmsVEvo"
      },
      "execution_count": null,
      "outputs": []
    }
  ]
}